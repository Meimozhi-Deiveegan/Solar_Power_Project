{
 "cells": [
  {
   "cell_type": "code",
   "execution_count": 1,
   "id": "173fefeb",
   "metadata": {},
   "outputs": [],
   "source": [
    "import pandas as pd\n",
    "import numpy as np\n",
    "import matplotlib.pyplot as plt\n",
    "import seaborn as sns"
   ]
  },
  {
   "cell_type": "code",
   "execution_count": 2,
   "id": "290c11d4",
   "metadata": {},
   "outputs": [],
   "source": [
    "df = pd.read_csv('train (24).csv')"
   ]
  },
  {
   "cell_type": "code",
   "execution_count": 3,
   "id": "972fd5bc",
   "metadata": {},
   "outputs": [
    {
     "data": {
      "text/html": [
       "<div>\n",
       "<style scoped>\n",
       "    .dataframe tbody tr th:only-of-type {\n",
       "        vertical-align: middle;\n",
       "    }\n",
       "\n",
       "    .dataframe tbody tr th {\n",
       "        vertical-align: top;\n",
       "    }\n",
       "\n",
       "    .dataframe thead th {\n",
       "        text-align: right;\n",
       "    }\n",
       "</style>\n",
       "<table border=\"1\" class=\"dataframe\">\n",
       "  <thead>\n",
       "    <tr style=\"text-align: right;\">\n",
       "      <th></th>\n",
       "      <th>Timestamp</th>\n",
       "      <th>Temperature</th>\n",
       "      <th>Dew Point</th>\n",
       "      <th>Surface Albedo</th>\n",
       "      <th>Pressure</th>\n",
       "      <th>Wind Direction</th>\n",
       "      <th>Wind Speed</th>\n",
       "      <th>Clearsky DHI</th>\n",
       "      <th>Clearsky DNI</th>\n",
       "      <th>Clearsky GHI</th>\n",
       "      <th>Fill Flag</th>\n",
       "      <th>Ozone</th>\n",
       "      <th>Cloud Type</th>\n",
       "      <th>Solar Zenith Angle</th>\n",
       "      <th>Precipitable Water</th>\n",
       "      <th>Relative Humidity</th>\n",
       "    </tr>\n",
       "  </thead>\n",
       "  <tbody>\n",
       "    <tr>\n",
       "      <th>0</th>\n",
       "      <td>2019-01-01 00:00:00</td>\n",
       "      <td>12.5</td>\n",
       "      <td>6.9</td>\n",
       "      <td>0.21</td>\n",
       "      <td>1005</td>\n",
       "      <td>121</td>\n",
       "      <td>1.0</td>\n",
       "      <td>0</td>\n",
       "      <td>0</td>\n",
       "      <td>0</td>\n",
       "      <td>0</td>\n",
       "      <td>0.258</td>\n",
       "      <td>1</td>\n",
       "      <td>173.92</td>\n",
       "      <td>1.4</td>\n",
       "      <td>68.82</td>\n",
       "    </tr>\n",
       "    <tr>\n",
       "      <th>1</th>\n",
       "      <td>2019-01-01 00:10:00</td>\n",
       "      <td>12.3</td>\n",
       "      <td>6.9</td>\n",
       "      <td>0.21</td>\n",
       "      <td>1005</td>\n",
       "      <td>122</td>\n",
       "      <td>1.0</td>\n",
       "      <td>0</td>\n",
       "      <td>0</td>\n",
       "      <td>0</td>\n",
       "      <td>0</td>\n",
       "      <td>0.258</td>\n",
       "      <td>1</td>\n",
       "      <td>171.79</td>\n",
       "      <td>1.3</td>\n",
       "      <td>69.73</td>\n",
       "    </tr>\n",
       "    <tr>\n",
       "      <th>2</th>\n",
       "      <td>2019-01-01 00:20:00</td>\n",
       "      <td>12.1</td>\n",
       "      <td>6.9</td>\n",
       "      <td>0.21</td>\n",
       "      <td>1005</td>\n",
       "      <td>124</td>\n",
       "      <td>1.0</td>\n",
       "      <td>0</td>\n",
       "      <td>0</td>\n",
       "      <td>0</td>\n",
       "      <td>0</td>\n",
       "      <td>0.258</td>\n",
       "      <td>1</td>\n",
       "      <td>169.59</td>\n",
       "      <td>1.3</td>\n",
       "      <td>70.65</td>\n",
       "    </tr>\n",
       "    <tr>\n",
       "      <th>3</th>\n",
       "      <td>2019-01-01 00:30:00</td>\n",
       "      <td>12.0</td>\n",
       "      <td>6.9</td>\n",
       "      <td>0.21</td>\n",
       "      <td>1005</td>\n",
       "      <td>125</td>\n",
       "      <td>1.0</td>\n",
       "      <td>0</td>\n",
       "      <td>0</td>\n",
       "      <td>0</td>\n",
       "      <td>0</td>\n",
       "      <td>0.258</td>\n",
       "      <td>1</td>\n",
       "      <td>167.37</td>\n",
       "      <td>1.3</td>\n",
       "      <td>71.11</td>\n",
       "    </tr>\n",
       "    <tr>\n",
       "      <th>4</th>\n",
       "      <td>2019-01-01 00:40:00</td>\n",
       "      <td>11.8</td>\n",
       "      <td>6.9</td>\n",
       "      <td>0.21</td>\n",
       "      <td>1005</td>\n",
       "      <td>126</td>\n",
       "      <td>1.0</td>\n",
       "      <td>0</td>\n",
       "      <td>0</td>\n",
       "      <td>0</td>\n",
       "      <td>0</td>\n",
       "      <td>0.258</td>\n",
       "      <td>1</td>\n",
       "      <td>165.13</td>\n",
       "      <td>1.3</td>\n",
       "      <td>71.91</td>\n",
       "    </tr>\n",
       "  </tbody>\n",
       "</table>\n",
       "</div>"
      ],
      "text/plain": [
       "             Timestamp  Temperature  Dew Point  Surface Albedo  Pressure  \\\n",
       "0  2019-01-01 00:00:00         12.5        6.9            0.21      1005   \n",
       "1  2019-01-01 00:10:00         12.3        6.9            0.21      1005   \n",
       "2  2019-01-01 00:20:00         12.1        6.9            0.21      1005   \n",
       "3  2019-01-01 00:30:00         12.0        6.9            0.21      1005   \n",
       "4  2019-01-01 00:40:00         11.8        6.9            0.21      1005   \n",
       "\n",
       "   Wind Direction  Wind Speed  Clearsky DHI  Clearsky DNI  Clearsky GHI  \\\n",
       "0             121         1.0             0             0             0   \n",
       "1             122         1.0             0             0             0   \n",
       "2             124         1.0             0             0             0   \n",
       "3             125         1.0             0             0             0   \n",
       "4             126         1.0             0             0             0   \n",
       "\n",
       "   Fill Flag  Ozone  Cloud Type  Solar Zenith Angle  Precipitable Water  \\\n",
       "0          0  0.258           1              173.92                 1.4   \n",
       "1          0  0.258           1              171.79                 1.3   \n",
       "2          0  0.258           1              169.59                 1.3   \n",
       "3          0  0.258           1              167.37                 1.3   \n",
       "4          0  0.258           1              165.13                 1.3   \n",
       "\n",
       "   Relative Humidity  \n",
       "0              68.82  \n",
       "1              69.73  \n",
       "2              70.65  \n",
       "3              71.11  \n",
       "4              71.91  "
      ]
     },
     "execution_count": 3,
     "metadata": {},
     "output_type": "execute_result"
    }
   ],
   "source": [
    "df.head()"
   ]
  },
  {
   "cell_type": "raw",
   "id": "9d0a5f9b",
   "metadata": {},
   "source": [
    "Timestamp: Time and date of the recorded data.\n",
    "\n",
    "Temperature: The air temperature at the given timestamp in degrees Celsius.\n",
    "\n",
    "Dew Point: The temperature at which air becomes saturated with moisture and dew forms, measured in degrees Celsius.\n",
    "\n",
    "Surface Albedo: The fraction of solar energy reflected by the Earth's surface, typically a value between 0 and 1.\n",
    "\n",
    "Pressure: Atmospheric pressure at the given timestamp, typically measured in hPa (hectopascals).\n",
    "\n",
    "Wind Direction: The direction from which the wind is blowing, measured in degrees.\n",
    "\n",
    "Wind Speed: The speed of the wind at the given timestamp, typically measured in meters per second.\n",
    "\n",
    "Clearsky DHI: Direct Horizontal Irradiance (DHI) from the sun in the absence of clouds, measured in watts per square meter.\n",
    "\n",
    "Clearsky DNI: Direct Normal Irradiance (DNI) from the sun in the absence of clouds, measured in watts per square meter.\n",
    "\n",
    "Clearsky GHI: Global Horizontal Irradiance (GHI) from the sun in the absence of clouds, measured in watts per square meter.\n",
    "\n",
    "Fill Flag: A flag indicating if any data filling or correction was applied to this particular timestamp.\n",
    "\n",
    "Ozone: The concentration of ozone in the atmosphere, typically measured in Dobson units.\n",
    "\n",
    "Cloud Type: A numerical code representing the type of clouds present in the sky.\n",
    "\n",
    "Solar Zenith Angle: The angle between the zenith (vertical) and the line directly connecting the sun and the observer's location.\n",
    "\n",
    "Precipitable Water: The depth of water that would accumulate on the ground if all the moisture in the atmosphere were to condense, measured in millimeters.\n",
    "Relative Humidity: The ratio of the actual amount of moisture present in the air to the maximum amount the air could hold at that temperature, expressed as a percentage."
   ]
  },
  {
   "cell_type": "code",
   "execution_count": 4,
   "id": "7efa65f5",
   "metadata": {},
   "outputs": [
    {
     "name": "stdout",
     "output_type": "stream",
     "text": [
      "<class 'pandas.core.frame.DataFrame'>\n",
      "RangeIndex: 210240 entries, 0 to 210239\n",
      "Data columns (total 16 columns):\n",
      " #   Column              Non-Null Count   Dtype  \n",
      "---  ------              --------------   -----  \n",
      " 0   Timestamp           210240 non-null  object \n",
      " 1   Temperature         210240 non-null  float64\n",
      " 2   Dew Point           210240 non-null  float64\n",
      " 3   Surface Albedo      210240 non-null  float64\n",
      " 4   Pressure            210240 non-null  int64  \n",
      " 5   Wind Direction      210240 non-null  int64  \n",
      " 6   Wind Speed          210240 non-null  float64\n",
      " 7   Clearsky DHI        210240 non-null  int64  \n",
      " 8   Clearsky DNI        210240 non-null  int64  \n",
      " 9   Clearsky GHI        210240 non-null  int64  \n",
      " 10  Fill Flag           210240 non-null  int64  \n",
      " 11  Ozone               210240 non-null  float64\n",
      " 12  Cloud Type          210240 non-null  int64  \n",
      " 13  Solar Zenith Angle  210240 non-null  float64\n",
      " 14  Precipitable Water  210240 non-null  float64\n",
      " 15  Relative Humidity   210240 non-null  float64\n",
      "dtypes: float64(8), int64(7), object(1)\n",
      "memory usage: 25.7+ MB\n"
     ]
    }
   ],
   "source": [
    "df.info()"
   ]
  },
  {
   "cell_type": "code",
   "execution_count": 5,
   "id": "fb06bd33",
   "metadata": {},
   "outputs": [],
   "source": [
    "data = df.drop(\"Timestamp\", axis=1)"
   ]
  },
  {
   "cell_type": "code",
   "execution_count": 6,
   "id": "3ec0b006",
   "metadata": {},
   "outputs": [
    {
     "data": {
      "text/html": [
       "<div>\n",
       "<style scoped>\n",
       "    .dataframe tbody tr th:only-of-type {\n",
       "        vertical-align: middle;\n",
       "    }\n",
       "\n",
       "    .dataframe tbody tr th {\n",
       "        vertical-align: top;\n",
       "    }\n",
       "\n",
       "    .dataframe thead th {\n",
       "        text-align: right;\n",
       "    }\n",
       "</style>\n",
       "<table border=\"1\" class=\"dataframe\">\n",
       "  <thead>\n",
       "    <tr style=\"text-align: right;\">\n",
       "      <th></th>\n",
       "      <th>Temperature</th>\n",
       "      <th>Dew Point</th>\n",
       "      <th>Surface Albedo</th>\n",
       "      <th>Pressure</th>\n",
       "      <th>Wind Direction</th>\n",
       "      <th>Wind Speed</th>\n",
       "      <th>Clearsky DHI</th>\n",
       "      <th>Clearsky DNI</th>\n",
       "      <th>Clearsky GHI</th>\n",
       "      <th>Fill Flag</th>\n",
       "      <th>Ozone</th>\n",
       "      <th>Cloud Type</th>\n",
       "      <th>Solar Zenith Angle</th>\n",
       "      <th>Precipitable Water</th>\n",
       "      <th>Relative Humidity</th>\n",
       "    </tr>\n",
       "  </thead>\n",
       "  <tbody>\n",
       "    <tr>\n",
       "      <th>0</th>\n",
       "      <td>12.5</td>\n",
       "      <td>6.9</td>\n",
       "      <td>0.21</td>\n",
       "      <td>1005</td>\n",
       "      <td>121</td>\n",
       "      <td>1.0</td>\n",
       "      <td>0</td>\n",
       "      <td>0</td>\n",
       "      <td>0</td>\n",
       "      <td>0</td>\n",
       "      <td>0.258</td>\n",
       "      <td>1</td>\n",
       "      <td>173.92</td>\n",
       "      <td>1.4</td>\n",
       "      <td>68.82</td>\n",
       "    </tr>\n",
       "    <tr>\n",
       "      <th>1</th>\n",
       "      <td>12.3</td>\n",
       "      <td>6.9</td>\n",
       "      <td>0.21</td>\n",
       "      <td>1005</td>\n",
       "      <td>122</td>\n",
       "      <td>1.0</td>\n",
       "      <td>0</td>\n",
       "      <td>0</td>\n",
       "      <td>0</td>\n",
       "      <td>0</td>\n",
       "      <td>0.258</td>\n",
       "      <td>1</td>\n",
       "      <td>171.79</td>\n",
       "      <td>1.3</td>\n",
       "      <td>69.73</td>\n",
       "    </tr>\n",
       "    <tr>\n",
       "      <th>2</th>\n",
       "      <td>12.1</td>\n",
       "      <td>6.9</td>\n",
       "      <td>0.21</td>\n",
       "      <td>1005</td>\n",
       "      <td>124</td>\n",
       "      <td>1.0</td>\n",
       "      <td>0</td>\n",
       "      <td>0</td>\n",
       "      <td>0</td>\n",
       "      <td>0</td>\n",
       "      <td>0.258</td>\n",
       "      <td>1</td>\n",
       "      <td>169.59</td>\n",
       "      <td>1.3</td>\n",
       "      <td>70.65</td>\n",
       "    </tr>\n",
       "    <tr>\n",
       "      <th>3</th>\n",
       "      <td>12.0</td>\n",
       "      <td>6.9</td>\n",
       "      <td>0.21</td>\n",
       "      <td>1005</td>\n",
       "      <td>125</td>\n",
       "      <td>1.0</td>\n",
       "      <td>0</td>\n",
       "      <td>0</td>\n",
       "      <td>0</td>\n",
       "      <td>0</td>\n",
       "      <td>0.258</td>\n",
       "      <td>1</td>\n",
       "      <td>167.37</td>\n",
       "      <td>1.3</td>\n",
       "      <td>71.11</td>\n",
       "    </tr>\n",
       "    <tr>\n",
       "      <th>4</th>\n",
       "      <td>11.8</td>\n",
       "      <td>6.9</td>\n",
       "      <td>0.21</td>\n",
       "      <td>1005</td>\n",
       "      <td>126</td>\n",
       "      <td>1.0</td>\n",
       "      <td>0</td>\n",
       "      <td>0</td>\n",
       "      <td>0</td>\n",
       "      <td>0</td>\n",
       "      <td>0.258</td>\n",
       "      <td>1</td>\n",
       "      <td>165.13</td>\n",
       "      <td>1.3</td>\n",
       "      <td>71.91</td>\n",
       "    </tr>\n",
       "  </tbody>\n",
       "</table>\n",
       "</div>"
      ],
      "text/plain": [
       "   Temperature  Dew Point  Surface Albedo  Pressure  Wind Direction  \\\n",
       "0         12.5        6.9            0.21      1005             121   \n",
       "1         12.3        6.9            0.21      1005             122   \n",
       "2         12.1        6.9            0.21      1005             124   \n",
       "3         12.0        6.9            0.21      1005             125   \n",
       "4         11.8        6.9            0.21      1005             126   \n",
       "\n",
       "   Wind Speed  Clearsky DHI  Clearsky DNI  Clearsky GHI  Fill Flag  Ozone  \\\n",
       "0         1.0             0             0             0          0  0.258   \n",
       "1         1.0             0             0             0          0  0.258   \n",
       "2         1.0             0             0             0          0  0.258   \n",
       "3         1.0             0             0             0          0  0.258   \n",
       "4         1.0             0             0             0          0  0.258   \n",
       "\n",
       "   Cloud Type  Solar Zenith Angle  Precipitable Water  Relative Humidity  \n",
       "0           1              173.92                 1.4              68.82  \n",
       "1           1              171.79                 1.3              69.73  \n",
       "2           1              169.59                 1.3              70.65  \n",
       "3           1              167.37                 1.3              71.11  \n",
       "4           1              165.13                 1.3              71.91  "
      ]
     },
     "execution_count": 6,
     "metadata": {},
     "output_type": "execute_result"
    }
   ],
   "source": [
    "data.head()"
   ]
  },
  {
   "cell_type": "code",
   "execution_count": 7,
   "id": "72aa6ffd",
   "metadata": {},
   "outputs": [
    {
     "data": {
      "text/plain": [
       "Temperature           0\n",
       "Dew Point             0\n",
       "Surface Albedo        0\n",
       "Pressure              0\n",
       "Wind Direction        0\n",
       "Wind Speed            0\n",
       "Clearsky DHI          0\n",
       "Clearsky DNI          0\n",
       "Clearsky GHI          0\n",
       "Fill Flag             0\n",
       "Ozone                 0\n",
       "Cloud Type            0\n",
       "Solar Zenith Angle    0\n",
       "Precipitable Water    0\n",
       "Relative Humidity     0\n",
       "dtype: int64"
      ]
     },
     "execution_count": 7,
     "metadata": {},
     "output_type": "execute_result"
    }
   ],
   "source": [
    "data.isnull().sum()"
   ]
  },
  {
   "cell_type": "code",
   "execution_count": 8,
   "id": "daa51b4f",
   "metadata": {},
   "outputs": [
    {
     "name": "stdout",
     "output_type": "stream",
     "text": [
      "<class 'pandas.core.frame.DataFrame'>\n",
      "RangeIndex: 210240 entries, 0 to 210239\n",
      "Data columns (total 15 columns):\n",
      " #   Column              Non-Null Count   Dtype  \n",
      "---  ------              --------------   -----  \n",
      " 0   Temperature         210240 non-null  float64\n",
      " 1   Dew Point           210240 non-null  float64\n",
      " 2   Surface Albedo      210240 non-null  float64\n",
      " 3   Pressure            210240 non-null  int64  \n",
      " 4   Wind Direction      210240 non-null  int64  \n",
      " 5   Wind Speed          210240 non-null  float64\n",
      " 6   Clearsky DHI        210240 non-null  int64  \n",
      " 7   Clearsky DNI        210240 non-null  int64  \n",
      " 8   Clearsky GHI        210240 non-null  int64  \n",
      " 9   Fill Flag           210240 non-null  int64  \n",
      " 10  Ozone               210240 non-null  float64\n",
      " 11  Cloud Type          210240 non-null  int64  \n",
      " 12  Solar Zenith Angle  210240 non-null  float64\n",
      " 13  Precipitable Water  210240 non-null  float64\n",
      " 14  Relative Humidity   210240 non-null  float64\n",
      "dtypes: float64(8), int64(7)\n",
      "memory usage: 24.1 MB\n"
     ]
    }
   ],
   "source": [
    "data.info()"
   ]
  },
  {
   "cell_type": "code",
   "execution_count": 9,
   "id": "c3b904ee",
   "metadata": {},
   "outputs": [],
   "source": [
    "#Clearsky DHI\n",
    "\n",
    "X = data.drop(['Clearsky DHI', 'Clearsky DNI', 'Clearsky GHI'], axis = 1)\n",
    "y_DHI = data['Clearsky DHI']"
   ]
  },
  {
   "cell_type": "code",
   "execution_count": 10,
   "id": "8d68dd26",
   "metadata": {},
   "outputs": [],
   "source": [
    "#Clearsky DNI\n",
    "\n",
    "y_DNI = data['Clearsky DNI']"
   ]
  },
  {
   "cell_type": "code",
   "execution_count": 11,
   "id": "e855d847",
   "metadata": {},
   "outputs": [],
   "source": [
    "#Clearsky GHI\n",
    "\n",
    "y_GHI = data['Clearsky GHI']"
   ]
  },
  {
   "cell_type": "code",
   "execution_count": 12,
   "id": "cde79177",
   "metadata": {},
   "outputs": [],
   "source": [
    "#standardization\n",
    "\n",
    "from sklearn.preprocessing import StandardScaler\n",
    "\n",
    "sc = StandardScaler()\n",
    "X = sc.fit_transform(X)"
   ]
  },
  {
   "cell_type": "code",
   "execution_count": 13,
   "id": "bc340411",
   "metadata": {},
   "outputs": [
    {
     "data": {
      "text/plain": [
       "array([[-1.65473565, -0.63975669, -0.0777113 , ...,  1.96427707,\n",
       "        -0.87428043,  0.5205199 ],\n",
       "       [-1.6778861 , -0.63975669, -0.0777113 , ...,  1.91457172,\n",
       "        -0.91848999,  0.55116734],\n",
       "       [-1.70103655, -0.63975669, -0.0777113 , ...,  1.86323286,\n",
       "        -0.91848999,  0.58215155],\n",
       "       ...,\n",
       "       [-2.31452344, -0.74723276, -0.0777113 , ...,  2.04338558,\n",
       "        -0.69744219,  1.34362234],\n",
       "       [-2.31452344, -0.76677387, -0.0777113 , ...,  2.04455237,\n",
       "        -0.69744219,  1.29950351],\n",
       "       [-2.31452344, -0.76677387, -0.0777113 , ...,  2.00978197,\n",
       "        -0.69744219,  1.29950351]])"
      ]
     },
     "execution_count": 13,
     "metadata": {},
     "output_type": "execute_result"
    }
   ],
   "source": [
    "X"
   ]
  },
  {
   "cell_type": "code",
   "execution_count": 14,
   "id": "f8955c3a",
   "metadata": {},
   "outputs": [],
   "source": [
    "#train test split\n",
    "\n",
    "from sklearn.model_selection import train_test_split"
   ]
  },
  {
   "cell_type": "code",
   "execution_count": 15,
   "id": "c98b292e",
   "metadata": {},
   "outputs": [],
   "source": [
    "#dhi\n",
    "\n",
    "X_train1, X_test1, y_train1, y_test1 = train_test_split(X, y_DHI, test_size = 0.3, random_state=43)"
   ]
  },
  {
   "cell_type": "code",
   "execution_count": 16,
   "id": "42251041",
   "metadata": {},
   "outputs": [],
   "source": [
    "#dni\n",
    "\n",
    "X_train2, X_test2, y_train2, y_test2 = train_test_split(X, y_DNI, test_size = 0.3, random_state=43)"
   ]
  },
  {
   "cell_type": "code",
   "execution_count": 17,
   "id": "9cf1b10b",
   "metadata": {},
   "outputs": [],
   "source": [
    "#ghi\n",
    "\n",
    "X_train3, X_test3, y_train3, y_test3 = train_test_split(X, y_GHI, test_size = 0.3, random_state=43)"
   ]
  },
  {
   "cell_type": "code",
   "execution_count": 18,
   "id": "2d64adab",
   "metadata": {},
   "outputs": [],
   "source": [
    "from sklearn.ensemble import RandomForestRegressor\n",
    "from sklearn.metrics import *"
   ]
  },
  {
   "cell_type": "code",
   "execution_count": 19,
   "id": "52488f53",
   "metadata": {},
   "outputs": [],
   "source": [
    "model = RandomForestRegressor()"
   ]
  },
  {
   "cell_type": "code",
   "execution_count": 20,
   "id": "495a2c2b",
   "metadata": {},
   "outputs": [],
   "source": [
    "model_dhi = model.fit(X_train1,y_train1)"
   ]
  },
  {
   "cell_type": "code",
   "execution_count": 21,
   "id": "f4751dfe",
   "metadata": {},
   "outputs": [],
   "source": [
    "pred_dhi = model_dhi.predict(X_test1) #y_test1"
   ]
  },
  {
   "cell_type": "code",
   "execution_count": 22,
   "id": "75730143",
   "metadata": {},
   "outputs": [
    {
     "data": {
      "text/plain": [
       "array([  0.  ,   0.  ,   0.  , ..., 329.79, 195.63, 278.27])"
      ]
     },
     "execution_count": 22,
     "metadata": {},
     "output_type": "execute_result"
    }
   ],
   "source": [
    "pred_dhi"
   ]
  },
  {
   "cell_type": "code",
   "execution_count": 23,
   "id": "b2936aad",
   "metadata": {},
   "outputs": [
    {
     "data": {
      "text/plain": [
       "130.56925123351093"
      ]
     },
     "execution_count": 23,
     "metadata": {},
     "output_type": "execute_result"
    }
   ],
   "source": [
    "mean_squared_error(y_test1, pred_dhi)"
   ]
  },
  {
   "cell_type": "code",
   "execution_count": 24,
   "id": "eedd8b54",
   "metadata": {},
   "outputs": [
    {
     "data": {
      "text/plain": [
       "0.9910015508127832"
      ]
     },
     "execution_count": 24,
     "metadata": {},
     "output_type": "execute_result"
    }
   ],
   "source": [
    "r2_score(y_test1, pred_dhi)"
   ]
  },
  {
   "cell_type": "code",
   "execution_count": 25,
   "id": "83b943fd",
   "metadata": {},
   "outputs": [
    {
     "data": {
      "text/plain": [
       "1084.93093408327"
      ]
     },
     "execution_count": 25,
     "metadata": {},
     "output_type": "execute_result"
    }
   ],
   "source": [
    "#dni\n",
    "model2 = RandomForestRegressor()\n",
    "\n",
    "model_dni = model2.fit(X_train2,y_train2)\n",
    "\n",
    "pred_dni = model_dni.predict(X_test2) #y_test2\n",
    "\n",
    "mean_squared_error(pred_dni, y_test2)"
   ]
  },
  {
   "cell_type": "code",
   "execution_count": 26,
   "id": "e8c3b285",
   "metadata": {},
   "outputs": [
    {
     "data": {
      "text/plain": [
       "0.9855686102792094"
      ]
     },
     "execution_count": 26,
     "metadata": {},
     "output_type": "execute_result"
    }
   ],
   "source": [
    "r2_score(pred_dni, y_test2)"
   ]
  },
  {
   "cell_type": "code",
   "execution_count": 27,
   "id": "57d24743",
   "metadata": {},
   "outputs": [
    {
     "data": {
      "text/plain": [
       "120.25745409690512"
      ]
     },
     "execution_count": 27,
     "metadata": {},
     "output_type": "execute_result"
    }
   ],
   "source": [
    "#ghi\n",
    "model3 = RandomForestRegressor()\n",
    "\n",
    "model_ghi = model3.fit(X_train3,y_train3)\n",
    "\n",
    "pred_ghi = model_ghi.predict(X_test3) #y_test3\n",
    "\n",
    "mean_squared_error(pred_ghi, y_test3)"
   ]
  },
  {
   "cell_type": "code",
   "execution_count": 28,
   "id": "7c3a04ca",
   "metadata": {},
   "outputs": [
    {
     "data": {
      "text/plain": [
       "0.9988612161783125"
      ]
     },
     "execution_count": 28,
     "metadata": {},
     "output_type": "execute_result"
    }
   ],
   "source": [
    "r2_score(pred_ghi, y_test3)"
   ]
  },
  {
   "cell_type": "code",
   "execution_count": 29,
   "id": "1a091b15",
   "metadata": {},
   "outputs": [],
   "source": [
    "test = pd.read_csv(\"test (2).csv\")"
   ]
  },
  {
   "cell_type": "code",
   "execution_count": 30,
   "id": "7b669fb9",
   "metadata": {},
   "outputs": [
    {
     "data": {
      "text/html": [
       "<div>\n",
       "<style scoped>\n",
       "    .dataframe tbody tr th:only-of-type {\n",
       "        vertical-align: middle;\n",
       "    }\n",
       "\n",
       "    .dataframe tbody tr th {\n",
       "        vertical-align: top;\n",
       "    }\n",
       "\n",
       "    .dataframe thead th {\n",
       "        text-align: right;\n",
       "    }\n",
       "</style>\n",
       "<table border=\"1\" class=\"dataframe\">\n",
       "  <thead>\n",
       "    <tr style=\"text-align: right;\">\n",
       "      <th></th>\n",
       "      <th>Timestamp</th>\n",
       "      <th>Temperature</th>\n",
       "      <th>Dew Point</th>\n",
       "      <th>Surface Albedo</th>\n",
       "      <th>Pressure</th>\n",
       "      <th>Wind Direction</th>\n",
       "      <th>Wind Speed</th>\n",
       "      <th>Clearsky DHI</th>\n",
       "      <th>Clearsky DNI</th>\n",
       "      <th>Clearsky GHI</th>\n",
       "      <th>Fill Flag</th>\n",
       "      <th>Ozone</th>\n",
       "      <th>Cloud Type</th>\n",
       "      <th>Solar Zenith Angle</th>\n",
       "      <th>Precipitable Water</th>\n",
       "      <th>Relative Humidity</th>\n",
       "    </tr>\n",
       "  </thead>\n",
       "  <tbody>\n",
       "    <tr>\n",
       "      <th>0</th>\n",
       "      <td>2023-01-01 00:00:00</td>\n",
       "      <td>11.3</td>\n",
       "      <td>1.6</td>\n",
       "      <td>0.21</td>\n",
       "      <td>1006</td>\n",
       "      <td>305</td>\n",
       "      <td>1.2</td>\n",
       "      <td>NaN</td>\n",
       "      <td>NaN</td>\n",
       "      <td>NaN</td>\n",
       "      <td>0</td>\n",
       "      <td>0.255</td>\n",
       "      <td>0</td>\n",
       "      <td>173.92</td>\n",
       "      <td>1.4</td>\n",
       "      <td>51.38</td>\n",
       "    </tr>\n",
       "    <tr>\n",
       "      <th>1</th>\n",
       "      <td>2023-01-01 00:10:00</td>\n",
       "      <td>11.2</td>\n",
       "      <td>1.6</td>\n",
       "      <td>0.21</td>\n",
       "      <td>1006</td>\n",
       "      <td>306</td>\n",
       "      <td>1.2</td>\n",
       "      <td>NaN</td>\n",
       "      <td>NaN</td>\n",
       "      <td>NaN</td>\n",
       "      <td>0</td>\n",
       "      <td>0.255</td>\n",
       "      <td>0</td>\n",
       "      <td>171.79</td>\n",
       "      <td>1.4</td>\n",
       "      <td>51.72</td>\n",
       "    </tr>\n",
       "    <tr>\n",
       "      <th>2</th>\n",
       "      <td>2023-01-01 00:20:00</td>\n",
       "      <td>11.1</td>\n",
       "      <td>1.6</td>\n",
       "      <td>0.21</td>\n",
       "      <td>1006</td>\n",
       "      <td>306</td>\n",
       "      <td>1.2</td>\n",
       "      <td>NaN</td>\n",
       "      <td>NaN</td>\n",
       "      <td>NaN</td>\n",
       "      <td>0</td>\n",
       "      <td>0.255</td>\n",
       "      <td>0</td>\n",
       "      <td>169.59</td>\n",
       "      <td>1.4</td>\n",
       "      <td>52.06</td>\n",
       "    </tr>\n",
       "    <tr>\n",
       "      <th>3</th>\n",
       "      <td>2023-01-01 00:30:00</td>\n",
       "      <td>11.0</td>\n",
       "      <td>1.6</td>\n",
       "      <td>0.21</td>\n",
       "      <td>1006</td>\n",
       "      <td>307</td>\n",
       "      <td>1.2</td>\n",
       "      <td>NaN</td>\n",
       "      <td>NaN</td>\n",
       "      <td>NaN</td>\n",
       "      <td>0</td>\n",
       "      <td>0.255</td>\n",
       "      <td>0</td>\n",
       "      <td>167.37</td>\n",
       "      <td>1.4</td>\n",
       "      <td>52.41</td>\n",
       "    </tr>\n",
       "    <tr>\n",
       "      <th>4</th>\n",
       "      <td>2023-01-01 00:40:00</td>\n",
       "      <td>10.9</td>\n",
       "      <td>1.2</td>\n",
       "      <td>0.21</td>\n",
       "      <td>1006</td>\n",
       "      <td>307</td>\n",
       "      <td>1.2</td>\n",
       "      <td>NaN</td>\n",
       "      <td>NaN</td>\n",
       "      <td>NaN</td>\n",
       "      <td>0</td>\n",
       "      <td>0.255</td>\n",
       "      <td>0</td>\n",
       "      <td>165.13</td>\n",
       "      <td>1.4</td>\n",
       "      <td>51.34</td>\n",
       "    </tr>\n",
       "  </tbody>\n",
       "</table>\n",
       "</div>"
      ],
      "text/plain": [
       "             Timestamp  Temperature  Dew Point  Surface Albedo  Pressure  \\\n",
       "0  2023-01-01 00:00:00         11.3        1.6            0.21      1006   \n",
       "1  2023-01-01 00:10:00         11.2        1.6            0.21      1006   \n",
       "2  2023-01-01 00:20:00         11.1        1.6            0.21      1006   \n",
       "3  2023-01-01 00:30:00         11.0        1.6            0.21      1006   \n",
       "4  2023-01-01 00:40:00         10.9        1.2            0.21      1006   \n",
       "\n",
       "   Wind Direction  Wind Speed  Clearsky DHI  Clearsky DNI  Clearsky GHI  \\\n",
       "0             305         1.2           NaN           NaN           NaN   \n",
       "1             306         1.2           NaN           NaN           NaN   \n",
       "2             306         1.2           NaN           NaN           NaN   \n",
       "3             307         1.2           NaN           NaN           NaN   \n",
       "4             307         1.2           NaN           NaN           NaN   \n",
       "\n",
       "   Fill Flag  Ozone  Cloud Type  Solar Zenith Angle  Precipitable Water  \\\n",
       "0          0  0.255           0              173.92                 1.4   \n",
       "1          0  0.255           0              171.79                 1.4   \n",
       "2          0  0.255           0              169.59                 1.4   \n",
       "3          0  0.255           0              167.37                 1.4   \n",
       "4          0  0.255           0              165.13                 1.4   \n",
       "\n",
       "   Relative Humidity  \n",
       "0              51.38  \n",
       "1              51.72  \n",
       "2              52.06  \n",
       "3              52.41  \n",
       "4              51.34  "
      ]
     },
     "execution_count": 30,
     "metadata": {},
     "output_type": "execute_result"
    }
   ],
   "source": [
    "test.head()"
   ]
  },
  {
   "cell_type": "code",
   "execution_count": 31,
   "id": "bedf2ea3",
   "metadata": {},
   "outputs": [],
   "source": [
    "test = test.drop(['Timestamp','Clearsky DHI', 'Clearsky DNI', 'Clearsky GHI'], axis=1)"
   ]
  },
  {
   "cell_type": "code",
   "execution_count": 32,
   "id": "bd911950",
   "metadata": {},
   "outputs": [],
   "source": [
    "test = sc.fit_transform(test)"
   ]
  },
  {
   "cell_type": "code",
   "execution_count": 33,
   "id": "be4cb707",
   "metadata": {},
   "outputs": [],
   "source": [
    "#dhi pred\n",
    "\n",
    "pred1 = model.predict(test)"
   ]
  },
  {
   "cell_type": "code",
   "execution_count": 34,
   "id": "3149e0d9",
   "metadata": {},
   "outputs": [
    {
     "data": {
      "text/plain": [
       "array([0., 0., 0., ..., 0., 0., 0.])"
      ]
     },
     "execution_count": 34,
     "metadata": {},
     "output_type": "execute_result"
    }
   ],
   "source": [
    "pred1"
   ]
  },
  {
   "cell_type": "code",
   "execution_count": 35,
   "id": "d55057fb",
   "metadata": {},
   "outputs": [],
   "source": [
    "#dni\n",
    "\n",
    "pred2 = model2.predict(test)"
   ]
  },
  {
   "cell_type": "code",
   "execution_count": 36,
   "id": "4fcc98ec",
   "metadata": {},
   "outputs": [
    {
     "data": {
      "text/plain": [
       "array([0., 0., 0., ..., 0., 0., 0.])"
      ]
     },
     "execution_count": 36,
     "metadata": {},
     "output_type": "execute_result"
    }
   ],
   "source": [
    "pred2"
   ]
  },
  {
   "cell_type": "code",
   "execution_count": 37,
   "id": "8b519b8a",
   "metadata": {},
   "outputs": [],
   "source": [
    "#ghi\n",
    "\n",
    "pred3 = model3.predict(test)"
   ]
  },
  {
   "cell_type": "code",
   "execution_count": 38,
   "id": "c2972599",
   "metadata": {},
   "outputs": [
    {
     "data": {
      "text/plain": [
       "array([0., 0., 0., ..., 0., 0., 0.])"
      ]
     },
     "execution_count": 38,
     "metadata": {},
     "output_type": "execute_result"
    }
   ],
   "source": [
    "pred3"
   ]
  },
  {
   "cell_type": "code",
   "execution_count": 39,
   "id": "5a64185d",
   "metadata": {},
   "outputs": [
    {
     "data": {
      "text/html": [
       "<div>\n",
       "<style scoped>\n",
       "    .dataframe tbody tr th:only-of-type {\n",
       "        vertical-align: middle;\n",
       "    }\n",
       "\n",
       "    .dataframe tbody tr th {\n",
       "        vertical-align: top;\n",
       "    }\n",
       "\n",
       "    .dataframe thead th {\n",
       "        text-align: right;\n",
       "    }\n",
       "</style>\n",
       "<table border=\"1\" class=\"dataframe\">\n",
       "  <thead>\n",
       "    <tr style=\"text-align: right;\">\n",
       "      <th></th>\n",
       "      <th>0</th>\n",
       "    </tr>\n",
       "  </thead>\n",
       "  <tbody>\n",
       "    <tr>\n",
       "      <th>0</th>\n",
       "      <td>0.0</td>\n",
       "    </tr>\n",
       "    <tr>\n",
       "      <th>1</th>\n",
       "      <td>0.0</td>\n",
       "    </tr>\n",
       "    <tr>\n",
       "      <th>2</th>\n",
       "      <td>0.0</td>\n",
       "    </tr>\n",
       "    <tr>\n",
       "      <th>3</th>\n",
       "      <td>0.0</td>\n",
       "    </tr>\n",
       "    <tr>\n",
       "      <th>4</th>\n",
       "      <td>0.0</td>\n",
       "    </tr>\n",
       "    <tr>\n",
       "      <th>...</th>\n",
       "      <td>...</td>\n",
       "    </tr>\n",
       "    <tr>\n",
       "      <th>52555</th>\n",
       "      <td>0.0</td>\n",
       "    </tr>\n",
       "    <tr>\n",
       "      <th>52556</th>\n",
       "      <td>0.0</td>\n",
       "    </tr>\n",
       "    <tr>\n",
       "      <th>52557</th>\n",
       "      <td>0.0</td>\n",
       "    </tr>\n",
       "    <tr>\n",
       "      <th>52558</th>\n",
       "      <td>0.0</td>\n",
       "    </tr>\n",
       "    <tr>\n",
       "      <th>52559</th>\n",
       "      <td>0.0</td>\n",
       "    </tr>\n",
       "  </tbody>\n",
       "</table>\n",
       "<p>52560 rows × 1 columns</p>\n",
       "</div>"
      ],
      "text/plain": [
       "         0\n",
       "0      0.0\n",
       "1      0.0\n",
       "2      0.0\n",
       "3      0.0\n",
       "4      0.0\n",
       "...    ...\n",
       "52555  0.0\n",
       "52556  0.0\n",
       "52557  0.0\n",
       "52558  0.0\n",
       "52559  0.0\n",
       "\n",
       "[52560 rows x 1 columns]"
      ]
     },
     "execution_count": 39,
     "metadata": {},
     "output_type": "execute_result"
    }
   ],
   "source": [
    "pred1 = pd.DataFrame(pred1)\n",
    "pred1"
   ]
  },
  {
   "cell_type": "code",
   "execution_count": 40,
   "id": "14f368bd",
   "metadata": {},
   "outputs": [],
   "source": [
    "pred1.to_csv(\"pred1.csv\")"
   ]
  },
  {
   "cell_type": "code",
   "execution_count": 41,
   "id": "49275071",
   "metadata": {},
   "outputs": [],
   "source": [
    "#pycaret"
   ]
  },
  {
   "cell_type": "code",
   "execution_count": 42,
   "id": "5d43c1b0",
   "metadata": {},
   "outputs": [
    {
     "name": "stdout",
     "output_type": "stream",
     "text": [
      "Requirement already satisfied: pycaret in c:\\users\\91801\\anaconda3\\lib\\site-packages (3.3.0)\n",
      "Requirement already satisfied: ipython>=5.5.0 in c:\\users\\91801\\anaconda3\\lib\\site-packages (from pycaret) (8.10.0)\n",
      "Requirement already satisfied: ipywidgets>=7.6.5 in c:\\users\\91801\\anaconda3\\lib\\site-packages (from pycaret) (7.6.5)\n",
      "Requirement already satisfied: tqdm>=4.62.0 in c:\\users\\91801\\anaconda3\\lib\\site-packages (from pycaret) (4.64.1)\n",
      "Requirement already satisfied: numpy<1.27,>=1.21 in c:\\users\\91801\\anaconda3\\lib\\site-packages (from pycaret) (1.23.5)\n",
      "Requirement already satisfied: pandas<2.2.0 in c:\\users\\91801\\anaconda3\\lib\\site-packages (from pycaret) (1.5.3)\n",
      "Requirement already satisfied: jinja2>=3 in c:\\users\\91801\\anaconda3\\lib\\site-packages (from pycaret) (3.1.2)\n",
      "Requirement already satisfied: scipy<=1.11.4,>=1.6.1 in c:\\users\\91801\\anaconda3\\lib\\site-packages (from pycaret) (1.10.0)\n",
      "Requirement already satisfied: joblib>=1.2.0 in c:\\users\\91801\\anaconda3\\lib\\site-packages (from pycaret) (1.3.2)\n",
      "Requirement already satisfied: scikit-learn>1.4.0 in c:\\users\\91801\\anaconda3\\lib\\site-packages (from pycaret) (1.4.1.post1)\n",
      "Requirement already satisfied: pyod>=1.1.3 in c:\\users\\91801\\anaconda3\\lib\\site-packages (from pycaret) (1.1.3)\n",
      "Requirement already satisfied: imbalanced-learn>=0.12.0 in c:\\users\\91801\\anaconda3\\lib\\site-packages (from pycaret) (0.12.0)\n",
      "Requirement already satisfied: category-encoders>=2.4.0 in c:\\users\\91801\\anaconda3\\lib\\site-packages (from pycaret) (2.6.3)\n",
      "Requirement already satisfied: lightgbm>=3.0.0 in c:\\users\\91801\\anaconda3\\lib\\site-packages (from pycaret) (4.3.0)\n",
      "Requirement already satisfied: numba>=0.55.0 in c:\\users\\91801\\anaconda3\\lib\\site-packages (from pycaret) (0.56.4)\n",
      "Requirement already satisfied: requests>=2.27.1 in c:\\users\\91801\\anaconda3\\lib\\site-packages (from pycaret) (2.28.1)\n",
      "Requirement already satisfied: psutil>=5.9.0 in c:\\users\\91801\\anaconda3\\lib\\site-packages (from pycaret) (5.9.0)\n",
      "Requirement already satisfied: markupsafe>=2.0.1 in c:\\users\\91801\\anaconda3\\lib\\site-packages (from pycaret) (2.1.1)\n",
      "Requirement already satisfied: importlib-metadata>=4.12.0 in c:\\users\\91801\\anaconda3\\lib\\site-packages (from pycaret) (7.0.1)\n",
      "Requirement already satisfied: nbformat>=4.2.0 in c:\\users\\91801\\anaconda3\\lib\\site-packages (from pycaret) (5.7.0)\n",
      "Requirement already satisfied: cloudpickle in c:\\users\\91801\\anaconda3\\lib\\site-packages (from pycaret) (2.0.0)\n",
      "Requirement already satisfied: deprecation>=2.1.0 in c:\\users\\91801\\anaconda3\\lib\\site-packages (from pycaret) (2.1.0)\n",
      "Requirement already satisfied: xxhash in c:\\users\\91801\\anaconda3\\lib\\site-packages (from pycaret) (3.4.1)\n",
      "Requirement already satisfied: matplotlib<3.8.0 in c:\\users\\91801\\anaconda3\\lib\\site-packages (from pycaret) (3.7.0)\n",
      "Requirement already satisfied: scikit-plot>=0.3.7 in c:\\users\\91801\\anaconda3\\lib\\site-packages (from pycaret) (0.3.7)\n",
      "Requirement already satisfied: yellowbrick>=1.4 in c:\\users\\91801\\anaconda3\\lib\\site-packages (from pycaret) (1.5)\n",
      "Requirement already satisfied: plotly>=5.14.0 in c:\\users\\91801\\anaconda3\\lib\\site-packages (from pycaret) (5.19.0)\n",
      "Requirement already satisfied: kaleido>=0.2.1 in c:\\users\\91801\\anaconda3\\lib\\site-packages (from pycaret) (0.2.1)\n",
      "Requirement already satisfied: schemdraw==0.15 in c:\\users\\91801\\anaconda3\\lib\\site-packages (from pycaret) (0.15)\n",
      "Requirement already satisfied: plotly-resampler>=0.8.3.1 in c:\\users\\91801\\anaconda3\\lib\\site-packages (from pycaret) (0.9.2)\n",
      "Requirement already satisfied: statsmodels>=0.12.1 in c:\\users\\91801\\anaconda3\\lib\\site-packages (from pycaret) (0.13.5)\n",
      "Requirement already satisfied: sktime>=0.26.0 in c:\\users\\91801\\anaconda3\\lib\\site-packages (from pycaret) (0.26.1)\n",
      "Requirement already satisfied: tbats>=1.1.3 in c:\\users\\91801\\anaconda3\\lib\\site-packages (from pycaret) (1.1.3)\n",
      "Requirement already satisfied: pmdarima>=2.0.4 in c:\\users\\91801\\anaconda3\\lib\\site-packages (from pycaret) (2.0.4)\n",
      "Requirement already satisfied: patsy>=0.5.1 in c:\\users\\91801\\anaconda3\\lib\\site-packages (from category-encoders>=2.4.0->pycaret) (0.5.3)\n",
      "Requirement already satisfied: packaging in c:\\users\\91801\\anaconda3\\lib\\site-packages (from deprecation>=2.1.0->pycaret) (22.0)\n",
      "Requirement already satisfied: threadpoolctl>=2.0.0 in c:\\users\\91801\\anaconda3\\lib\\site-packages (from imbalanced-learn>=0.12.0->pycaret) (2.2.0)\n",
      "Requirement already satisfied: zipp>=0.5 in c:\\users\\91801\\anaconda3\\lib\\site-packages (from importlib-metadata>=4.12.0->pycaret) (3.11.0)\n",
      "Requirement already satisfied: backcall in c:\\users\\91801\\anaconda3\\lib\\site-packages (from ipython>=5.5.0->pycaret) (0.2.0)\n",
      "Requirement already satisfied: decorator in c:\\users\\91801\\anaconda3\\lib\\site-packages (from ipython>=5.5.0->pycaret) (5.1.1)\n",
      "Requirement already satisfied: jedi>=0.16 in c:\\users\\91801\\anaconda3\\lib\\site-packages (from ipython>=5.5.0->pycaret) (0.18.1)\n",
      "Requirement already satisfied: matplotlib-inline in c:\\users\\91801\\anaconda3\\lib\\site-packages (from ipython>=5.5.0->pycaret) (0.1.6)\n",
      "Requirement already satisfied: pickleshare in c:\\users\\91801\\anaconda3\\lib\\site-packages (from ipython>=5.5.0->pycaret) (0.7.5)\n",
      "Requirement already satisfied: prompt-toolkit<3.1.0,>=3.0.30 in c:\\users\\91801\\anaconda3\\lib\\site-packages (from ipython>=5.5.0->pycaret) (3.0.36)\n",
      "Requirement already satisfied: pygments>=2.4.0 in c:\\users\\91801\\anaconda3\\lib\\site-packages (from ipython>=5.5.0->pycaret) (2.11.2)\n",
      "Requirement already satisfied: stack-data in c:\\users\\91801\\anaconda3\\lib\\site-packages (from ipython>=5.5.0->pycaret) (0.2.0)\n",
      "Requirement already satisfied: traitlets>=5 in c:\\users\\91801\\anaconda3\\lib\\site-packages (from ipython>=5.5.0->pycaret) (5.7.1)\n",
      "Requirement already satisfied: colorama in c:\\users\\91801\\anaconda3\\lib\\site-packages (from ipython>=5.5.0->pycaret) (0.4.6)\n",
      "Requirement already satisfied: ipykernel>=4.5.1 in c:\\users\\91801\\anaconda3\\lib\\site-packages (from ipywidgets>=7.6.5->pycaret) (6.19.2)\n",
      "Requirement already satisfied: ipython-genutils~=0.2.0 in c:\\users\\91801\\anaconda3\\lib\\site-packages (from ipywidgets>=7.6.5->pycaret) (0.2.0)\n",
      "Requirement already satisfied: widgetsnbextension~=3.5.0 in c:\\users\\91801\\anaconda3\\lib\\site-packages (from ipywidgets>=7.6.5->pycaret) (3.5.2)\n",
      "Requirement already satisfied: jupyterlab-widgets>=1.0.0 in c:\\users\\91801\\anaconda3\\lib\\site-packages (from ipywidgets>=7.6.5->pycaret) (1.0.0)\n",
      "Requirement already satisfied: contourpy>=1.0.1 in c:\\users\\91801\\anaconda3\\lib\\site-packages (from matplotlib<3.8.0->pycaret) (1.0.5)\n",
      "Requirement already satisfied: cycler>=0.10 in c:\\users\\91801\\anaconda3\\lib\\site-packages (from matplotlib<3.8.0->pycaret) (0.11.0)\n",
      "Requirement already satisfied: fonttools>=4.22.0 in c:\\users\\91801\\anaconda3\\lib\\site-packages (from matplotlib<3.8.0->pycaret) (4.25.0)\n",
      "Requirement already satisfied: kiwisolver>=1.0.1 in c:\\users\\91801\\anaconda3\\lib\\site-packages (from matplotlib<3.8.0->pycaret) (1.4.4)\n",
      "Requirement already satisfied: pillow>=6.2.0 in c:\\users\\91801\\anaconda3\\lib\\site-packages (from matplotlib<3.8.0->pycaret) (9.4.0)\n",
      "Requirement already satisfied: pyparsing>=2.3.1 in c:\\users\\91801\\anaconda3\\lib\\site-packages (from matplotlib<3.8.0->pycaret) (3.0.9)\n",
      "Requirement already satisfied: python-dateutil>=2.7 in c:\\users\\91801\\anaconda3\\lib\\site-packages (from matplotlib<3.8.0->pycaret) (2.8.2)\n",
      "Requirement already satisfied: fastjsonschema in c:\\users\\91801\\anaconda3\\lib\\site-packages (from nbformat>=4.2.0->pycaret) (2.16.2)\n",
      "Requirement already satisfied: jsonschema>=2.6 in c:\\users\\91801\\anaconda3\\lib\\site-packages (from nbformat>=4.2.0->pycaret) (4.17.3)\n",
      "Requirement already satisfied: jupyter-core in c:\\users\\91801\\anaconda3\\lib\\site-packages (from nbformat>=4.2.0->pycaret) (5.2.0)\n",
      "Requirement already satisfied: llvmlite<0.40,>=0.39.0dev0 in c:\\users\\91801\\anaconda3\\lib\\site-packages (from numba>=0.55.0->pycaret) (0.39.1)\n",
      "Requirement already satisfied: setuptools in c:\\users\\91801\\anaconda3\\lib\\site-packages (from numba>=0.55.0->pycaret) (65.6.3)\n",
      "Requirement already satisfied: pytz>=2020.1 in c:\\users\\91801\\anaconda3\\lib\\site-packages (from pandas<2.2.0->pycaret) (2022.7)\n",
      "Requirement already satisfied: tenacity>=6.2.0 in c:\\users\\91801\\anaconda3\\lib\\site-packages (from plotly>=5.14.0->pycaret) (8.0.1)\n",
      "Requirement already satisfied: dash>=2.9.0 in c:\\users\\91801\\anaconda3\\lib\\site-packages (from plotly-resampler>=0.8.3.1->pycaret) (2.15.0)\n",
      "Requirement already satisfied: orjson<4.0.0,>=3.8.0 in c:\\users\\91801\\anaconda3\\lib\\site-packages (from plotly-resampler>=0.8.3.1->pycaret) (3.9.15)\n",
      "Requirement already satisfied: tsdownsample==0.1.2 in c:\\users\\91801\\anaconda3\\lib\\site-packages (from plotly-resampler>=0.8.3.1->pycaret) (0.1.2)\n",
      "Requirement already satisfied: Cython!=0.29.18,!=0.29.31,>=0.29 in c:\\users\\91801\\anaconda3\\lib\\site-packages (from pmdarima>=2.0.4->pycaret) (3.0.0)\n",
      "Requirement already satisfied: urllib3 in c:\\users\\91801\\anaconda3\\lib\\site-packages (from pmdarima>=2.0.4->pycaret) (1.26.14)\n",
      "Requirement already satisfied: six in c:\\users\\91801\\anaconda3\\lib\\site-packages (from pyod>=1.1.3->pycaret) (1.16.0)\n",
      "Requirement already satisfied: charset-normalizer<3,>=2 in c:\\users\\91801\\anaconda3\\lib\\site-packages (from requests>=2.27.1->pycaret) (2.0.4)\n",
      "Requirement already satisfied: idna<4,>=2.5 in c:\\users\\91801\\anaconda3\\lib\\site-packages (from requests>=2.27.1->pycaret) (3.4)\n",
      "Requirement already satisfied: certifi>=2017.4.17 in c:\\users\\91801\\anaconda3\\lib\\site-packages (from requests>=2.27.1->pycaret) (2023.7.22)\n",
      "Requirement already satisfied: scikit-base<0.8.0 in c:\\users\\91801\\anaconda3\\lib\\site-packages (from sktime>=0.26.0->pycaret) (0.7.2)\n",
      "Requirement already satisfied: Flask<3.1,>=1.0.4 in c:\\users\\91801\\anaconda3\\lib\\site-packages (from dash>=2.9.0->plotly-resampler>=0.8.3.1->pycaret) (2.2.2)\n",
      "Requirement already satisfied: Werkzeug<3.1 in c:\\users\\91801\\anaconda3\\lib\\site-packages (from dash>=2.9.0->plotly-resampler>=0.8.3.1->pycaret) (2.2.2)\n",
      "Requirement already satisfied: dash-html-components==2.0.0 in c:\\users\\91801\\anaconda3\\lib\\site-packages (from dash>=2.9.0->plotly-resampler>=0.8.3.1->pycaret) (2.0.0)\n",
      "Requirement already satisfied: dash-core-components==2.0.0 in c:\\users\\91801\\anaconda3\\lib\\site-packages (from dash>=2.9.0->plotly-resampler>=0.8.3.1->pycaret) (2.0.0)\n",
      "Requirement already satisfied: dash-table==5.0.0 in c:\\users\\91801\\anaconda3\\lib\\site-packages (from dash>=2.9.0->plotly-resampler>=0.8.3.1->pycaret) (5.0.0)\n",
      "Requirement already satisfied: typing-extensions>=4.1.1 in c:\\users\\91801\\anaconda3\\lib\\site-packages (from dash>=2.9.0->plotly-resampler>=0.8.3.1->pycaret) (4.4.0)\n",
      "Requirement already satisfied: retrying in c:\\users\\91801\\anaconda3\\lib\\site-packages (from dash>=2.9.0->plotly-resampler>=0.8.3.1->pycaret) (1.3.4)\n",
      "Requirement already satisfied: nest-asyncio in c:\\users\\91801\\anaconda3\\lib\\site-packages (from dash>=2.9.0->plotly-resampler>=0.8.3.1->pycaret) (1.5.6)\n",
      "Requirement already satisfied: comm>=0.1.1 in c:\\users\\91801\\anaconda3\\lib\\site-packages (from ipykernel>=4.5.1->ipywidgets>=7.6.5->pycaret) (0.1.2)\n",
      "Requirement already satisfied: debugpy>=1.0 in c:\\users\\91801\\anaconda3\\lib\\site-packages (from ipykernel>=4.5.1->ipywidgets>=7.6.5->pycaret) (1.5.1)\n",
      "Requirement already satisfied: jupyter-client>=6.1.12 in c:\\users\\91801\\anaconda3\\lib\\site-packages (from ipykernel>=4.5.1->ipywidgets>=7.6.5->pycaret) (7.3.4)\n",
      "Requirement already satisfied: pyzmq>=17 in c:\\users\\91801\\anaconda3\\lib\\site-packages (from ipykernel>=4.5.1->ipywidgets>=7.6.5->pycaret) (23.2.0)\n",
      "Requirement already satisfied: tornado>=6.1 in c:\\users\\91801\\anaconda3\\lib\\site-packages (from ipykernel>=4.5.1->ipywidgets>=7.6.5->pycaret) (6.1)\n",
      "Requirement already satisfied: parso<0.9.0,>=0.8.0 in c:\\users\\91801\\anaconda3\\lib\\site-packages (from jedi>=0.16->ipython>=5.5.0->pycaret) (0.8.3)\n",
      "Requirement already satisfied: attrs>=17.4.0 in c:\\users\\91801\\anaconda3\\lib\\site-packages (from jsonschema>=2.6->nbformat>=4.2.0->pycaret) (22.1.0)\n",
      "Requirement already satisfied: pyrsistent!=0.17.0,!=0.17.1,!=0.17.2,>=0.14.0 in c:\\users\\91801\\anaconda3\\lib\\site-packages (from jsonschema>=2.6->nbformat>=4.2.0->pycaret) (0.18.0)\n",
      "Requirement already satisfied: wcwidth in c:\\users\\91801\\anaconda3\\lib\\site-packages (from prompt-toolkit<3.1.0,>=3.0.30->ipython>=5.5.0->pycaret) (0.2.5)\n",
      "Requirement already satisfied: notebook>=4.4.1 in c:\\users\\91801\\anaconda3\\lib\\site-packages (from widgetsnbextension~=3.5.0->ipywidgets>=7.6.5->pycaret) (6.5.2)\n",
      "Requirement already satisfied: platformdirs>=2.5 in c:\\users\\91801\\anaconda3\\lib\\site-packages (from jupyter-core->nbformat>=4.2.0->pycaret) (2.5.2)\n",
      "Requirement already satisfied: pywin32>=1.0 in c:\\users\\91801\\anaconda3\\lib\\site-packages (from jupyter-core->nbformat>=4.2.0->pycaret) (305.1)\n",
      "Requirement already satisfied: executing in c:\\users\\91801\\anaconda3\\lib\\site-packages (from stack-data->ipython>=5.5.0->pycaret) (0.8.3)\n",
      "Requirement already satisfied: asttokens in c:\\users\\91801\\anaconda3\\lib\\site-packages (from stack-data->ipython>=5.5.0->pycaret) (2.0.5)\n",
      "Requirement already satisfied: pure-eval in c:\\users\\91801\\anaconda3\\lib\\site-packages (from stack-data->ipython>=5.5.0->pycaret) (0.2.2)\n",
      "Requirement already satisfied: itsdangerous>=2.0 in c:\\users\\91801\\anaconda3\\lib\\site-packages (from Flask<3.1,>=1.0.4->dash>=2.9.0->plotly-resampler>=0.8.3.1->pycaret) (2.0.1)\n",
      "Requirement already satisfied: click>=8.0 in c:\\users\\91801\\anaconda3\\lib\\site-packages (from Flask<3.1,>=1.0.4->dash>=2.9.0->plotly-resampler>=0.8.3.1->pycaret) (8.0.4)\n",
      "Requirement already satisfied: entrypoints in c:\\users\\91801\\anaconda3\\lib\\site-packages (from jupyter-client>=6.1.12->ipykernel>=4.5.1->ipywidgets>=7.6.5->pycaret) (0.4)\n",
      "Requirement already satisfied: argon2-cffi in c:\\users\\91801\\anaconda3\\lib\\site-packages (from notebook>=4.4.1->widgetsnbextension~=3.5.0->ipywidgets>=7.6.5->pycaret) (21.3.0)\n",
      "Requirement already satisfied: nbconvert>=5 in c:\\users\\91801\\anaconda3\\lib\\site-packages (from notebook>=4.4.1->widgetsnbextension~=3.5.0->ipywidgets>=7.6.5->pycaret) (6.5.4)\n",
      "Requirement already satisfied: Send2Trash>=1.8.0 in c:\\users\\91801\\anaconda3\\lib\\site-packages (from notebook>=4.4.1->widgetsnbextension~=3.5.0->ipywidgets>=7.6.5->pycaret) (1.8.0)\n",
      "Requirement already satisfied: terminado>=0.8.3 in c:\\users\\91801\\anaconda3\\lib\\site-packages (from notebook>=4.4.1->widgetsnbextension~=3.5.0->ipywidgets>=7.6.5->pycaret) (0.17.1)\n",
      "Requirement already satisfied: prometheus-client in c:\\users\\91801\\anaconda3\\lib\\site-packages (from notebook>=4.4.1->widgetsnbextension~=3.5.0->ipywidgets>=7.6.5->pycaret) (0.14.1)\n",
      "Requirement already satisfied: nbclassic>=0.4.7 in c:\\users\\91801\\anaconda3\\lib\\site-packages (from notebook>=4.4.1->widgetsnbextension~=3.5.0->ipywidgets>=7.6.5->pycaret) (0.5.2)\n",
      "Requirement already satisfied: jupyter-server>=1.8 in c:\\users\\91801\\anaconda3\\lib\\site-packages (from nbclassic>=0.4.7->notebook>=4.4.1->widgetsnbextension~=3.5.0->ipywidgets>=7.6.5->pycaret) (1.23.4)\n",
      "Requirement already satisfied: notebook-shim>=0.1.0 in c:\\users\\91801\\anaconda3\\lib\\site-packages (from nbclassic>=0.4.7->notebook>=4.4.1->widgetsnbextension~=3.5.0->ipywidgets>=7.6.5->pycaret) (0.2.2)\n",
      "Requirement already satisfied: lxml in c:\\users\\91801\\anaconda3\\lib\\site-packages (from nbconvert>=5->notebook>=4.4.1->widgetsnbextension~=3.5.0->ipywidgets>=7.6.5->pycaret) (4.9.1)\n",
      "Requirement already satisfied: beautifulsoup4 in c:\\users\\91801\\anaconda3\\lib\\site-packages (from nbconvert>=5->notebook>=4.4.1->widgetsnbextension~=3.5.0->ipywidgets>=7.6.5->pycaret) (4.11.1)\n",
      "Requirement already satisfied: bleach in c:\\users\\91801\\anaconda3\\lib\\site-packages (from nbconvert>=5->notebook>=4.4.1->widgetsnbextension~=3.5.0->ipywidgets>=7.6.5->pycaret) (4.1.0)\n",
      "Requirement already satisfied: defusedxml in c:\\users\\91801\\anaconda3\\lib\\site-packages (from nbconvert>=5->notebook>=4.4.1->widgetsnbextension~=3.5.0->ipywidgets>=7.6.5->pycaret) (0.7.1)\n",
      "Requirement already satisfied: jupyterlab-pygments in c:\\users\\91801\\anaconda3\\lib\\site-packages (from nbconvert>=5->notebook>=4.4.1->widgetsnbextension~=3.5.0->ipywidgets>=7.6.5->pycaret) (0.1.2)\n",
      "Requirement already satisfied: mistune<2,>=0.8.1 in c:\\users\\91801\\anaconda3\\lib\\site-packages (from nbconvert>=5->notebook>=4.4.1->widgetsnbextension~=3.5.0->ipywidgets>=7.6.5->pycaret) (0.8.4)\n",
      "Requirement already satisfied: nbclient>=0.5.0 in c:\\users\\91801\\anaconda3\\lib\\site-packages (from nbconvert>=5->notebook>=4.4.1->widgetsnbextension~=3.5.0->ipywidgets>=7.6.5->pycaret) (0.5.13)\n",
      "Requirement already satisfied: pandocfilters>=1.4.1 in c:\\users\\91801\\anaconda3\\lib\\site-packages (from nbconvert>=5->notebook>=4.4.1->widgetsnbextension~=3.5.0->ipywidgets>=7.6.5->pycaret) (1.5.0)\n",
      "Requirement already satisfied: tinycss2 in c:\\users\\91801\\anaconda3\\lib\\site-packages (from nbconvert>=5->notebook>=4.4.1->widgetsnbextension~=3.5.0->ipywidgets>=7.6.5->pycaret) (1.2.1)\n",
      "Requirement already satisfied: pywinpty>=1.1.0 in c:\\users\\91801\\anaconda3\\lib\\site-packages (from terminado>=0.8.3->notebook>=4.4.1->widgetsnbextension~=3.5.0->ipywidgets>=7.6.5->pycaret) (2.0.10)\n",
      "Requirement already satisfied: argon2-cffi-bindings in c:\\users\\91801\\anaconda3\\lib\\site-packages (from argon2-cffi->notebook>=4.4.1->widgetsnbextension~=3.5.0->ipywidgets>=7.6.5->pycaret) (21.2.0)\n",
      "Requirement already satisfied: anyio<4,>=3.1.0 in c:\\users\\91801\\anaconda3\\lib\\site-packages (from jupyter-server>=1.8->nbclassic>=0.4.7->notebook>=4.4.1->widgetsnbextension~=3.5.0->ipywidgets>=7.6.5->pycaret) (3.5.0)\n",
      "Requirement already satisfied: websocket-client in c:\\users\\91801\\anaconda3\\lib\\site-packages (from jupyter-server>=1.8->nbclassic>=0.4.7->notebook>=4.4.1->widgetsnbextension~=3.5.0->ipywidgets>=7.6.5->pycaret) (0.58.0)\n",
      "Requirement already satisfied: cffi>=1.0.1 in c:\\users\\91801\\anaconda3\\lib\\site-packages (from argon2-cffi-bindings->argon2-cffi->notebook>=4.4.1->widgetsnbextension~=3.5.0->ipywidgets>=7.6.5->pycaret) (1.15.1)\n",
      "Requirement already satisfied: soupsieve>1.2 in c:\\users\\91801\\anaconda3\\lib\\site-packages (from beautifulsoup4->nbconvert>=5->notebook>=4.4.1->widgetsnbextension~=3.5.0->ipywidgets>=7.6.5->pycaret) (2.3.2.post1)\n",
      "Requirement already satisfied: webencodings in c:\\users\\91801\\anaconda3\\lib\\site-packages (from bleach->nbconvert>=5->notebook>=4.4.1->widgetsnbextension~=3.5.0->ipywidgets>=7.6.5->pycaret) (0.5.1)\n",
      "Requirement already satisfied: sniffio>=1.1 in c:\\users\\91801\\anaconda3\\lib\\site-packages (from anyio<4,>=3.1.0->jupyter-server>=1.8->nbclassic>=0.4.7->notebook>=4.4.1->widgetsnbextension~=3.5.0->ipywidgets>=7.6.5->pycaret) (1.2.0)\n",
      "Requirement already satisfied: pycparser in c:\\users\\91801\\anaconda3\\lib\\site-packages (from cffi>=1.0.1->argon2-cffi-bindings->argon2-cffi->notebook>=4.4.1->widgetsnbextension~=3.5.0->ipywidgets>=7.6.5->pycaret) (2.21)\n"
     ]
    }
   ],
   "source": [
    "!pip install pycaret"
   ]
  },
  {
   "cell_type": "code",
   "execution_count": 43,
   "id": "14255b94",
   "metadata": {},
   "outputs": [
    {
     "name": "stdout",
     "output_type": "stream",
     "text": [
      "1.4.1.post1\n"
     ]
    }
   ],
   "source": [
    "import sklearn\n",
    "print(sklearn.__version__)\n"
   ]
  },
  {
   "cell_type": "code",
   "execution_count": 44,
   "id": "63f3df65",
   "metadata": {},
   "outputs": [
    {
     "name": "stdout",
     "output_type": "stream",
     "text": [
      "Requirement already satisfied: pip in c:\\users\\91801\\anaconda3\\lib\\site-packages (24.0)\n"
     ]
    }
   ],
   "source": [
    "!python.exe -m pip install --upgrade pip"
   ]
  },
  {
   "cell_type": "code",
   "execution_count": 45,
   "id": "a0ef677c",
   "metadata": {},
   "outputs": [
    {
     "name": "stdout",
     "output_type": "stream",
     "text": [
      "Requirement already satisfied: scikit-learn in c:\\users\\91801\\anaconda3\\lib\\site-packages (1.4.1.post1)\n",
      "Requirement already satisfied: numpy<2.0,>=1.19.5 in c:\\users\\91801\\anaconda3\\lib\\site-packages (from scikit-learn) (1.23.5)\n",
      "Requirement already satisfied: scipy>=1.6.0 in c:\\users\\91801\\anaconda3\\lib\\site-packages (from scikit-learn) (1.10.0)\n",
      "Requirement already satisfied: joblib>=1.2.0 in c:\\users\\91801\\anaconda3\\lib\\site-packages (from scikit-learn) (1.3.2)\n",
      "Requirement already satisfied: threadpoolctl>=2.0.0 in c:\\users\\91801\\anaconda3\\lib\\site-packages (from scikit-learn) (2.2.0)\n"
     ]
    }
   ],
   "source": [
    "!pip install --upgrade scikit-learn\n"
   ]
  },
  {
   "cell_type": "code",
   "execution_count": 46,
   "id": "0a6f01be",
   "metadata": {},
   "outputs": [],
   "source": [
    "#!pip uninstall scikit-learn\n",
    "#!pip install scikit-learn"
   ]
  },
  {
   "cell_type": "code",
   "execution_count": null,
   "id": "0d4b4f16",
   "metadata": {},
   "outputs": [],
   "source": []
  },
  {
   "cell_type": "code",
   "execution_count": 47,
   "id": "2c1b9f3b",
   "metadata": {},
   "outputs": [],
   "source": [
    "from pycaret.regression import *"
   ]
  },
  {
   "cell_type": "code",
   "execution_count": 48,
   "id": "5d0f5b3e",
   "metadata": {},
   "outputs": [],
   "source": [
    "import pandas as pd\n",
    "data = pd.read_csv(\"train (24).csv\")"
   ]
  },
  {
   "cell_type": "code",
   "execution_count": 49,
   "id": "895cec4a",
   "metadata": {},
   "outputs": [],
   "source": [
    "new = data.drop(['Timestamp', 'Clearsky DHI', 'Clearsky GHI'], axis=1)"
   ]
  },
  {
   "cell_type": "code",
   "execution_count": 50,
   "id": "e86613b3",
   "metadata": {},
   "outputs": [
    {
     "data": {
      "text/html": [
       "<style type=\"text/css\">\n",
       "#T_a4771_row8_col1 {\n",
       "  background-color: lightgreen;\n",
       "}\n",
       "</style>\n",
       "<table id=\"T_a4771\">\n",
       "  <thead>\n",
       "    <tr>\n",
       "      <th class=\"blank level0\" >&nbsp;</th>\n",
       "      <th id=\"T_a4771_level0_col0\" class=\"col_heading level0 col0\" >Description</th>\n",
       "      <th id=\"T_a4771_level0_col1\" class=\"col_heading level0 col1\" >Value</th>\n",
       "    </tr>\n",
       "  </thead>\n",
       "  <tbody>\n",
       "    <tr>\n",
       "      <th id=\"T_a4771_level0_row0\" class=\"row_heading level0 row0\" >0</th>\n",
       "      <td id=\"T_a4771_row0_col0\" class=\"data row0 col0\" >Session id</td>\n",
       "      <td id=\"T_a4771_row0_col1\" class=\"data row0 col1\" >222</td>\n",
       "    </tr>\n",
       "    <tr>\n",
       "      <th id=\"T_a4771_level0_row1\" class=\"row_heading level0 row1\" >1</th>\n",
       "      <td id=\"T_a4771_row1_col0\" class=\"data row1 col0\" >Target</td>\n",
       "      <td id=\"T_a4771_row1_col1\" class=\"data row1 col1\" >Clearsky DNI</td>\n",
       "    </tr>\n",
       "    <tr>\n",
       "      <th id=\"T_a4771_level0_row2\" class=\"row_heading level0 row2\" >2</th>\n",
       "      <td id=\"T_a4771_row2_col0\" class=\"data row2 col0\" >Target type</td>\n",
       "      <td id=\"T_a4771_row2_col1\" class=\"data row2 col1\" >Regression</td>\n",
       "    </tr>\n",
       "    <tr>\n",
       "      <th id=\"T_a4771_level0_row3\" class=\"row_heading level0 row3\" >3</th>\n",
       "      <td id=\"T_a4771_row3_col0\" class=\"data row3 col0\" >Original data shape</td>\n",
       "      <td id=\"T_a4771_row3_col1\" class=\"data row3 col1\" >(210240, 13)</td>\n",
       "    </tr>\n",
       "    <tr>\n",
       "      <th id=\"T_a4771_level0_row4\" class=\"row_heading level0 row4\" >4</th>\n",
       "      <td id=\"T_a4771_row4_col0\" class=\"data row4 col0\" >Transformed data shape</td>\n",
       "      <td id=\"T_a4771_row4_col1\" class=\"data row4 col1\" >(210240, 13)</td>\n",
       "    </tr>\n",
       "    <tr>\n",
       "      <th id=\"T_a4771_level0_row5\" class=\"row_heading level0 row5\" >5</th>\n",
       "      <td id=\"T_a4771_row5_col0\" class=\"data row5 col0\" >Transformed train set shape</td>\n",
       "      <td id=\"T_a4771_row5_col1\" class=\"data row5 col1\" >(147168, 13)</td>\n",
       "    </tr>\n",
       "    <tr>\n",
       "      <th id=\"T_a4771_level0_row6\" class=\"row_heading level0 row6\" >6</th>\n",
       "      <td id=\"T_a4771_row6_col0\" class=\"data row6 col0\" >Transformed test set shape</td>\n",
       "      <td id=\"T_a4771_row6_col1\" class=\"data row6 col1\" >(63072, 13)</td>\n",
       "    </tr>\n",
       "    <tr>\n",
       "      <th id=\"T_a4771_level0_row7\" class=\"row_heading level0 row7\" >7</th>\n",
       "      <td id=\"T_a4771_row7_col0\" class=\"data row7 col0\" >Numeric features</td>\n",
       "      <td id=\"T_a4771_row7_col1\" class=\"data row7 col1\" >12</td>\n",
       "    </tr>\n",
       "    <tr>\n",
       "      <th id=\"T_a4771_level0_row8\" class=\"row_heading level0 row8\" >8</th>\n",
       "      <td id=\"T_a4771_row8_col0\" class=\"data row8 col0\" >Preprocess</td>\n",
       "      <td id=\"T_a4771_row8_col1\" class=\"data row8 col1\" >True</td>\n",
       "    </tr>\n",
       "    <tr>\n",
       "      <th id=\"T_a4771_level0_row9\" class=\"row_heading level0 row9\" >9</th>\n",
       "      <td id=\"T_a4771_row9_col0\" class=\"data row9 col0\" >Imputation type</td>\n",
       "      <td id=\"T_a4771_row9_col1\" class=\"data row9 col1\" >simple</td>\n",
       "    </tr>\n",
       "    <tr>\n",
       "      <th id=\"T_a4771_level0_row10\" class=\"row_heading level0 row10\" >10</th>\n",
       "      <td id=\"T_a4771_row10_col0\" class=\"data row10 col0\" >Numeric imputation</td>\n",
       "      <td id=\"T_a4771_row10_col1\" class=\"data row10 col1\" >mean</td>\n",
       "    </tr>\n",
       "    <tr>\n",
       "      <th id=\"T_a4771_level0_row11\" class=\"row_heading level0 row11\" >11</th>\n",
       "      <td id=\"T_a4771_row11_col0\" class=\"data row11 col0\" >Categorical imputation</td>\n",
       "      <td id=\"T_a4771_row11_col1\" class=\"data row11 col1\" >mode</td>\n",
       "    </tr>\n",
       "    <tr>\n",
       "      <th id=\"T_a4771_level0_row12\" class=\"row_heading level0 row12\" >12</th>\n",
       "      <td id=\"T_a4771_row12_col0\" class=\"data row12 col0\" >Fold Generator</td>\n",
       "      <td id=\"T_a4771_row12_col1\" class=\"data row12 col1\" >KFold</td>\n",
       "    </tr>\n",
       "    <tr>\n",
       "      <th id=\"T_a4771_level0_row13\" class=\"row_heading level0 row13\" >13</th>\n",
       "      <td id=\"T_a4771_row13_col0\" class=\"data row13 col0\" >Fold Number</td>\n",
       "      <td id=\"T_a4771_row13_col1\" class=\"data row13 col1\" >10</td>\n",
       "    </tr>\n",
       "    <tr>\n",
       "      <th id=\"T_a4771_level0_row14\" class=\"row_heading level0 row14\" >14</th>\n",
       "      <td id=\"T_a4771_row14_col0\" class=\"data row14 col0\" >CPU Jobs</td>\n",
       "      <td id=\"T_a4771_row14_col1\" class=\"data row14 col1\" >-1</td>\n",
       "    </tr>\n",
       "    <tr>\n",
       "      <th id=\"T_a4771_level0_row15\" class=\"row_heading level0 row15\" >15</th>\n",
       "      <td id=\"T_a4771_row15_col0\" class=\"data row15 col0\" >Use GPU</td>\n",
       "      <td id=\"T_a4771_row15_col1\" class=\"data row15 col1\" >False</td>\n",
       "    </tr>\n",
       "    <tr>\n",
       "      <th id=\"T_a4771_level0_row16\" class=\"row_heading level0 row16\" >16</th>\n",
       "      <td id=\"T_a4771_row16_col0\" class=\"data row16 col0\" >Log Experiment</td>\n",
       "      <td id=\"T_a4771_row16_col1\" class=\"data row16 col1\" >False</td>\n",
       "    </tr>\n",
       "    <tr>\n",
       "      <th id=\"T_a4771_level0_row17\" class=\"row_heading level0 row17\" >17</th>\n",
       "      <td id=\"T_a4771_row17_col0\" class=\"data row17 col0\" >Experiment Name</td>\n",
       "      <td id=\"T_a4771_row17_col1\" class=\"data row17 col1\" >reg-default-name</td>\n",
       "    </tr>\n",
       "    <tr>\n",
       "      <th id=\"T_a4771_level0_row18\" class=\"row_heading level0 row18\" >18</th>\n",
       "      <td id=\"T_a4771_row18_col0\" class=\"data row18 col0\" >USI</td>\n",
       "      <td id=\"T_a4771_row18_col1\" class=\"data row18 col1\" >51a4</td>\n",
       "    </tr>\n",
       "  </tbody>\n",
       "</table>\n"
      ],
      "text/plain": [
       "<pandas.io.formats.style.Styler at 0x21ecdc409a0>"
      ]
     },
     "metadata": {},
     "output_type": "display_data"
    }
   ],
   "source": [
    "s = setup(new, target='Clearsky DNI',session_id = 222)"
   ]
  },
  {
   "cell_type": "code",
   "execution_count": 51,
   "id": "88e2002f",
   "metadata": {
    "scrolled": false
   },
   "outputs": [
    {
     "data": {
      "text/html": [],
      "text/plain": [
       "<IPython.core.display.HTML object>"
      ]
     },
     "metadata": {},
     "output_type": "display_data"
    },
    {
     "data": {
      "text/html": [
       "<style type=\"text/css\">\n",
       "#T_6e2c3 th {\n",
       "  text-align: left;\n",
       "}\n",
       "#T_6e2c3_row0_col0, #T_6e2c3_row1_col0, #T_6e2c3_row1_col1, #T_6e2c3_row1_col2, #T_6e2c3_row1_col3, #T_6e2c3_row1_col4, #T_6e2c3_row1_col5, #T_6e2c3_row1_col6, #T_6e2c3_row2_col0, #T_6e2c3_row2_col1, #T_6e2c3_row2_col2, #T_6e2c3_row2_col3, #T_6e2c3_row2_col4, #T_6e2c3_row2_col5, #T_6e2c3_row2_col6, #T_6e2c3_row3_col0, #T_6e2c3_row3_col1, #T_6e2c3_row3_col2, #T_6e2c3_row3_col3, #T_6e2c3_row3_col4, #T_6e2c3_row3_col5, #T_6e2c3_row3_col6, #T_6e2c3_row4_col0, #T_6e2c3_row4_col1, #T_6e2c3_row4_col2, #T_6e2c3_row4_col3, #T_6e2c3_row4_col4, #T_6e2c3_row4_col5, #T_6e2c3_row4_col6, #T_6e2c3_row5_col0, #T_6e2c3_row5_col1, #T_6e2c3_row5_col2, #T_6e2c3_row5_col3, #T_6e2c3_row5_col4, #T_6e2c3_row5_col5, #T_6e2c3_row5_col6, #T_6e2c3_row6_col0, #T_6e2c3_row6_col1, #T_6e2c3_row6_col2, #T_6e2c3_row6_col3, #T_6e2c3_row6_col4, #T_6e2c3_row6_col5, #T_6e2c3_row6_col6, #T_6e2c3_row7_col0, #T_6e2c3_row7_col1, #T_6e2c3_row7_col2, #T_6e2c3_row7_col3, #T_6e2c3_row7_col4, #T_6e2c3_row7_col5, #T_6e2c3_row7_col6, #T_6e2c3_row8_col0, #T_6e2c3_row8_col1, #T_6e2c3_row8_col2, #T_6e2c3_row8_col3, #T_6e2c3_row8_col4, #T_6e2c3_row8_col5, #T_6e2c3_row8_col6, #T_6e2c3_row9_col0, #T_6e2c3_row9_col1, #T_6e2c3_row9_col2, #T_6e2c3_row9_col3, #T_6e2c3_row9_col4, #T_6e2c3_row9_col5, #T_6e2c3_row9_col6, #T_6e2c3_row10_col0, #T_6e2c3_row10_col1, #T_6e2c3_row10_col2, #T_6e2c3_row10_col3, #T_6e2c3_row10_col4, #T_6e2c3_row10_col5, #T_6e2c3_row10_col6, #T_6e2c3_row11_col0, #T_6e2c3_row11_col1, #T_6e2c3_row11_col2, #T_6e2c3_row11_col3, #T_6e2c3_row11_col4, #T_6e2c3_row11_col5, #T_6e2c3_row11_col6, #T_6e2c3_row12_col0, #T_6e2c3_row12_col1, #T_6e2c3_row12_col2, #T_6e2c3_row12_col3, #T_6e2c3_row12_col4, #T_6e2c3_row12_col5, #T_6e2c3_row12_col6, #T_6e2c3_row13_col0, #T_6e2c3_row13_col1, #T_6e2c3_row13_col2, #T_6e2c3_row13_col3, #T_6e2c3_row13_col4, #T_6e2c3_row13_col5, #T_6e2c3_row13_col6, #T_6e2c3_row14_col0, #T_6e2c3_row14_col1, #T_6e2c3_row14_col2, #T_6e2c3_row14_col3, #T_6e2c3_row14_col4, #T_6e2c3_row14_col5, #T_6e2c3_row14_col6, #T_6e2c3_row15_col0, #T_6e2c3_row15_col1, #T_6e2c3_row15_col2, #T_6e2c3_row15_col3, #T_6e2c3_row15_col4, #T_6e2c3_row15_col5, #T_6e2c3_row15_col6, #T_6e2c3_row16_col0, #T_6e2c3_row16_col1, #T_6e2c3_row16_col2, #T_6e2c3_row16_col3, #T_6e2c3_row16_col4, #T_6e2c3_row16_col5, #T_6e2c3_row16_col6, #T_6e2c3_row17_col0, #T_6e2c3_row17_col1, #T_6e2c3_row17_col2, #T_6e2c3_row17_col3, #T_6e2c3_row17_col4, #T_6e2c3_row17_col5, #T_6e2c3_row17_col6 {\n",
       "  text-align: left;\n",
       "}\n",
       "#T_6e2c3_row0_col1, #T_6e2c3_row0_col2, #T_6e2c3_row0_col3, #T_6e2c3_row0_col4, #T_6e2c3_row0_col5, #T_6e2c3_row0_col6 {\n",
       "  text-align: left;\n",
       "  background-color: yellow;\n",
       "}\n",
       "#T_6e2c3_row0_col7, #T_6e2c3_row1_col7, #T_6e2c3_row2_col7, #T_6e2c3_row3_col7, #T_6e2c3_row4_col7, #T_6e2c3_row5_col7, #T_6e2c3_row6_col7, #T_6e2c3_row7_col7, #T_6e2c3_row8_col7, #T_6e2c3_row9_col7, #T_6e2c3_row10_col7, #T_6e2c3_row11_col7, #T_6e2c3_row12_col7, #T_6e2c3_row13_col7, #T_6e2c3_row14_col7, #T_6e2c3_row15_col7, #T_6e2c3_row16_col7 {\n",
       "  text-align: left;\n",
       "  background-color: lightgrey;\n",
       "}\n",
       "#T_6e2c3_row17_col7 {\n",
       "  text-align: left;\n",
       "  background-color: yellow;\n",
       "  background-color: lightgrey;\n",
       "}\n",
       "</style>\n",
       "<table id=\"T_6e2c3\">\n",
       "  <thead>\n",
       "    <tr>\n",
       "      <th class=\"blank level0\" >&nbsp;</th>\n",
       "      <th id=\"T_6e2c3_level0_col0\" class=\"col_heading level0 col0\" >Model</th>\n",
       "      <th id=\"T_6e2c3_level0_col1\" class=\"col_heading level0 col1\" >MAE</th>\n",
       "      <th id=\"T_6e2c3_level0_col2\" class=\"col_heading level0 col2\" >MSE</th>\n",
       "      <th id=\"T_6e2c3_level0_col3\" class=\"col_heading level0 col3\" >RMSE</th>\n",
       "      <th id=\"T_6e2c3_level0_col4\" class=\"col_heading level0 col4\" >R2</th>\n",
       "      <th id=\"T_6e2c3_level0_col5\" class=\"col_heading level0 col5\" >RMSLE</th>\n",
       "      <th id=\"T_6e2c3_level0_col6\" class=\"col_heading level0 col6\" >MAPE</th>\n",
       "      <th id=\"T_6e2c3_level0_col7\" class=\"col_heading level0 col7\" >TT (Sec)</th>\n",
       "    </tr>\n",
       "  </thead>\n",
       "  <tbody>\n",
       "    <tr>\n",
       "      <th id=\"T_6e2c3_level0_row0\" class=\"row_heading level0 row0\" >et</th>\n",
       "      <td id=\"T_6e2c3_row0_col0\" class=\"data row0 col0\" >Extra Trees Regressor</td>\n",
       "      <td id=\"T_6e2c3_row0_col1\" class=\"data row0 col1\" >13.5592</td>\n",
       "      <td id=\"T_6e2c3_row0_col2\" class=\"data row0 col2\" >880.5663</td>\n",
       "      <td id=\"T_6e2c3_row0_col3\" class=\"data row0 col3\" >29.6692</td>\n",
       "      <td id=\"T_6e2c3_row0_col4\" class=\"data row0 col4\" >0.9886</td>\n",
       "      <td id=\"T_6e2c3_row0_col5\" class=\"data row0 col5\" >0.2228</td>\n",
       "      <td id=\"T_6e2c3_row0_col6\" class=\"data row0 col6\" >0.2231</td>\n",
       "      <td id=\"T_6e2c3_row0_col7\" class=\"data row0 col7\" >27.0540</td>\n",
       "    </tr>\n",
       "    <tr>\n",
       "      <th id=\"T_6e2c3_level0_row1\" class=\"row_heading level0 row1\" >rf</th>\n",
       "      <td id=\"T_6e2c3_row1_col0\" class=\"data row1 col0\" >Random Forest Regressor</td>\n",
       "      <td id=\"T_6e2c3_row1_col1\" class=\"data row1 col1\" >16.1873</td>\n",
       "      <td id=\"T_6e2c3_row1_col2\" class=\"data row1 col2\" >1157.5538</td>\n",
       "      <td id=\"T_6e2c3_row1_col3\" class=\"data row1 col3\" >34.0182</td>\n",
       "      <td id=\"T_6e2c3_row1_col4\" class=\"data row1 col4\" >0.9850</td>\n",
       "      <td id=\"T_6e2c3_row1_col5\" class=\"data row1 col5\" >0.2287</td>\n",
       "      <td id=\"T_6e2c3_row1_col6\" class=\"data row1 col6\" >0.2378</td>\n",
       "      <td id=\"T_6e2c3_row1_col7\" class=\"data row1 col7\" >59.2880</td>\n",
       "    </tr>\n",
       "    <tr>\n",
       "      <th id=\"T_6e2c3_level0_row2\" class=\"row_heading level0 row2\" >knn</th>\n",
       "      <td id=\"T_6e2c3_row2_col0\" class=\"data row2 col0\" >K Neighbors Regressor</td>\n",
       "      <td id=\"T_6e2c3_row2_col1\" class=\"data row2 col1\" >24.4407</td>\n",
       "      <td id=\"T_6e2c3_row2_col2\" class=\"data row2 col2\" >2372.5839</td>\n",
       "      <td id=\"T_6e2c3_row2_col3\" class=\"data row2 col3\" >48.7053</td>\n",
       "      <td id=\"T_6e2c3_row2_col4\" class=\"data row2 col4\" >0.9693</td>\n",
       "      <td id=\"T_6e2c3_row2_col5\" class=\"data row2 col5\" >0.3794</td>\n",
       "      <td id=\"T_6e2c3_row2_col6\" class=\"data row2 col6\" >0.3144</td>\n",
       "      <td id=\"T_6e2c3_row2_col7\" class=\"data row2 col7\" >0.7800</td>\n",
       "    </tr>\n",
       "    <tr>\n",
       "      <th id=\"T_6e2c3_level0_row3\" class=\"row_heading level0 row3\" >dt</th>\n",
       "      <td id=\"T_6e2c3_row3_col0\" class=\"data row3 col0\" >Decision Tree Regressor</td>\n",
       "      <td id=\"T_6e2c3_row3_col1\" class=\"data row3 col1\" >20.7925</td>\n",
       "      <td id=\"T_6e2c3_row3_col2\" class=\"data row3 col2\" >2569.9238</td>\n",
       "      <td id=\"T_6e2c3_row3_col3\" class=\"data row3 col3\" >50.6883</td>\n",
       "      <td id=\"T_6e2c3_row3_col4\" class=\"data row3 col4\" >0.9668</td>\n",
       "      <td id=\"T_6e2c3_row3_col5\" class=\"data row3 col5\" >0.2999</td>\n",
       "      <td id=\"T_6e2c3_row3_col6\" class=\"data row3 col6\" >0.2870</td>\n",
       "      <td id=\"T_6e2c3_row3_col7\" class=\"data row3 col7\" >0.9860</td>\n",
       "    </tr>\n",
       "    <tr>\n",
       "      <th id=\"T_6e2c3_level0_row4\" class=\"row_heading level0 row4\" >lightgbm</th>\n",
       "      <td id=\"T_6e2c3_row4_col0\" class=\"data row4 col0\" >Light Gradient Boosting Machine</td>\n",
       "      <td id=\"T_6e2c3_row4_col1\" class=\"data row4 col1\" >28.2204</td>\n",
       "      <td id=\"T_6e2c3_row4_col2\" class=\"data row4 col2\" >2618.4455</td>\n",
       "      <td id=\"T_6e2c3_row4_col3\" class=\"data row4 col3\" >51.1684</td>\n",
       "      <td id=\"T_6e2c3_row4_col4\" class=\"data row4 col4\" >0.9661</td>\n",
       "      <td id=\"T_6e2c3_row4_col5\" class=\"data row4 col5\" >0.5334</td>\n",
       "      <td id=\"T_6e2c3_row4_col6\" class=\"data row4 col6\" >0.3155</td>\n",
       "      <td id=\"T_6e2c3_row4_col7\" class=\"data row4 col7\" >1.2260</td>\n",
       "    </tr>\n",
       "    <tr>\n",
       "      <th id=\"T_6e2c3_level0_row5\" class=\"row_heading level0 row5\" >gbr</th>\n",
       "      <td id=\"T_6e2c3_row5_col0\" class=\"data row5 col0\" >Gradient Boosting Regressor</td>\n",
       "      <td id=\"T_6e2c3_row5_col1\" class=\"data row5 col1\" >37.2875</td>\n",
       "      <td id=\"T_6e2c3_row5_col2\" class=\"data row5 col2\" >4036.9912</td>\n",
       "      <td id=\"T_6e2c3_row5_col3\" class=\"data row5 col3\" >63.5352</td>\n",
       "      <td id=\"T_6e2c3_row5_col4\" class=\"data row5 col4\" >0.9478</td>\n",
       "      <td id=\"T_6e2c3_row5_col5\" class=\"data row5 col5\" >1.2359</td>\n",
       "      <td id=\"T_6e2c3_row5_col6\" class=\"data row5 col6\" >0.3904</td>\n",
       "      <td id=\"T_6e2c3_row5_col7\" class=\"data row5 col7\" >17.4520</td>\n",
       "    </tr>\n",
       "    <tr>\n",
       "      <th id=\"T_6e2c3_level0_row6\" class=\"row_heading level0 row6\" >ada</th>\n",
       "      <td id=\"T_6e2c3_row6_col0\" class=\"data row6 col0\" >AdaBoost Regressor</td>\n",
       "      <td id=\"T_6e2c3_row6_col1\" class=\"data row6 col1\" >54.2164</td>\n",
       "      <td id=\"T_6e2c3_row6_col2\" class=\"data row6 col2\" >6051.1131</td>\n",
       "      <td id=\"T_6e2c3_row6_col3\" class=\"data row6 col3\" >77.7704</td>\n",
       "      <td id=\"T_6e2c3_row6_col4\" class=\"data row6 col4\" >0.9218</td>\n",
       "      <td id=\"T_6e2c3_row6_col5\" class=\"data row6 col5\" >2.1744</td>\n",
       "      <td id=\"T_6e2c3_row6_col6\" class=\"data row6 col6\" >0.6882</td>\n",
       "      <td id=\"T_6e2c3_row6_col7\" class=\"data row6 col7\" >10.4130</td>\n",
       "    </tr>\n",
       "    <tr>\n",
       "      <th id=\"T_6e2c3_level0_row7\" class=\"row_heading level0 row7\" >ridge</th>\n",
       "      <td id=\"T_6e2c3_row7_col0\" class=\"data row7 col0\" >Ridge Regression</td>\n",
       "      <td id=\"T_6e2c3_row7_col1\" class=\"data row7 col1\" >100.9771</td>\n",
       "      <td id=\"T_6e2c3_row7_col2\" class=\"data row7 col2\" >15227.2383</td>\n",
       "      <td id=\"T_6e2c3_row7_col3\" class=\"data row7 col3\" >123.3980</td>\n",
       "      <td id=\"T_6e2c3_row7_col4\" class=\"data row7 col4\" >0.8031</td>\n",
       "      <td id=\"T_6e2c3_row7_col5\" class=\"data row7 col5\" >3.0921</td>\n",
       "      <td id=\"T_6e2c3_row7_col6\" class=\"data row7 col6\" >1.7614</td>\n",
       "      <td id=\"T_6e2c3_row7_col7\" class=\"data row7 col7\" >0.2370</td>\n",
       "    </tr>\n",
       "    <tr>\n",
       "      <th id=\"T_6e2c3_level0_row8\" class=\"row_heading level0 row8\" >br</th>\n",
       "      <td id=\"T_6e2c3_row8_col0\" class=\"data row8 col0\" >Bayesian Ridge</td>\n",
       "      <td id=\"T_6e2c3_row8_col1\" class=\"data row8 col1\" >100.9460</td>\n",
       "      <td id=\"T_6e2c3_row8_col2\" class=\"data row8 col2\" >15226.0654</td>\n",
       "      <td id=\"T_6e2c3_row8_col3\" class=\"data row8 col3\" >123.3932</td>\n",
       "      <td id=\"T_6e2c3_row8_col4\" class=\"data row8 col4\" >0.8031</td>\n",
       "      <td id=\"T_6e2c3_row8_col5\" class=\"data row8 col5\" >3.0922</td>\n",
       "      <td id=\"T_6e2c3_row8_col6\" class=\"data row8 col6\" >1.7572</td>\n",
       "      <td id=\"T_6e2c3_row8_col7\" class=\"data row8 col7\" >0.3020</td>\n",
       "    </tr>\n",
       "    <tr>\n",
       "      <th id=\"T_6e2c3_level0_row9\" class=\"row_heading level0 row9\" >lr</th>\n",
       "      <td id=\"T_6e2c3_row9_col0\" class=\"data row9 col0\" >Linear Regression</td>\n",
       "      <td id=\"T_6e2c3_row9_col1\" class=\"data row9 col1\" >100.9448</td>\n",
       "      <td id=\"T_6e2c3_row9_col2\" class=\"data row9 col2\" >15226.0638</td>\n",
       "      <td id=\"T_6e2c3_row9_col3\" class=\"data row9 col3\" >123.3932</td>\n",
       "      <td id=\"T_6e2c3_row9_col4\" class=\"data row9 col4\" >0.8031</td>\n",
       "      <td id=\"T_6e2c3_row9_col5\" class=\"data row9 col5\" >3.0922</td>\n",
       "      <td id=\"T_6e2c3_row9_col6\" class=\"data row9 col6\" >1.7571</td>\n",
       "      <td id=\"T_6e2c3_row9_col7\" class=\"data row9 col7\" >8.5720</td>\n",
       "    </tr>\n",
       "    <tr>\n",
       "      <th id=\"T_6e2c3_level0_row10\" class=\"row_heading level0 row10\" >lar</th>\n",
       "      <td id=\"T_6e2c3_row10_col0\" class=\"data row10 col0\" >Least Angle Regression</td>\n",
       "      <td id=\"T_6e2c3_row10_col1\" class=\"data row10 col1\" >101.4231</td>\n",
       "      <td id=\"T_6e2c3_row10_col2\" class=\"data row10 col2\" >15534.9800</td>\n",
       "      <td id=\"T_6e2c3_row10_col3\" class=\"data row10 col3\" >124.6382</td>\n",
       "      <td id=\"T_6e2c3_row10_col4\" class=\"data row10 col4\" >0.7991</td>\n",
       "      <td id=\"T_6e2c3_row10_col5\" class=\"data row10 col5\" >3.0923</td>\n",
       "      <td id=\"T_6e2c3_row10_col6\" class=\"data row10 col6\" >1.7080</td>\n",
       "      <td id=\"T_6e2c3_row10_col7\" class=\"data row10 col7\" >0.2200</td>\n",
       "    </tr>\n",
       "    <tr>\n",
       "      <th id=\"T_6e2c3_level0_row11\" class=\"row_heading level0 row11\" >lasso</th>\n",
       "      <td id=\"T_6e2c3_row11_col0\" class=\"data row11 col0\" >Lasso Regression</td>\n",
       "      <td id=\"T_6e2c3_row11_col1\" class=\"data row11 col1\" >104.8932</td>\n",
       "      <td id=\"T_6e2c3_row11_col2\" class=\"data row11 col2\" >16247.2504</td>\n",
       "      <td id=\"T_6e2c3_row11_col3\" class=\"data row11 col3\" >127.4637</td>\n",
       "      <td id=\"T_6e2c3_row11_col4\" class=\"data row11 col4\" >0.7899</td>\n",
       "      <td id=\"T_6e2c3_row11_col5\" class=\"data row11 col5\" >3.1147</td>\n",
       "      <td id=\"T_6e2c3_row11_col6\" class=\"data row11 col6\" >1.9128</td>\n",
       "      <td id=\"T_6e2c3_row11_col7\" class=\"data row11 col7\" >0.9130</td>\n",
       "    </tr>\n",
       "    <tr>\n",
       "      <th id=\"T_6e2c3_level0_row12\" class=\"row_heading level0 row12\" >llar</th>\n",
       "      <td id=\"T_6e2c3_row12_col0\" class=\"data row12 col0\" >Lasso Least Angle Regression</td>\n",
       "      <td id=\"T_6e2c3_row12_col1\" class=\"data row12 col1\" >104.8930</td>\n",
       "      <td id=\"T_6e2c3_row12_col2\" class=\"data row12 col2\" >16247.2446</td>\n",
       "      <td id=\"T_6e2c3_row12_col3\" class=\"data row12 col3\" >127.4637</td>\n",
       "      <td id=\"T_6e2c3_row12_col4\" class=\"data row12 col4\" >0.7899</td>\n",
       "      <td id=\"T_6e2c3_row12_col5\" class=\"data row12 col5\" >3.1147</td>\n",
       "      <td id=\"T_6e2c3_row12_col6\" class=\"data row12 col6\" >1.9128</td>\n",
       "      <td id=\"T_6e2c3_row12_col7\" class=\"data row12 col7\" >0.1680</td>\n",
       "    </tr>\n",
       "    <tr>\n",
       "      <th id=\"T_6e2c3_level0_row13\" class=\"row_heading level0 row13\" >en</th>\n",
       "      <td id=\"T_6e2c3_row13_col0\" class=\"data row13 col0\" >Elastic Net</td>\n",
       "      <td id=\"T_6e2c3_row13_col1\" class=\"data row13 col1\" >106.0432</td>\n",
       "      <td id=\"T_6e2c3_row13_col2\" class=\"data row13 col2\" >16486.8028</td>\n",
       "      <td id=\"T_6e2c3_row13_col3\" class=\"data row13 col3\" >128.3999</td>\n",
       "      <td id=\"T_6e2c3_row13_col4\" class=\"data row13 col4\" >0.7868</td>\n",
       "      <td id=\"T_6e2c3_row13_col5\" class=\"data row13 col5\" >3.1206</td>\n",
       "      <td id=\"T_6e2c3_row13_col6\" class=\"data row13 col6\" >2.0444</td>\n",
       "      <td id=\"T_6e2c3_row13_col7\" class=\"data row13 col7\" >0.9350</td>\n",
       "    </tr>\n",
       "    <tr>\n",
       "      <th id=\"T_6e2c3_level0_row14\" class=\"row_heading level0 row14\" >huber</th>\n",
       "      <td id=\"T_6e2c3_row14_col0\" class=\"data row14 col0\" >Huber Regressor</td>\n",
       "      <td id=\"T_6e2c3_row14_col1\" class=\"data row14 col1\" >111.2935</td>\n",
       "      <td id=\"T_6e2c3_row14_col2\" class=\"data row14 col2\" >18098.9601</td>\n",
       "      <td id=\"T_6e2c3_row14_col3\" class=\"data row14 col3\" >134.5311</td>\n",
       "      <td id=\"T_6e2c3_row14_col4\" class=\"data row14 col4\" >0.7659</td>\n",
       "      <td id=\"T_6e2c3_row14_col5\" class=\"data row14 col5\" >3.1804</td>\n",
       "      <td id=\"T_6e2c3_row14_col6\" class=\"data row14 col6\" >1.9157</td>\n",
       "      <td id=\"T_6e2c3_row14_col7\" class=\"data row14 col7\" >2.5530</td>\n",
       "    </tr>\n",
       "    <tr>\n",
       "      <th id=\"T_6e2c3_level0_row15\" class=\"row_heading level0 row15\" >omp</th>\n",
       "      <td id=\"T_6e2c3_row15_col0\" class=\"data row15 col0\" >Orthogonal Matching Pursuit</td>\n",
       "      <td id=\"T_6e2c3_row15_col1\" class=\"data row15 col1\" >116.2484</td>\n",
       "      <td id=\"T_6e2c3_row15_col2\" class=\"data row15 col2\" >19568.6119</td>\n",
       "      <td id=\"T_6e2c3_row15_col3\" class=\"data row15 col3\" >139.8867</td>\n",
       "      <td id=\"T_6e2c3_row15_col4\" class=\"data row15 col4\" >0.7469</td>\n",
       "      <td id=\"T_6e2c3_row15_col5\" class=\"data row15 col5\" >3.1844</td>\n",
       "      <td id=\"T_6e2c3_row15_col6\" class=\"data row15 col6\" >2.4702</td>\n",
       "      <td id=\"T_6e2c3_row15_col7\" class=\"data row15 col7\" >0.2040</td>\n",
       "    </tr>\n",
       "    <tr>\n",
       "      <th id=\"T_6e2c3_level0_row16\" class=\"row_heading level0 row16\" >par</th>\n",
       "      <td id=\"T_6e2c3_row16_col0\" class=\"data row16 col0\" >Passive Aggressive Regressor</td>\n",
       "      <td id=\"T_6e2c3_row16_col1\" class=\"data row16 col1\" >133.9589</td>\n",
       "      <td id=\"T_6e2c3_row16_col2\" class=\"data row16 col2\" >27586.5999</td>\n",
       "      <td id=\"T_6e2c3_row16_col3\" class=\"data row16 col3\" >160.1619</td>\n",
       "      <td id=\"T_6e2c3_row16_col4\" class=\"data row16 col4\" >0.6428</td>\n",
       "      <td id=\"T_6e2c3_row16_col5\" class=\"data row16 col5\" >3.3097</td>\n",
       "      <td id=\"T_6e2c3_row16_col6\" class=\"data row16 col6\" >2.1409</td>\n",
       "      <td id=\"T_6e2c3_row16_col7\" class=\"data row16 col7\" >0.4510</td>\n",
       "    </tr>\n",
       "    <tr>\n",
       "      <th id=\"T_6e2c3_level0_row17\" class=\"row_heading level0 row17\" >dummy</th>\n",
       "      <td id=\"T_6e2c3_row17_col0\" class=\"data row17 col0\" >Dummy Regressor</td>\n",
       "      <td id=\"T_6e2c3_row17_col1\" class=\"data row17 col1\" >251.6566</td>\n",
       "      <td id=\"T_6e2c3_row17_col2\" class=\"data row17 col2\" >77333.1447</td>\n",
       "      <td id=\"T_6e2c3_row17_col3\" class=\"data row17 col3\" >278.0870</td>\n",
       "      <td id=\"T_6e2c3_row17_col4\" class=\"data row17 col4\" >-0.0000</td>\n",
       "      <td id=\"T_6e2c3_row17_col5\" class=\"data row17 col5\" >3.9288</td>\n",
       "      <td id=\"T_6e2c3_row17_col6\" class=\"data row17 col6\" >2.5075</td>\n",
       "      <td id=\"T_6e2c3_row17_col7\" class=\"data row17 col7\" >0.1360</td>\n",
       "    </tr>\n",
       "  </tbody>\n",
       "</table>\n"
      ],
      "text/plain": [
       "<pandas.io.formats.style.Styler at 0x21ec7f1b550>"
      ]
     },
     "metadata": {},
     "output_type": "display_data"
    },
    {
     "data": {
      "application/vnd.jupyter.widget-view+json": {
       "model_id": "",
       "version_major": 2,
       "version_minor": 0
      },
      "text/plain": [
       "Processing:   0%|          | 0/77 [00:00<?, ?it/s]"
      ]
     },
     "metadata": {},
     "output_type": "display_data"
    }
   ],
   "source": [
    "best = compare_models()"
   ]
  },
  {
   "cell_type": "code",
   "execution_count": null,
   "id": "30f34ab2",
   "metadata": {},
   "outputs": [],
   "source": []
  }
 ],
 "metadata": {
  "kernelspec": {
   "display_name": "Python 3 (ipykernel)",
   "language": "python",
   "name": "python3"
  },
  "language_info": {
   "codemirror_mode": {
    "name": "ipython",
    "version": 3
   },
   "file_extension": ".py",
   "mimetype": "text/x-python",
   "name": "python",
   "nbconvert_exporter": "python",
   "pygments_lexer": "ipython3",
   "version": "3.10.9"
  }
 },
 "nbformat": 4,
 "nbformat_minor": 5
}
