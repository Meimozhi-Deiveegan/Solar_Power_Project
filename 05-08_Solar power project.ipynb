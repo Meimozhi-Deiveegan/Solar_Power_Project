{
 "cells": [
  {
   "cell_type": "code",
   "execution_count": 1,
   "id": "173fefeb",
   "metadata": {},
   "outputs": [],
   "source": [
    "import pandas as pd\n",
    "import numpy as np\n",
    "import matplotlib.pyplot as plt\n",
    "import seaborn as sns"
   ]
  },
  {
   "cell_type": "code",
   "execution_count": 2,
   "id": "290c11d4",
   "metadata": {},
   "outputs": [],
   "source": [
    "df = pd.read_csv('train (24).csv')"
   ]
  },
  {
   "cell_type": "code",
   "execution_count": 3,
   "id": "972fd5bc",
   "metadata": {},
   "outputs": [
    {
     "data": {
      "text/html": [
       "<div>\n",
       "<style scoped>\n",
       "    .dataframe tbody tr th:only-of-type {\n",
       "        vertical-align: middle;\n",
       "    }\n",
       "\n",
       "    .dataframe tbody tr th {\n",
       "        vertical-align: top;\n",
       "    }\n",
       "\n",
       "    .dataframe thead th {\n",
       "        text-align: right;\n",
       "    }\n",
       "</style>\n",
       "<table border=\"1\" class=\"dataframe\">\n",
       "  <thead>\n",
       "    <tr style=\"text-align: right;\">\n",
       "      <th></th>\n",
       "      <th>Timestamp</th>\n",
       "      <th>Temperature</th>\n",
       "      <th>Dew Point</th>\n",
       "      <th>Surface Albedo</th>\n",
       "      <th>Pressure</th>\n",
       "      <th>Wind Direction</th>\n",
       "      <th>Wind Speed</th>\n",
       "      <th>Clearsky DHI</th>\n",
       "      <th>Clearsky DNI</th>\n",
       "      <th>Clearsky GHI</th>\n",
       "      <th>Fill Flag</th>\n",
       "      <th>Ozone</th>\n",
       "      <th>Cloud Type</th>\n",
       "      <th>Solar Zenith Angle</th>\n",
       "      <th>Precipitable Water</th>\n",
       "      <th>Relative Humidity</th>\n",
       "    </tr>\n",
       "  </thead>\n",
       "  <tbody>\n",
       "    <tr>\n",
       "      <th>0</th>\n",
       "      <td>2019-01-01 00:00:00</td>\n",
       "      <td>12.5</td>\n",
       "      <td>6.9</td>\n",
       "      <td>0.21</td>\n",
       "      <td>1005</td>\n",
       "      <td>121</td>\n",
       "      <td>1.0</td>\n",
       "      <td>0</td>\n",
       "      <td>0</td>\n",
       "      <td>0</td>\n",
       "      <td>0</td>\n",
       "      <td>0.258</td>\n",
       "      <td>1</td>\n",
       "      <td>173.92</td>\n",
       "      <td>1.4</td>\n",
       "      <td>68.82</td>\n",
       "    </tr>\n",
       "    <tr>\n",
       "      <th>1</th>\n",
       "      <td>2019-01-01 00:10:00</td>\n",
       "      <td>12.3</td>\n",
       "      <td>6.9</td>\n",
       "      <td>0.21</td>\n",
       "      <td>1005</td>\n",
       "      <td>122</td>\n",
       "      <td>1.0</td>\n",
       "      <td>0</td>\n",
       "      <td>0</td>\n",
       "      <td>0</td>\n",
       "      <td>0</td>\n",
       "      <td>0.258</td>\n",
       "      <td>1</td>\n",
       "      <td>171.79</td>\n",
       "      <td>1.3</td>\n",
       "      <td>69.73</td>\n",
       "    </tr>\n",
       "    <tr>\n",
       "      <th>2</th>\n",
       "      <td>2019-01-01 00:20:00</td>\n",
       "      <td>12.1</td>\n",
       "      <td>6.9</td>\n",
       "      <td>0.21</td>\n",
       "      <td>1005</td>\n",
       "      <td>124</td>\n",
       "      <td>1.0</td>\n",
       "      <td>0</td>\n",
       "      <td>0</td>\n",
       "      <td>0</td>\n",
       "      <td>0</td>\n",
       "      <td>0.258</td>\n",
       "      <td>1</td>\n",
       "      <td>169.59</td>\n",
       "      <td>1.3</td>\n",
       "      <td>70.65</td>\n",
       "    </tr>\n",
       "    <tr>\n",
       "      <th>3</th>\n",
       "      <td>2019-01-01 00:30:00</td>\n",
       "      <td>12.0</td>\n",
       "      <td>6.9</td>\n",
       "      <td>0.21</td>\n",
       "      <td>1005</td>\n",
       "      <td>125</td>\n",
       "      <td>1.0</td>\n",
       "      <td>0</td>\n",
       "      <td>0</td>\n",
       "      <td>0</td>\n",
       "      <td>0</td>\n",
       "      <td>0.258</td>\n",
       "      <td>1</td>\n",
       "      <td>167.37</td>\n",
       "      <td>1.3</td>\n",
       "      <td>71.11</td>\n",
       "    </tr>\n",
       "    <tr>\n",
       "      <th>4</th>\n",
       "      <td>2019-01-01 00:40:00</td>\n",
       "      <td>11.8</td>\n",
       "      <td>6.9</td>\n",
       "      <td>0.21</td>\n",
       "      <td>1005</td>\n",
       "      <td>126</td>\n",
       "      <td>1.0</td>\n",
       "      <td>0</td>\n",
       "      <td>0</td>\n",
       "      <td>0</td>\n",
       "      <td>0</td>\n",
       "      <td>0.258</td>\n",
       "      <td>1</td>\n",
       "      <td>165.13</td>\n",
       "      <td>1.3</td>\n",
       "      <td>71.91</td>\n",
       "    </tr>\n",
       "  </tbody>\n",
       "</table>\n",
       "</div>"
      ],
      "text/plain": [
       "             Timestamp  Temperature  Dew Point  Surface Albedo  Pressure  \\\n",
       "0  2019-01-01 00:00:00         12.5        6.9            0.21      1005   \n",
       "1  2019-01-01 00:10:00         12.3        6.9            0.21      1005   \n",
       "2  2019-01-01 00:20:00         12.1        6.9            0.21      1005   \n",
       "3  2019-01-01 00:30:00         12.0        6.9            0.21      1005   \n",
       "4  2019-01-01 00:40:00         11.8        6.9            0.21      1005   \n",
       "\n",
       "   Wind Direction  Wind Speed  Clearsky DHI  Clearsky DNI  Clearsky GHI  \\\n",
       "0             121         1.0             0             0             0   \n",
       "1             122         1.0             0             0             0   \n",
       "2             124         1.0             0             0             0   \n",
       "3             125         1.0             0             0             0   \n",
       "4             126         1.0             0             0             0   \n",
       "\n",
       "   Fill Flag  Ozone  Cloud Type  Solar Zenith Angle  Precipitable Water  \\\n",
       "0          0  0.258           1              173.92                 1.4   \n",
       "1          0  0.258           1              171.79                 1.3   \n",
       "2          0  0.258           1              169.59                 1.3   \n",
       "3          0  0.258           1              167.37                 1.3   \n",
       "4          0  0.258           1              165.13                 1.3   \n",
       "\n",
       "   Relative Humidity  \n",
       "0              68.82  \n",
       "1              69.73  \n",
       "2              70.65  \n",
       "3              71.11  \n",
       "4              71.91  "
      ]
     },
     "execution_count": 3,
     "metadata": {},
     "output_type": "execute_result"
    }
   ],
   "source": [
    "df.head()"
   ]
  },
  {
   "cell_type": "raw",
   "id": "9d0a5f9b",
   "metadata": {},
   "source": [
    "Timestamp: Time and date of the recorded data.\n",
    "\n",
    "Temperature: The air temperature at the given timestamp in degrees Celsius.\n",
    "\n",
    "Dew Point: The temperature at which air becomes saturated with moisture and dew forms, measured in degrees Celsius.\n",
    "\n",
    "Surface Albedo: The fraction of solar energy reflected by the Earth's surface, typically a value between 0 and 1.\n",
    "\n",
    "Pressure: Atmospheric pressure at the given timestamp, typically measured in hPa (hectopascals).\n",
    "\n",
    "Wind Direction: The direction from which the wind is blowing, measured in degrees.\n",
    "\n",
    "Wind Speed: The speed of the wind at the given timestamp, typically measured in meters per second.\n",
    "\n",
    "Clearsky DHI: Direct Horizontal Irradiance (DHI) from the sun in the absence of clouds, measured in watts per square meter.\n",
    "\n",
    "Clearsky DNI: Direct Normal Irradiance (DNI) from the sun in the absence of clouds, measured in watts per square meter.\n",
    "\n",
    "Clearsky GHI: Global Horizontal Irradiance (GHI) from the sun in the absence of clouds, measured in watts per square meter.\n",
    "\n",
    "Fill Flag: A flag indicating if any data filling or correction was applied to this particular timestamp.\n",
    "\n",
    "Ozone: The concentration of ozone in the atmosphere, typically measured in Dobson units.\n",
    "\n",
    "Cloud Type: A numerical code representing the type of clouds present in the sky.\n",
    "\n",
    "Solar Zenith Angle: The angle between the zenith (vertical) and the line directly connecting the sun and the observer's location.\n",
    "\n",
    "Precipitable Water: The depth of water that would accumulate on the ground if all the moisture in the atmosphere were to condense, measured in millimeters.\n",
    "Relative Humidity: The ratio of the actual amount of moisture present in the air to the maximum amount the air could hold at that temperature, expressed as a percentage."
   ]
  },
  {
   "cell_type": "code",
   "execution_count": 4,
   "id": "7efa65f5",
   "metadata": {},
   "outputs": [
    {
     "name": "stdout",
     "output_type": "stream",
     "text": [
      "<class 'pandas.core.frame.DataFrame'>\n",
      "RangeIndex: 210240 entries, 0 to 210239\n",
      "Data columns (total 16 columns):\n",
      " #   Column              Non-Null Count   Dtype  \n",
      "---  ------              --------------   -----  \n",
      " 0   Timestamp           210240 non-null  object \n",
      " 1   Temperature         210240 non-null  float64\n",
      " 2   Dew Point           210240 non-null  float64\n",
      " 3   Surface Albedo      210240 non-null  float64\n",
      " 4   Pressure            210240 non-null  int64  \n",
      " 5   Wind Direction      210240 non-null  int64  \n",
      " 6   Wind Speed          210240 non-null  float64\n",
      " 7   Clearsky DHI        210240 non-null  int64  \n",
      " 8   Clearsky DNI        210240 non-null  int64  \n",
      " 9   Clearsky GHI        210240 non-null  int64  \n",
      " 10  Fill Flag           210240 non-null  int64  \n",
      " 11  Ozone               210240 non-null  float64\n",
      " 12  Cloud Type          210240 non-null  int64  \n",
      " 13  Solar Zenith Angle  210240 non-null  float64\n",
      " 14  Precipitable Water  210240 non-null  float64\n",
      " 15  Relative Humidity   210240 non-null  float64\n",
      "dtypes: float64(8), int64(7), object(1)\n",
      "memory usage: 25.7+ MB\n"
     ]
    }
   ],
   "source": [
    "df.info()"
   ]
  },
  {
   "cell_type": "code",
   "execution_count": 5,
   "id": "fb06bd33",
   "metadata": {},
   "outputs": [],
   "source": [
    "data = df.drop(\"Timestamp\", axis=1)"
   ]
  },
  {
   "cell_type": "code",
   "execution_count": 6,
   "id": "3ec0b006",
   "metadata": {},
   "outputs": [
    {
     "data": {
      "text/html": [
       "<div>\n",
       "<style scoped>\n",
       "    .dataframe tbody tr th:only-of-type {\n",
       "        vertical-align: middle;\n",
       "    }\n",
       "\n",
       "    .dataframe tbody tr th {\n",
       "        vertical-align: top;\n",
       "    }\n",
       "\n",
       "    .dataframe thead th {\n",
       "        text-align: right;\n",
       "    }\n",
       "</style>\n",
       "<table border=\"1\" class=\"dataframe\">\n",
       "  <thead>\n",
       "    <tr style=\"text-align: right;\">\n",
       "      <th></th>\n",
       "      <th>Temperature</th>\n",
       "      <th>Dew Point</th>\n",
       "      <th>Surface Albedo</th>\n",
       "      <th>Pressure</th>\n",
       "      <th>Wind Direction</th>\n",
       "      <th>Wind Speed</th>\n",
       "      <th>Clearsky DHI</th>\n",
       "      <th>Clearsky DNI</th>\n",
       "      <th>Clearsky GHI</th>\n",
       "      <th>Fill Flag</th>\n",
       "      <th>Ozone</th>\n",
       "      <th>Cloud Type</th>\n",
       "      <th>Solar Zenith Angle</th>\n",
       "      <th>Precipitable Water</th>\n",
       "      <th>Relative Humidity</th>\n",
       "    </tr>\n",
       "  </thead>\n",
       "  <tbody>\n",
       "    <tr>\n",
       "      <th>0</th>\n",
       "      <td>12.5</td>\n",
       "      <td>6.9</td>\n",
       "      <td>0.21</td>\n",
       "      <td>1005</td>\n",
       "      <td>121</td>\n",
       "      <td>1.0</td>\n",
       "      <td>0</td>\n",
       "      <td>0</td>\n",
       "      <td>0</td>\n",
       "      <td>0</td>\n",
       "      <td>0.258</td>\n",
       "      <td>1</td>\n",
       "      <td>173.92</td>\n",
       "      <td>1.4</td>\n",
       "      <td>68.82</td>\n",
       "    </tr>\n",
       "    <tr>\n",
       "      <th>1</th>\n",
       "      <td>12.3</td>\n",
       "      <td>6.9</td>\n",
       "      <td>0.21</td>\n",
       "      <td>1005</td>\n",
       "      <td>122</td>\n",
       "      <td>1.0</td>\n",
       "      <td>0</td>\n",
       "      <td>0</td>\n",
       "      <td>0</td>\n",
       "      <td>0</td>\n",
       "      <td>0.258</td>\n",
       "      <td>1</td>\n",
       "      <td>171.79</td>\n",
       "      <td>1.3</td>\n",
       "      <td>69.73</td>\n",
       "    </tr>\n",
       "    <tr>\n",
       "      <th>2</th>\n",
       "      <td>12.1</td>\n",
       "      <td>6.9</td>\n",
       "      <td>0.21</td>\n",
       "      <td>1005</td>\n",
       "      <td>124</td>\n",
       "      <td>1.0</td>\n",
       "      <td>0</td>\n",
       "      <td>0</td>\n",
       "      <td>0</td>\n",
       "      <td>0</td>\n",
       "      <td>0.258</td>\n",
       "      <td>1</td>\n",
       "      <td>169.59</td>\n",
       "      <td>1.3</td>\n",
       "      <td>70.65</td>\n",
       "    </tr>\n",
       "    <tr>\n",
       "      <th>3</th>\n",
       "      <td>12.0</td>\n",
       "      <td>6.9</td>\n",
       "      <td>0.21</td>\n",
       "      <td>1005</td>\n",
       "      <td>125</td>\n",
       "      <td>1.0</td>\n",
       "      <td>0</td>\n",
       "      <td>0</td>\n",
       "      <td>0</td>\n",
       "      <td>0</td>\n",
       "      <td>0.258</td>\n",
       "      <td>1</td>\n",
       "      <td>167.37</td>\n",
       "      <td>1.3</td>\n",
       "      <td>71.11</td>\n",
       "    </tr>\n",
       "    <tr>\n",
       "      <th>4</th>\n",
       "      <td>11.8</td>\n",
       "      <td>6.9</td>\n",
       "      <td>0.21</td>\n",
       "      <td>1005</td>\n",
       "      <td>126</td>\n",
       "      <td>1.0</td>\n",
       "      <td>0</td>\n",
       "      <td>0</td>\n",
       "      <td>0</td>\n",
       "      <td>0</td>\n",
       "      <td>0.258</td>\n",
       "      <td>1</td>\n",
       "      <td>165.13</td>\n",
       "      <td>1.3</td>\n",
       "      <td>71.91</td>\n",
       "    </tr>\n",
       "  </tbody>\n",
       "</table>\n",
       "</div>"
      ],
      "text/plain": [
       "   Temperature  Dew Point  Surface Albedo  Pressure  Wind Direction  \\\n",
       "0         12.5        6.9            0.21      1005             121   \n",
       "1         12.3        6.9            0.21      1005             122   \n",
       "2         12.1        6.9            0.21      1005             124   \n",
       "3         12.0        6.9            0.21      1005             125   \n",
       "4         11.8        6.9            0.21      1005             126   \n",
       "\n",
       "   Wind Speed  Clearsky DHI  Clearsky DNI  Clearsky GHI  Fill Flag  Ozone  \\\n",
       "0         1.0             0             0             0          0  0.258   \n",
       "1         1.0             0             0             0          0  0.258   \n",
       "2         1.0             0             0             0          0  0.258   \n",
       "3         1.0             0             0             0          0  0.258   \n",
       "4         1.0             0             0             0          0  0.258   \n",
       "\n",
       "   Cloud Type  Solar Zenith Angle  Precipitable Water  Relative Humidity  \n",
       "0           1              173.92                 1.4              68.82  \n",
       "1           1              171.79                 1.3              69.73  \n",
       "2           1              169.59                 1.3              70.65  \n",
       "3           1              167.37                 1.3              71.11  \n",
       "4           1              165.13                 1.3              71.91  "
      ]
     },
     "execution_count": 6,
     "metadata": {},
     "output_type": "execute_result"
    }
   ],
   "source": [
    "data.head()"
   ]
  },
  {
   "cell_type": "code",
   "execution_count": 7,
   "id": "72aa6ffd",
   "metadata": {},
   "outputs": [
    {
     "data": {
      "text/plain": [
       "Temperature           0\n",
       "Dew Point             0\n",
       "Surface Albedo        0\n",
       "Pressure              0\n",
       "Wind Direction        0\n",
       "Wind Speed            0\n",
       "Clearsky DHI          0\n",
       "Clearsky DNI          0\n",
       "Clearsky GHI          0\n",
       "Fill Flag             0\n",
       "Ozone                 0\n",
       "Cloud Type            0\n",
       "Solar Zenith Angle    0\n",
       "Precipitable Water    0\n",
       "Relative Humidity     0\n",
       "dtype: int64"
      ]
     },
     "execution_count": 7,
     "metadata": {},
     "output_type": "execute_result"
    }
   ],
   "source": [
    "data.isnull().sum()"
   ]
  },
  {
   "cell_type": "code",
   "execution_count": 8,
   "id": "daa51b4f",
   "metadata": {},
   "outputs": [
    {
     "name": "stdout",
     "output_type": "stream",
     "text": [
      "<class 'pandas.core.frame.DataFrame'>\n",
      "RangeIndex: 210240 entries, 0 to 210239\n",
      "Data columns (total 15 columns):\n",
      " #   Column              Non-Null Count   Dtype  \n",
      "---  ------              --------------   -----  \n",
      " 0   Temperature         210240 non-null  float64\n",
      " 1   Dew Point           210240 non-null  float64\n",
      " 2   Surface Albedo      210240 non-null  float64\n",
      " 3   Pressure            210240 non-null  int64  \n",
      " 4   Wind Direction      210240 non-null  int64  \n",
      " 5   Wind Speed          210240 non-null  float64\n",
      " 6   Clearsky DHI        210240 non-null  int64  \n",
      " 7   Clearsky DNI        210240 non-null  int64  \n",
      " 8   Clearsky GHI        210240 non-null  int64  \n",
      " 9   Fill Flag           210240 non-null  int64  \n",
      " 10  Ozone               210240 non-null  float64\n",
      " 11  Cloud Type          210240 non-null  int64  \n",
      " 12  Solar Zenith Angle  210240 non-null  float64\n",
      " 13  Precipitable Water  210240 non-null  float64\n",
      " 14  Relative Humidity   210240 non-null  float64\n",
      "dtypes: float64(8), int64(7)\n",
      "memory usage: 24.1 MB\n"
     ]
    }
   ],
   "source": [
    "data.info()"
   ]
  },
  {
   "cell_type": "code",
   "execution_count": 9,
   "id": "c3b904ee",
   "metadata": {},
   "outputs": [],
   "source": [
    "#Clearsky DHI\n",
    "\n",
    "X = data.drop(['Clearsky DHI', 'Clearsky DNI', 'Clearsky GHI'], axis = 1)\n",
    "y_DHI = data['Clearsky DHI']"
   ]
  },
  {
   "cell_type": "code",
   "execution_count": 10,
   "id": "8d68dd26",
   "metadata": {},
   "outputs": [],
   "source": [
    "#Clearsky DNI\n",
    "\n",
    "y_DNI = data['Clearsky DNI']"
   ]
  },
  {
   "cell_type": "code",
   "execution_count": 11,
   "id": "e855d847",
   "metadata": {},
   "outputs": [],
   "source": [
    "#Clearsky GHI\n",
    "\n",
    "y_GHI = data['Clearsky GHI']"
   ]
  },
  {
   "cell_type": "code",
   "execution_count": 12,
   "id": "cde79177",
   "metadata": {},
   "outputs": [],
   "source": [
    "#standardization\n",
    "\n",
    "from sklearn.preprocessing import StandardScaler\n",
    "\n",
    "sc = StandardScaler()\n",
    "X = sc.fit_transform(X)"
   ]
  },
  {
   "cell_type": "code",
   "execution_count": 13,
   "id": "bc340411",
   "metadata": {},
   "outputs": [
    {
     "data": {
      "text/plain": [
       "array([[-1.65473565, -0.63975669, -0.0777113 , ...,  1.96427707,\n",
       "        -0.87428043,  0.5205199 ],\n",
       "       [-1.6778861 , -0.63975669, -0.0777113 , ...,  1.91457172,\n",
       "        -0.91848999,  0.55116734],\n",
       "       [-1.70103655, -0.63975669, -0.0777113 , ...,  1.86323286,\n",
       "        -0.91848999,  0.58215155],\n",
       "       ...,\n",
       "       [-2.31452344, -0.74723276, -0.0777113 , ...,  2.04338558,\n",
       "        -0.69744219,  1.34362234],\n",
       "       [-2.31452344, -0.76677387, -0.0777113 , ...,  2.04455237,\n",
       "        -0.69744219,  1.29950351],\n",
       "       [-2.31452344, -0.76677387, -0.0777113 , ...,  2.00978197,\n",
       "        -0.69744219,  1.29950351]])"
      ]
     },
     "execution_count": 13,
     "metadata": {},
     "output_type": "execute_result"
    }
   ],
   "source": [
    "X"
   ]
  },
  {
   "cell_type": "code",
   "execution_count": 14,
   "id": "f8955c3a",
   "metadata": {},
   "outputs": [],
   "source": [
    "#train test split\n",
    "\n",
    "from sklearn.model_selection import train_test_split"
   ]
  },
  {
   "cell_type": "code",
   "execution_count": 15,
   "id": "c98b292e",
   "metadata": {},
   "outputs": [],
   "source": [
    "#dhi\n",
    "\n",
    "X_train1, X_test1, y_train1, y_test1 = train_test_split(X, y_DHI, test_size = 0.3, random_state=43)"
   ]
  },
  {
   "cell_type": "code",
   "execution_count": 16,
   "id": "42251041",
   "metadata": {},
   "outputs": [],
   "source": [
    "#dni\n",
    "\n",
    "X_train2, X_test2, y_train2, y_test2 = train_test_split(X, y_DNI, test_size = 0.3, random_state=43)"
   ]
  },
  {
   "cell_type": "code",
   "execution_count": 17,
   "id": "9cf1b10b",
   "metadata": {},
   "outputs": [],
   "source": [
    "#ghi\n",
    "\n",
    "X_train3, X_test3, y_train3, y_test3 = train_test_split(X, y_GHI, test_size = 0.3, random_state=43)"
   ]
  },
  {
   "cell_type": "code",
   "execution_count": 18,
   "id": "2d64adab",
   "metadata": {},
   "outputs": [],
   "source": [
    "from sklearn.ensemble import RandomForestRegressor\n",
    "from sklearn.metrics import *"
   ]
  },
  {
   "cell_type": "code",
   "execution_count": 19,
   "id": "52488f53",
   "metadata": {},
   "outputs": [],
   "source": [
    "model = RandomForestRegressor()"
   ]
  },
  {
   "cell_type": "code",
   "execution_count": 20,
   "id": "495a2c2b",
   "metadata": {},
   "outputs": [],
   "source": [
    "model_dhi = model.fit(X_train1,y_train1)"
   ]
  },
  {
   "cell_type": "code",
   "execution_count": 21,
   "id": "f4751dfe",
   "metadata": {},
   "outputs": [],
   "source": [
    "pred_dhi = model_dhi.predict(X_test1) #y_test1"
   ]
  },
  {
   "cell_type": "code",
   "execution_count": 22,
   "id": "75730143",
   "metadata": {},
   "outputs": [
    {
     "data": {
      "text/plain": [
       "array([  0.  ,   0.  ,   0.  , ..., 334.67, 197.67, 278.55])"
      ]
     },
     "execution_count": 22,
     "metadata": {},
     "output_type": "execute_result"
    }
   ],
   "source": [
    "pred_dhi"
   ]
  },
  {
   "cell_type": "code",
   "execution_count": 23,
   "id": "b2936aad",
   "metadata": {},
   "outputs": [
    {
     "data": {
      "text/plain": [
       "129.08979470287926"
      ]
     },
     "execution_count": 23,
     "metadata": {},
     "output_type": "execute_result"
    }
   ],
   "source": [
    "mean_squared_error(y_test1, pred_dhi)"
   ]
  },
  {
   "cell_type": "code",
   "execution_count": 24,
   "id": "eedd8b54",
   "metadata": {},
   "outputs": [
    {
     "data": {
      "text/plain": [
       "0.9911035106102839"
      ]
     },
     "execution_count": 24,
     "metadata": {},
     "output_type": "execute_result"
    }
   ],
   "source": [
    "r2_score(y_test1, pred_dhi)"
   ]
  },
  {
   "cell_type": "code",
   "execution_count": 28,
   "id": "83b943fd",
   "metadata": {},
   "outputs": [
    {
     "data": {
      "text/plain": [
       "1082.710202814244"
      ]
     },
     "execution_count": 28,
     "metadata": {},
     "output_type": "execute_result"
    }
   ],
   "source": [
    "#dni\n",
    "model2 = RandomForestRegressor()\n",
    "\n",
    "model_dni = model2.fit(X_train2,y_train2)\n",
    "\n",
    "pred_dni = model_dni.predict(X_test2) #y_test2\n",
    "\n",
    "mean_squared_error(pred_dni, y_test2)"
   ]
  },
  {
   "cell_type": "code",
   "execution_count": 29,
   "id": "e8c3b285",
   "metadata": {},
   "outputs": [
    {
     "data": {
      "text/plain": [
       "0.9855946057256004"
      ]
     },
     "execution_count": 29,
     "metadata": {},
     "output_type": "execute_result"
    }
   ],
   "source": [
    "r2_score(pred_dni, y_test2)"
   ]
  },
  {
   "cell_type": "code",
   "execution_count": 30,
   "id": "57d24743",
   "metadata": {},
   "outputs": [
    {
     "data": {
      "text/plain": [
       "120.53597061136477"
      ]
     },
     "execution_count": 30,
     "metadata": {},
     "output_type": "execute_result"
    }
   ],
   "source": [
    "#ghi\n",
    "model3 = RandomForestRegressor()\n",
    "\n",
    "model_ghi = model3.fit(X_train3,y_train3)\n",
    "\n",
    "pred_ghi = model_ghi.predict(X_test3) #y_test3\n",
    "\n",
    "mean_squared_error(pred_ghi, y_test3)"
   ]
  },
  {
   "cell_type": "code",
   "execution_count": 31,
   "id": "7c3a04ca",
   "metadata": {},
   "outputs": [
    {
     "data": {
      "text/plain": [
       "0.9988585565933202"
      ]
     },
     "execution_count": 31,
     "metadata": {},
     "output_type": "execute_result"
    }
   ],
   "source": [
    "r2_score(pred_ghi, y_test3)"
   ]
  },
  {
   "cell_type": "code",
   "execution_count": 21,
   "id": "1a091b15",
   "metadata": {},
   "outputs": [],
   "source": [
    "test = pd.read_csv(\"test (2).csv\")"
   ]
  },
  {
   "cell_type": "code",
   "execution_count": 22,
   "id": "7b669fb9",
   "metadata": {},
   "outputs": [
    {
     "data": {
      "text/html": [
       "<div>\n",
       "<style scoped>\n",
       "    .dataframe tbody tr th:only-of-type {\n",
       "        vertical-align: middle;\n",
       "    }\n",
       "\n",
       "    .dataframe tbody tr th {\n",
       "        vertical-align: top;\n",
       "    }\n",
       "\n",
       "    .dataframe thead th {\n",
       "        text-align: right;\n",
       "    }\n",
       "</style>\n",
       "<table border=\"1\" class=\"dataframe\">\n",
       "  <thead>\n",
       "    <tr style=\"text-align: right;\">\n",
       "      <th></th>\n",
       "      <th>Timestamp</th>\n",
       "      <th>Temperature</th>\n",
       "      <th>Dew Point</th>\n",
       "      <th>Surface Albedo</th>\n",
       "      <th>Pressure</th>\n",
       "      <th>Wind Direction</th>\n",
       "      <th>Wind Speed</th>\n",
       "      <th>Clearsky DHI</th>\n",
       "      <th>Clearsky DNI</th>\n",
       "      <th>Clearsky GHI</th>\n",
       "      <th>Fill Flag</th>\n",
       "      <th>Ozone</th>\n",
       "      <th>Cloud Type</th>\n",
       "      <th>Solar Zenith Angle</th>\n",
       "      <th>Precipitable Water</th>\n",
       "      <th>Relative Humidity</th>\n",
       "    </tr>\n",
       "  </thead>\n",
       "  <tbody>\n",
       "    <tr>\n",
       "      <th>0</th>\n",
       "      <td>2023-01-01 00:00:00</td>\n",
       "      <td>11.3</td>\n",
       "      <td>1.6</td>\n",
       "      <td>0.21</td>\n",
       "      <td>1006</td>\n",
       "      <td>305</td>\n",
       "      <td>1.2</td>\n",
       "      <td>NaN</td>\n",
       "      <td>NaN</td>\n",
       "      <td>NaN</td>\n",
       "      <td>0</td>\n",
       "      <td>0.255</td>\n",
       "      <td>0</td>\n",
       "      <td>173.92</td>\n",
       "      <td>1.4</td>\n",
       "      <td>51.38</td>\n",
       "    </tr>\n",
       "    <tr>\n",
       "      <th>1</th>\n",
       "      <td>2023-01-01 00:10:00</td>\n",
       "      <td>11.2</td>\n",
       "      <td>1.6</td>\n",
       "      <td>0.21</td>\n",
       "      <td>1006</td>\n",
       "      <td>306</td>\n",
       "      <td>1.2</td>\n",
       "      <td>NaN</td>\n",
       "      <td>NaN</td>\n",
       "      <td>NaN</td>\n",
       "      <td>0</td>\n",
       "      <td>0.255</td>\n",
       "      <td>0</td>\n",
       "      <td>171.79</td>\n",
       "      <td>1.4</td>\n",
       "      <td>51.72</td>\n",
       "    </tr>\n",
       "    <tr>\n",
       "      <th>2</th>\n",
       "      <td>2023-01-01 00:20:00</td>\n",
       "      <td>11.1</td>\n",
       "      <td>1.6</td>\n",
       "      <td>0.21</td>\n",
       "      <td>1006</td>\n",
       "      <td>306</td>\n",
       "      <td>1.2</td>\n",
       "      <td>NaN</td>\n",
       "      <td>NaN</td>\n",
       "      <td>NaN</td>\n",
       "      <td>0</td>\n",
       "      <td>0.255</td>\n",
       "      <td>0</td>\n",
       "      <td>169.59</td>\n",
       "      <td>1.4</td>\n",
       "      <td>52.06</td>\n",
       "    </tr>\n",
       "    <tr>\n",
       "      <th>3</th>\n",
       "      <td>2023-01-01 00:30:00</td>\n",
       "      <td>11.0</td>\n",
       "      <td>1.6</td>\n",
       "      <td>0.21</td>\n",
       "      <td>1006</td>\n",
       "      <td>307</td>\n",
       "      <td>1.2</td>\n",
       "      <td>NaN</td>\n",
       "      <td>NaN</td>\n",
       "      <td>NaN</td>\n",
       "      <td>0</td>\n",
       "      <td>0.255</td>\n",
       "      <td>0</td>\n",
       "      <td>167.37</td>\n",
       "      <td>1.4</td>\n",
       "      <td>52.41</td>\n",
       "    </tr>\n",
       "    <tr>\n",
       "      <th>4</th>\n",
       "      <td>2023-01-01 00:40:00</td>\n",
       "      <td>10.9</td>\n",
       "      <td>1.2</td>\n",
       "      <td>0.21</td>\n",
       "      <td>1006</td>\n",
       "      <td>307</td>\n",
       "      <td>1.2</td>\n",
       "      <td>NaN</td>\n",
       "      <td>NaN</td>\n",
       "      <td>NaN</td>\n",
       "      <td>0</td>\n",
       "      <td>0.255</td>\n",
       "      <td>0</td>\n",
       "      <td>165.13</td>\n",
       "      <td>1.4</td>\n",
       "      <td>51.34</td>\n",
       "    </tr>\n",
       "  </tbody>\n",
       "</table>\n",
       "</div>"
      ],
      "text/plain": [
       "             Timestamp  Temperature  Dew Point  Surface Albedo  Pressure  \\\n",
       "0  2023-01-01 00:00:00         11.3        1.6            0.21      1006   \n",
       "1  2023-01-01 00:10:00         11.2        1.6            0.21      1006   \n",
       "2  2023-01-01 00:20:00         11.1        1.6            0.21      1006   \n",
       "3  2023-01-01 00:30:00         11.0        1.6            0.21      1006   \n",
       "4  2023-01-01 00:40:00         10.9        1.2            0.21      1006   \n",
       "\n",
       "   Wind Direction  Wind Speed  Clearsky DHI  Clearsky DNI  Clearsky GHI  \\\n",
       "0             305         1.2           NaN           NaN           NaN   \n",
       "1             306         1.2           NaN           NaN           NaN   \n",
       "2             306         1.2           NaN           NaN           NaN   \n",
       "3             307         1.2           NaN           NaN           NaN   \n",
       "4             307         1.2           NaN           NaN           NaN   \n",
       "\n",
       "   Fill Flag  Ozone  Cloud Type  Solar Zenith Angle  Precipitable Water  \\\n",
       "0          0  0.255           0              173.92                 1.4   \n",
       "1          0  0.255           0              171.79                 1.4   \n",
       "2          0  0.255           0              169.59                 1.4   \n",
       "3          0  0.255           0              167.37                 1.4   \n",
       "4          0  0.255           0              165.13                 1.4   \n",
       "\n",
       "   Relative Humidity  \n",
       "0              51.38  \n",
       "1              51.72  \n",
       "2              52.06  \n",
       "3              52.41  \n",
       "4              51.34  "
      ]
     },
     "execution_count": 22,
     "metadata": {},
     "output_type": "execute_result"
    }
   ],
   "source": [
    "test.head()"
   ]
  },
  {
   "cell_type": "code",
   "execution_count": 23,
   "id": "bedf2ea3",
   "metadata": {},
   "outputs": [],
   "source": [
    "test = test.drop(['Timestamp','Clearsky DHI', 'Clearsky DNI', 'Clearsky GHI'], axis=1)"
   ]
  },
  {
   "cell_type": "code",
   "execution_count": 24,
   "id": "bd911950",
   "metadata": {},
   "outputs": [],
   "source": [
    "test = sc.fit_transform(test)"
   ]
  },
  {
   "cell_type": "code",
   "execution_count": 25,
   "id": "be4cb707",
   "metadata": {},
   "outputs": [],
   "source": [
    "#dhi pred\n",
    "\n",
    "pred1 = model.predict(test)"
   ]
  },
  {
   "cell_type": "code",
   "execution_count": 26,
   "id": "3149e0d9",
   "metadata": {},
   "outputs": [
    {
     "data": {
      "text/plain": [
       "array([0., 0., 0., ..., 0., 0., 0.])"
      ]
     },
     "execution_count": 26,
     "metadata": {},
     "output_type": "execute_result"
    }
   ],
   "source": [
    "pred1"
   ]
  },
  {
   "cell_type": "code",
   "execution_count": 32,
   "id": "d55057fb",
   "metadata": {},
   "outputs": [],
   "source": [
    "#dni\n",
    "\n",
    "pred2 = model2.predict(test)"
   ]
  },
  {
   "cell_type": "code",
   "execution_count": 34,
   "id": "4fcc98ec",
   "metadata": {},
   "outputs": [
    {
     "data": {
      "text/plain": [
       "array([0., 0., 0., ..., 0., 0., 0.])"
      ]
     },
     "execution_count": 34,
     "metadata": {},
     "output_type": "execute_result"
    }
   ],
   "source": [
    "pred2"
   ]
  },
  {
   "cell_type": "code",
   "execution_count": 33,
   "id": "8b519b8a",
   "metadata": {},
   "outputs": [],
   "source": [
    "#ghi\n",
    "\n",
    "pred3 = model3.predict(test)"
   ]
  },
  {
   "cell_type": "code",
   "execution_count": 35,
   "id": "c2972599",
   "metadata": {},
   "outputs": [
    {
     "data": {
      "text/plain": [
       "array([0., 0., 0., ..., 0., 0., 0.])"
      ]
     },
     "execution_count": 35,
     "metadata": {},
     "output_type": "execute_result"
    }
   ],
   "source": [
    "pred3"
   ]
  },
  {
   "cell_type": "code",
   "execution_count": 37,
   "id": "5a64185d",
   "metadata": {},
   "outputs": [
    {
     "data": {
      "text/html": [
       "<div>\n",
       "<style scoped>\n",
       "    .dataframe tbody tr th:only-of-type {\n",
       "        vertical-align: middle;\n",
       "    }\n",
       "\n",
       "    .dataframe tbody tr th {\n",
       "        vertical-align: top;\n",
       "    }\n",
       "\n",
       "    .dataframe thead th {\n",
       "        text-align: right;\n",
       "    }\n",
       "</style>\n",
       "<table border=\"1\" class=\"dataframe\">\n",
       "  <thead>\n",
       "    <tr style=\"text-align: right;\">\n",
       "      <th></th>\n",
       "      <th>0</th>\n",
       "    </tr>\n",
       "  </thead>\n",
       "  <tbody>\n",
       "    <tr>\n",
       "      <th>0</th>\n",
       "      <td>0.0</td>\n",
       "    </tr>\n",
       "    <tr>\n",
       "      <th>1</th>\n",
       "      <td>0.0</td>\n",
       "    </tr>\n",
       "    <tr>\n",
       "      <th>2</th>\n",
       "      <td>0.0</td>\n",
       "    </tr>\n",
       "    <tr>\n",
       "      <th>3</th>\n",
       "      <td>0.0</td>\n",
       "    </tr>\n",
       "    <tr>\n",
       "      <th>4</th>\n",
       "      <td>0.0</td>\n",
       "    </tr>\n",
       "    <tr>\n",
       "      <th>...</th>\n",
       "      <td>...</td>\n",
       "    </tr>\n",
       "    <tr>\n",
       "      <th>52555</th>\n",
       "      <td>0.0</td>\n",
       "    </tr>\n",
       "    <tr>\n",
       "      <th>52556</th>\n",
       "      <td>0.0</td>\n",
       "    </tr>\n",
       "    <tr>\n",
       "      <th>52557</th>\n",
       "      <td>0.0</td>\n",
       "    </tr>\n",
       "    <tr>\n",
       "      <th>52558</th>\n",
       "      <td>0.0</td>\n",
       "    </tr>\n",
       "    <tr>\n",
       "      <th>52559</th>\n",
       "      <td>0.0</td>\n",
       "    </tr>\n",
       "  </tbody>\n",
       "</table>\n",
       "<p>52560 rows × 1 columns</p>\n",
       "</div>"
      ],
      "text/plain": [
       "         0\n",
       "0      0.0\n",
       "1      0.0\n",
       "2      0.0\n",
       "3      0.0\n",
       "4      0.0\n",
       "...    ...\n",
       "52555  0.0\n",
       "52556  0.0\n",
       "52557  0.0\n",
       "52558  0.0\n",
       "52559  0.0\n",
       "\n",
       "[52560 rows x 1 columns]"
      ]
     },
     "execution_count": 37,
     "metadata": {},
     "output_type": "execute_result"
    }
   ],
   "source": [
    "pred1 = pd.DataFrame(pred1)\n",
    "pred1"
   ]
  },
  {
   "cell_type": "code",
   "execution_count": 38,
   "id": "14f368bd",
   "metadata": {},
   "outputs": [],
   "source": [
    "pred1.to_csv(\"pred1.csv\")"
   ]
  },
  {
   "cell_type": "code",
   "execution_count": 39,
   "id": "49275071",
   "metadata": {},
   "outputs": [],
   "source": [
    "#pycaret"
   ]
  },
  {
   "cell_type": "code",
   "execution_count": 2,
   "id": "5d43c1b0",
   "metadata": {},
   "outputs": [
    {
     "name": "stdout",
     "output_type": "stream",
     "text": [
      "Collecting pycaret"
     ]
    },
    {
     "name": "stderr",
     "output_type": "stream",
     "text": [
      "ERROR: pip's dependency resolver does not currently take into account all the packages that are installed. This behaviour is the source of the following dependency conflicts.\n",
      "spyder 5.1.5 requires pyqt5<5.13, which is not installed.\n",
      "spyder 5.1.5 requires pyqtwebengine<5.13, which is not installed.\n"
     ]
    },
    {
     "name": "stdout",
     "output_type": "stream",
     "text": [
      "\n",
      "  Using cached pycaret-3.0.4-py3-none-any.whl (484 kB)\n",
      "Collecting category-encoders>=2.4.0\n",
      "  Using cached category_encoders-2.6.1-py2.py3-none-any.whl (81 kB)\n",
      "Collecting imbalanced-learn>=0.8.1\n",
      "  Using cached imbalanced_learn-0.11.0-py3-none-any.whl (235 kB)\n",
      "Collecting scikit-plot>=0.3.7\n",
      "  Using cached scikit_plot-0.3.7-py3-none-any.whl (33 kB)\n",
      "Requirement already satisfied: ipywidgets>=7.6.5 in c:\\users\\dell\\anaconda3\\lib\\site-packages (from pycaret) (7.6.5)\n",
      "Collecting sktime!=0.17.1,!=0.17.2,!=0.18.0,>=0.16.1\n",
      "  Using cached sktime-0.21.0-py3-none-any.whl (17.1 MB)\n",
      "Requirement already satisfied: plotly>=5.0.0 in c:\\users\\dell\\anaconda3\\lib\\site-packages (from pycaret) (5.6.0)\n",
      "Requirement already satisfied: requests>=2.27.1 in c:\\users\\dell\\anaconda3\\lib\\site-packages (from pycaret) (2.27.1)\n",
      "Collecting psutil>=5.9.0\n",
      "  Using cached psutil-5.9.5-cp36-abi3-win_amd64.whl (255 kB)\n",
      "Requirement already satisfied: scipy<2.0.0 in c:\\users\\dell\\anaconda3\\lib\\site-packages (from pycaret) (1.7.3)\n",
      "Requirement already satisfied: numba>=0.55.0 in c:\\users\\dell\\anaconda3\\lib\\site-packages (from pycaret) (0.55.1)\n",
      "Collecting deprecation>=2.1.0\n",
      "  Using cached deprecation-2.1.0-py2.py3-none-any.whl (11 kB)\n",
      "Collecting yellowbrick>=1.4\n",
      "  Using cached yellowbrick-1.5-py3-none-any.whl (282 kB)\n",
      "Collecting schemdraw==0.15\n",
      "  Using cached schemdraw-0.15-py3-none-any.whl (106 kB)\n",
      "Collecting pyod>=1.0.8\n",
      "  Using cached pyod-1.1.0-py3-none-any.whl\n",
      "Collecting lightgbm>=3.0.0\n",
      "  Using cached lightgbm-4.0.0-py3-none-win_amd64.whl (1.3 MB)\n",
      "Requirement already satisfied: jinja2>=1.2 in c:\\users\\dell\\anaconda3\\lib\\site-packages (from pycaret) (2.11.3)\n",
      "Requirement already satisfied: scikit-learn<1.3.0,>=1.0 in c:\\users\\dell\\anaconda3\\lib\\site-packages (from pycaret) (1.0.2)\n",
      "Collecting xxhash\n",
      "  Using cached xxhash-3.3.0-cp39-cp39-win_amd64.whl (29 kB)\n",
      "Collecting tbats>=1.1.3\n",
      "  Using cached tbats-1.1.3-py3-none-any.whl (44 kB)\n",
      "Collecting plotly-resampler>=0.8.3.1\n",
      "  Using cached plotly_resampler-0.9.1-py3-none-any.whl (73 kB)\n",
      "Collecting importlib-metadata>=4.12.0\n",
      "  Using cached importlib_metadata-6.8.0-py3-none-any.whl (22 kB)\n",
      "Requirement already satisfied: statsmodels>=0.12.1 in c:\\users\\dell\\anaconda3\\lib\\site-packages (from pycaret) (0.13.2)\n",
      "Requirement already satisfied: pandas<2.0.0,>=1.3.0 in c:\\users\\dell\\anaconda3\\lib\\site-packages (from pycaret) (1.4.2)\n",
      "Requirement already satisfied: matplotlib>=3.3.0 in c:\\users\\dell\\anaconda3\\lib\\site-packages (from pycaret) (3.5.1)\n",
      "Requirement already satisfied: cloudpickle in c:\\users\\dell\\anaconda3\\lib\\site-packages (from pycaret) (2.0.0)\n",
      "Requirement already satisfied: nbformat>=4.2.0 in c:\\users\\dell\\anaconda3\\lib\\site-packages (from pycaret) (5.3.0)\n",
      "Collecting kaleido>=0.2.1\n",
      "  Using cached kaleido-0.2.1-py2.py3-none-win_amd64.whl (65.9 MB)\n",
      "Requirement already satisfied: pmdarima!=1.8.1,<3.0.0,>=1.8.0 in c:\\users\\dell\\anaconda3\\lib\\site-packages (from pycaret) (2.0.2)\n",
      "Requirement already satisfied: numpy<1.24,>=1.21 in c:\\users\\dell\\anaconda3\\lib\\site-packages (from pycaret) (1.21.6)\n",
      "Requirement already satisfied: ipython>=5.5.0 in c:\\users\\dell\\anaconda3\\lib\\site-packages (from pycaret) (8.2.0)\n",
      "Requirement already satisfied: tqdm>=4.62.0 in c:\\users\\dell\\anaconda3\\lib\\site-packages (from pycaret) (4.64.0)\n",
      "Collecting joblib>=1.2.0\n",
      "  Using cached joblib-1.3.1-py3-none-any.whl (301 kB)\n",
      "Requirement already satisfied: markupsafe>=2.0.1 in c:\\users\\dell\\anaconda3\\lib\\site-packages (from pycaret) (2.0.1)\n",
      "Requirement already satisfied: patsy>=0.5.1 in c:\\users\\dell\\anaconda3\\lib\\site-packages (from category-encoders>=2.4.0->pycaret) (0.5.2)\n",
      "Requirement already satisfied: packaging in c:\\users\\dell\\anaconda3\\lib\\site-packages (from deprecation>=2.1.0->pycaret) (21.3)\n",
      "Requirement already satisfied: threadpoolctl>=2.0.0 in c:\\users\\dell\\anaconda3\\lib\\site-packages (from imbalanced-learn>=0.8.1->pycaret) (2.2.0)\n",
      "Requirement already satisfied: zipp>=0.5 in c:\\users\\dell\\anaconda3\\lib\\site-packages (from importlib-metadata>=4.12.0->pycaret) (3.7.0)\n",
      "Requirement already satisfied: stack-data in c:\\users\\dell\\anaconda3\\lib\\site-packages (from ipython>=5.5.0->pycaret) (0.2.0)\n",
      "Requirement already satisfied: traitlets>=5 in c:\\users\\dell\\anaconda3\\lib\\site-packages (from ipython>=5.5.0->pycaret) (5.1.1)\n",
      "Requirement already satisfied: setuptools>=18.5 in c:\\users\\dell\\anaconda3\\lib\\site-packages (from ipython>=5.5.0->pycaret) (61.2.0)\n",
      "Requirement already satisfied: prompt-toolkit!=3.0.0,!=3.0.1,<3.1.0,>=2.0.0 in c:\\users\\dell\\anaconda3\\lib\\site-packages (from ipython>=5.5.0->pycaret) (3.0.20)\n",
      "Requirement already satisfied: pickleshare in c:\\users\\dell\\anaconda3\\lib\\site-packages (from ipython>=5.5.0->pycaret) (0.7.5)\n",
      "Requirement already satisfied: pygments>=2.4.0 in c:\\users\\dell\\anaconda3\\lib\\site-packages (from ipython>=5.5.0->pycaret) (2.14.0)\n",
      "Requirement already satisfied: colorama in c:\\users\\dell\\anaconda3\\lib\\site-packages (from ipython>=5.5.0->pycaret) (0.4.4)\n",
      "Requirement already satisfied: backcall in c:\\users\\dell\\anaconda3\\lib\\site-packages (from ipython>=5.5.0->pycaret) (0.2.0)\n",
      "Requirement already satisfied: matplotlib-inline in c:\\users\\dell\\anaconda3\\lib\\site-packages (from ipython>=5.5.0->pycaret) (0.1.2)\n",
      "Requirement already satisfied: jedi>=0.16 in c:\\users\\dell\\anaconda3\\lib\\site-packages (from ipython>=5.5.0->pycaret) (0.18.1)\n",
      "Requirement already satisfied: decorator in c:\\users\\dell\\anaconda3\\lib\\site-packages (from ipython>=5.5.0->pycaret) (5.1.1)\n",
      "Requirement already satisfied: ipython-genutils~=0.2.0 in c:\\users\\dell\\anaconda3\\lib\\site-packages (from ipywidgets>=7.6.5->pycaret) (0.2.0)\n",
      "Requirement already satisfied: ipykernel>=4.5.1 in c:\\users\\dell\\anaconda3\\lib\\site-packages (from ipywidgets>=7.6.5->pycaret) (6.9.1)\n",
      "Requirement already satisfied: widgetsnbextension~=3.5.0 in c:\\users\\dell\\anaconda3\\lib\\site-packages (from ipywidgets>=7.6.5->pycaret) (3.5.2)\n",
      "Requirement already satisfied: jupyterlab-widgets>=1.0.0 in c:\\users\\dell\\anaconda3\\lib\\site-packages (from ipywidgets>=7.6.5->pycaret) (1.0.0)\n",
      "Requirement already satisfied: debugpy<2.0,>=1.0.0 in c:\\users\\dell\\anaconda3\\lib\\site-packages (from ipykernel>=4.5.1->ipywidgets>=7.6.5->pycaret) (1.5.1)\n",
      "Requirement already satisfied: nest-asyncio in c:\\users\\dell\\anaconda3\\lib\\site-packages (from ipykernel>=4.5.1->ipywidgets>=7.6.5->pycaret) (1.5.5)\n",
      "Requirement already satisfied: jupyter-client<8.0 in c:\\users\\dell\\anaconda3\\lib\\site-packages (from ipykernel>=4.5.1->ipywidgets>=7.6.5->pycaret) (6.1.12)\n",
      "Requirement already satisfied: tornado<7.0,>=4.2 in c:\\users\\dell\\anaconda3\\lib\\site-packages (from ipykernel>=4.5.1->ipywidgets>=7.6.5->pycaret) (6.1)\n",
      "Requirement already satisfied: parso<0.9.0,>=0.8.0 in c:\\users\\dell\\anaconda3\\lib\\site-packages (from jedi>=0.16->ipython>=5.5.0->pycaret) (0.8.3)\n",
      "Requirement already satisfied: pyzmq>=13 in c:\\users\\dell\\anaconda3\\lib\\site-packages (from jupyter-client<8.0->ipykernel>=4.5.1->ipywidgets>=7.6.5->pycaret) (22.3.0)\n",
      "Requirement already satisfied: python-dateutil>=2.1 in c:\\users\\dell\\anaconda3\\lib\\site-packages (from jupyter-client<8.0->ipykernel>=4.5.1->ipywidgets>=7.6.5->pycaret) (2.8.2)\n",
      "Requirement already satisfied: jupyter-core>=4.6.0 in c:\\users\\dell\\anaconda3\\lib\\site-packages (from jupyter-client<8.0->ipykernel>=4.5.1->ipywidgets>=7.6.5->pycaret) (4.9.2)\n",
      "Requirement already satisfied: pywin32>=1.0 in c:\\users\\dell\\anaconda3\\lib\\site-packages (from jupyter-core>=4.6.0->jupyter-client<8.0->ipykernel>=4.5.1->ipywidgets>=7.6.5->pycaret) (302)\n",
      "Requirement already satisfied: cycler>=0.10 in c:\\users\\dell\\anaconda3\\lib\\site-packages (from matplotlib>=3.3.0->pycaret) (0.11.0)\n",
      "Requirement already satisfied: fonttools>=4.22.0 in c:\\users\\dell\\anaconda3\\lib\\site-packages (from matplotlib>=3.3.0->pycaret) (4.25.0)\n",
      "Requirement already satisfied: pyparsing>=2.2.1 in c:\\users\\dell\\anaconda3\\lib\\site-packages (from matplotlib>=3.3.0->pycaret) (3.0.4)\n",
      "Requirement already satisfied: kiwisolver>=1.0.1 in c:\\users\\dell\\anaconda3\\lib\\site-packages (from matplotlib>=3.3.0->pycaret) (1.3.2)\n",
      "Requirement already satisfied: pillow>=6.2.0 in c:\\users\\dell\\anaconda3\\lib\\site-packages (from matplotlib>=3.3.0->pycaret) (9.0.1)\n",
      "Requirement already satisfied: fastjsonschema in c:\\users\\dell\\anaconda3\\lib\\site-packages (from nbformat>=4.2.0->pycaret) (2.15.1)\n",
      "Requirement already satisfied: jsonschema>=2.6 in c:\\users\\dell\\anaconda3\\lib\\site-packages (from nbformat>=4.2.0->pycaret) (4.4.0)\n",
      "Requirement already satisfied: pyrsistent!=0.17.0,!=0.17.1,!=0.17.2,>=0.14.0 in c:\\users\\dell\\anaconda3\\lib\\site-packages (from jsonschema>=2.6->nbformat>=4.2.0->pycaret) (0.18.0)\n",
      "Requirement already satisfied: attrs>=17.4.0 in c:\\users\\dell\\anaconda3\\lib\\site-packages (from jsonschema>=2.6->nbformat>=4.2.0->pycaret) (21.4.0)\n",
      "Requirement already satisfied: llvmlite<0.39,>=0.38.0rc1 in c:\\users\\dell\\anaconda3\\lib\\site-packages (from numba>=0.55.0->pycaret) (0.38.0)\n",
      "Requirement already satisfied: pytz>=2020.1 in c:\\users\\dell\\anaconda3\\lib\\site-packages (from pandas<2.0.0,>=1.3.0->pycaret) (2021.3)\n",
      "Requirement already satisfied: six in c:\\users\\dell\\anaconda3\\lib\\site-packages (from patsy>=0.5.1->category-encoders>=2.4.0->pycaret) (1.16.0)\n",
      "Requirement already satisfied: tenacity>=6.2.0 in c:\\users\\dell\\anaconda3\\lib\\site-packages (from plotly>=5.0.0->pycaret) (8.0.1)\n",
      "Collecting dash<3.0.0,>=2.11.0\n",
      "  Using cached dash-2.11.1-py3-none-any.whl (10.4 MB)\n",
      "Collecting tsdownsample==0.1.2\n",
      "  Using cached tsdownsample-0.1.2-cp39-none-win_amd64.whl (1.0 MB)\n",
      "Collecting orjson<4.0.0,>=3.8.0\n",
      "  Using cached orjson-3.9.2-cp39-none-win_amd64.whl (195 kB)\n",
      "Collecting trace-updater>=0.0.8\n",
      "  Using cached trace_updater-0.0.9.1-py3-none-any.whl (185 kB)\n",
      "Requirement already satisfied: Flask<2.3.0,>=1.0.4 in c:\\users\\dell\\anaconda3\\lib\\site-packages (from dash<3.0.0,>=2.11.0->plotly-resampler>=0.8.3.1->pycaret) (1.1.2)\n",
      "Collecting dash-table==5.0.0\n",
      "  Using cached dash_table-5.0.0-py3-none-any.whl (3.9 kB)\n",
      "Requirement already satisfied: typing-extensions>=4.1.1 in c:\\users\\dell\\anaconda3\\lib\\site-packages (from dash<3.0.0,>=2.11.0->plotly-resampler>=0.8.3.1->pycaret) (4.7.0)\n",
      "Requirement already satisfied: Werkzeug<2.3.0 in c:\\users\\dell\\anaconda3\\lib\\site-packages (from dash<3.0.0,>=2.11.0->plotly-resampler>=0.8.3.1->pycaret) (2.0.3)\n",
      "Collecting dash-html-components==2.0.0\n",
      "  Using cached dash_html_components-2.0.0-py3-none-any.whl (4.1 kB)\n",
      "Collecting dash-core-components==2.0.0\n",
      "  Using cached dash_core_components-2.0.0-py3-none-any.whl (3.8 kB)\n",
      "Collecting ansi2html\n",
      "  Using cached ansi2html-1.8.0-py3-none-any.whl (16 kB)\n",
      "Collecting retrying\n",
      "  Using cached retrying-1.3.4-py3-none-any.whl (11 kB)\n",
      "Requirement already satisfied: click>=5.1 in c:\\users\\dell\\anaconda3\\lib\\site-packages (from Flask<2.3.0,>=1.0.4->dash<3.0.0,>=2.11.0->plotly-resampler>=0.8.3.1->pycaret) (8.0.4)\n",
      "Requirement already satisfied: itsdangerous>=0.24 in c:\\users\\dell\\anaconda3\\lib\\site-packages (from Flask<2.3.0,>=1.0.4->dash<3.0.0,>=2.11.0->plotly-resampler>=0.8.3.1->pycaret) (2.0.1)\n",
      "Requirement already satisfied: urllib3 in c:\\users\\dell\\anaconda3\\lib\\site-packages (from pmdarima!=1.8.1,<3.0.0,>=1.8.0->pycaret) (1.26.9)\n",
      "Requirement already satisfied: Cython!=0.29.18,!=0.29.31,>=0.29 in c:\\users\\dell\\anaconda3\\lib\\site-packages (from pmdarima!=1.8.1,<3.0.0,>=1.8.0->pycaret) (0.29.28)\n",
      "Requirement already satisfied: wcwidth in c:\\users\\dell\\anaconda3\\lib\\site-packages (from prompt-toolkit!=3.0.0,!=3.0.1,<3.1.0,>=2.0.0->ipython>=5.5.0->pycaret) (0.2.5)\n",
      "Requirement already satisfied: charset-normalizer~=2.0.0 in c:\\users\\dell\\anaconda3\\lib\\site-packages (from requests>=2.27.1->pycaret) (2.0.4)\n",
      "Requirement already satisfied: certifi>=2017.4.17 in c:\\users\\dell\\anaconda3\\lib\\site-packages (from requests>=2.27.1->pycaret) (2021.10.8)\n",
      "Requirement already satisfied: idna<4,>=2.5 in c:\\users\\dell\\anaconda3\\lib\\site-packages (from requests>=2.27.1->pycaret) (3.3)\n",
      "Collecting deprecated>=1.2.13\n",
      "  Using cached Deprecated-1.2.14-py2.py3-none-any.whl (9.6 kB)\n",
      "Collecting scikit-base<0.6.0\n",
      "  Using cached scikit_base-0.5.0-py3-none-any.whl (118 kB)\n",
      "Requirement already satisfied: wrapt<2,>=1.10 in c:\\users\\dell\\anaconda3\\lib\\site-packages (from deprecated>=1.2.13->sktime!=0.17.1,!=0.17.2,!=0.18.0,>=0.16.1->pycaret) (1.12.1)\n",
      "Requirement already satisfied: notebook>=4.4.1 in c:\\users\\dell\\anaconda3\\lib\\site-packages (from widgetsnbextension~=3.5.0->ipywidgets>=7.6.5->pycaret) (6.4.8)\n",
      "Requirement already satisfied: Send2Trash>=1.8.0 in c:\\users\\dell\\anaconda3\\lib\\site-packages (from notebook>=4.4.1->widgetsnbextension~=3.5.0->ipywidgets>=7.6.5->pycaret) (1.8.0)\n",
      "Requirement already satisfied: prometheus-client in c:\\users\\dell\\anaconda3\\lib\\site-packages (from notebook>=4.4.1->widgetsnbextension~=3.5.0->ipywidgets>=7.6.5->pycaret) (0.13.1)\n",
      "Requirement already satisfied: argon2-cffi in c:\\users\\dell\\anaconda3\\lib\\site-packages (from notebook>=4.4.1->widgetsnbextension~=3.5.0->ipywidgets>=7.6.5->pycaret) (21.3.0)\n",
      "Requirement already satisfied: nbconvert in c:\\users\\dell\\anaconda3\\lib\\site-packages (from notebook>=4.4.1->widgetsnbextension~=3.5.0->ipywidgets>=7.6.5->pycaret) (6.4.4)"
     ]
    }
   ],
   "source": [
    "!pip install pycaret"
   ]
  },
  {
   "cell_type": "code",
   "execution_count": 3,
   "id": "2c1b9f3b",
   "metadata": {},
   "outputs": [
    {
     "name": "stdout",
     "output_type": "stream",
     "text": [
      "\n",
      "Requirement already satisfied: terminado>=0.8.3 in c:\\users\\dell\\anaconda3\\lib\\site-packages (from notebook>=4.4.1->widgetsnbextension~=3.5.0->ipywidgets>=7.6.5->pycaret) (0.13.1)\n",
      "Requirement already satisfied: pywinpty>=1.1.0 in c:\\users\\dell\\anaconda3\\lib\\site-packages (from terminado>=0.8.3->notebook>=4.4.1->widgetsnbextension~=3.5.0->ipywidgets>=7.6.5->pycaret) (2.0.2)\n",
      "Requirement already satisfied: argon2-cffi-bindings in c:\\users\\dell\\anaconda3\\lib\\site-packages (from argon2-cffi->notebook>=4.4.1->widgetsnbextension~=3.5.0->ipywidgets>=7.6.5->pycaret) (21.2.0)\n",
      "Requirement already satisfied: cffi>=1.0.1 in c:\\users\\dell\\anaconda3\\lib\\site-packages (from argon2-cffi-bindings->argon2-cffi->notebook>=4.4.1->widgetsnbextension~=3.5.0->ipywidgets>=7.6.5->pycaret) (1.15.0)\n",
      "Requirement already satisfied: pycparser in c:\\users\\dell\\anaconda3\\lib\\site-packages (from cffi>=1.0.1->argon2-cffi-bindings->argon2-cffi->notebook>=4.4.1->widgetsnbextension~=3.5.0->ipywidgets>=7.6.5->pycaret) (2.21)\n",
      "Requirement already satisfied: jupyterlab-pygments in c:\\users\\dell\\anaconda3\\lib\\site-packages (from nbconvert->notebook>=4.4.1->widgetsnbextension~=3.5.0->ipywidgets>=7.6.5->pycaret) (0.1.2)\n",
      "Requirement already satisfied: defusedxml in c:\\users\\dell\\anaconda3\\lib\\site-packages (from nbconvert->notebook>=4.4.1->widgetsnbextension~=3.5.0->ipywidgets>=7.6.5->pycaret) (0.7.1)\n",
      "Requirement already satisfied: bleach in c:\\users\\dell\\anaconda3\\lib\\site-packages (from nbconvert->notebook>=4.4.1->widgetsnbextension~=3.5.0->ipywidgets>=7.6.5->pycaret) (4.1.0)\n",
      "Requirement already satisfied: pandocfilters>=1.4.1 in c:\\users\\dell\\anaconda3\\lib\\site-packages (from nbconvert->notebook>=4.4.1->widgetsnbextension~=3.5.0->ipywidgets>=7.6.5->pycaret) (1.5.0)\n",
      "Requirement already satisfied: entrypoints>=0.2.2 in c:\\users\\dell\\anaconda3\\lib\\site-packages (from nbconvert->notebook>=4.4.1->widgetsnbextension~=3.5.0->ipywidgets>=7.6.5->pycaret) (0.4)\n",
      "Requirement already satisfied: nbclient<0.6.0,>=0.5.0 in c:\\users\\dell\\anaconda3\\lib\\site-packages (from nbconvert->notebook>=4.4.1->widgetsnbextension~=3.5.0->ipywidgets>=7.6.5->pycaret) (0.5.13)\n",
      "Requirement already satisfied: beautifulsoup4 in c:\\users\\dell\\anaconda3\\lib\\site-packages (from nbconvert->notebook>=4.4.1->widgetsnbextension~=3.5.0->ipywidgets>=7.6.5->pycaret) (4.11.1)\n",
      "Requirement already satisfied: testpath in c:\\users\\dell\\anaconda3\\lib\\site-packages (from nbconvert->notebook>=4.4.1->widgetsnbextension~=3.5.0->ipywidgets>=7.6.5->pycaret) (0.5.0)\n",
      "Requirement already satisfied: mistune<2,>=0.8.1 in c:\\users\\dell\\anaconda3\\lib\\site-packages (from nbconvert->notebook>=4.4.1->widgetsnbextension~=3.5.0->ipywidgets>=7.6.5->pycaret) (0.8.4)\n",
      "Requirement already satisfied: soupsieve>1.2 in c:\\users\\dell\\anaconda3\\lib\\site-packages (from beautifulsoup4->nbconvert->notebook>=4.4.1->widgetsnbextension~=3.5.0->ipywidgets>=7.6.5->pycaret) (2.3.1)\n",
      "Requirement already satisfied: webencodings in c:\\users\\dell\\anaconda3\\lib\\site-packages (from bleach->nbconvert->notebook>=4.4.1->widgetsnbextension~=3.5.0->ipywidgets>=7.6.5->pycaret) (0.5.1)\n",
      "Requirement already satisfied: asttokens in c:\\users\\dell\\anaconda3\\lib\\site-packages (from stack-data->ipython>=5.5.0->pycaret) (2.0.5)\n",
      "Requirement already satisfied: pure-eval in c:\\users\\dell\\anaconda3\\lib\\site-packages (from stack-data->ipython>=5.5.0->pycaret) (0.2.2)\n",
      "Requirement already satisfied: executing in c:\\users\\dell\\anaconda3\\lib\\site-packages (from stack-data->ipython>=5.5.0->pycaret) (0.8.3)\n",
      "Installing collected packages: joblib, retrying, dash-table, dash-html-components, dash-core-components, ansi2html, tsdownsample, trace-updater, scikit-base, orjson, deprecated, dash, yellowbrick, xxhash, tbats, sktime, scikit-plot, schemdraw, pyod, psutil, plotly-resampler, lightgbm, kaleido, importlib-metadata, imbalanced-learn, deprecation, category-encoders, pycaret\n",
      "  Attempting uninstall: joblib\n",
      "    Found existing installation: joblib 1.1.0\n",
      "    Uninstalling joblib-1.1.0:\n",
      "      Successfully uninstalled joblib-1.1.0\n",
      "  Attempting uninstall: psutil\n",
      "    Found existing installation: psutil 5.8.0\n",
      "    Uninstalling psutil-5.8.0:\n",
      "      Successfully uninstalled psutil-5.8.0\n",
      "  Attempting uninstall: importlib-metadata\n",
      "    Found existing installation: importlib-metadata 4.11.3\n",
      "    Uninstalling importlib-metadata-4.11.3:\n",
      "      Successfully uninstalled importlib-metadata-4.11.3\n",
      "Successfully installed ansi2html-1.8.0 category-encoders-2.6.1 dash-2.11.1 dash-core-components-2.0.0 dash-html-components-2.0.0 dash-table-5.0.0 deprecated-1.2.14 deprecation-2.1.0 imbalanced-learn-0.11.0 importlib-metadata-6.8.0 joblib-1.3.1 kaleido-0.2.1 lightgbm-4.0.0 orjson-3.9.2 plotly-resampler-0.9.1 psutil-5.9.5 pycaret-3.0.4 pyod-1.1.0 retrying-1.3.4 schemdraw-0.15 scikit-base-0.5.0 scikit-plot-0.3.7 sktime-0.21.0 tbats-1.1.3 trace-updater-0.0.9.1 tsdownsample-0.1.2 xxhash-3.3.0 yellowbrick-1.5\n"
     ]
    }
   ],
   "source": [
    "from pycaret.regression import *"
   ]
  },
  {
   "cell_type": "code",
   "execution_count": 5,
   "id": "5d0f5b3e",
   "metadata": {},
   "outputs": [],
   "source": [
    "import pandas as pd\n",
    "data = pd.read_csv(\"train (24).csv\")"
   ]
  },
  {
   "cell_type": "code",
   "execution_count": 6,
   "id": "895cec4a",
   "metadata": {},
   "outputs": [],
   "source": [
    "new = data.drop(['Timestamp', 'Clearsky DHI', 'Clearsky GHI'], axis=1)"
   ]
  },
  {
   "cell_type": "code",
   "execution_count": 7,
   "id": "e86613b3",
   "metadata": {},
   "outputs": [
    {
     "data": {
      "text/html": [
       "<style type=\"text/css\">\n",
       "#T_6d81b_row8_col1 {\n",
       "  background-color: lightgreen;\n",
       "}\n",
       "</style>\n",
       "<table id=\"T_6d81b\">\n",
       "  <thead>\n",
       "    <tr>\n",
       "      <th class=\"blank level0\" >&nbsp;</th>\n",
       "      <th id=\"T_6d81b_level0_col0\" class=\"col_heading level0 col0\" >Description</th>\n",
       "      <th id=\"T_6d81b_level0_col1\" class=\"col_heading level0 col1\" >Value</th>\n",
       "    </tr>\n",
       "  </thead>\n",
       "  <tbody>\n",
       "    <tr>\n",
       "      <th id=\"T_6d81b_level0_row0\" class=\"row_heading level0 row0\" >0</th>\n",
       "      <td id=\"T_6d81b_row0_col0\" class=\"data row0 col0\" >Session id</td>\n",
       "      <td id=\"T_6d81b_row0_col1\" class=\"data row0 col1\" >222</td>\n",
       "    </tr>\n",
       "    <tr>\n",
       "      <th id=\"T_6d81b_level0_row1\" class=\"row_heading level0 row1\" >1</th>\n",
       "      <td id=\"T_6d81b_row1_col0\" class=\"data row1 col0\" >Target</td>\n",
       "      <td id=\"T_6d81b_row1_col1\" class=\"data row1 col1\" >Clearsky DNI</td>\n",
       "    </tr>\n",
       "    <tr>\n",
       "      <th id=\"T_6d81b_level0_row2\" class=\"row_heading level0 row2\" >2</th>\n",
       "      <td id=\"T_6d81b_row2_col0\" class=\"data row2 col0\" >Target type</td>\n",
       "      <td id=\"T_6d81b_row2_col1\" class=\"data row2 col1\" >Regression</td>\n",
       "    </tr>\n",
       "    <tr>\n",
       "      <th id=\"T_6d81b_level0_row3\" class=\"row_heading level0 row3\" >3</th>\n",
       "      <td id=\"T_6d81b_row3_col0\" class=\"data row3 col0\" >Original data shape</td>\n",
       "      <td id=\"T_6d81b_row3_col1\" class=\"data row3 col1\" >(210240, 13)</td>\n",
       "    </tr>\n",
       "    <tr>\n",
       "      <th id=\"T_6d81b_level0_row4\" class=\"row_heading level0 row4\" >4</th>\n",
       "      <td id=\"T_6d81b_row4_col0\" class=\"data row4 col0\" >Transformed data shape</td>\n",
       "      <td id=\"T_6d81b_row4_col1\" class=\"data row4 col1\" >(210240, 13)</td>\n",
       "    </tr>\n",
       "    <tr>\n",
       "      <th id=\"T_6d81b_level0_row5\" class=\"row_heading level0 row5\" >5</th>\n",
       "      <td id=\"T_6d81b_row5_col0\" class=\"data row5 col0\" >Transformed train set shape</td>\n",
       "      <td id=\"T_6d81b_row5_col1\" class=\"data row5 col1\" >(147168, 13)</td>\n",
       "    </tr>\n",
       "    <tr>\n",
       "      <th id=\"T_6d81b_level0_row6\" class=\"row_heading level0 row6\" >6</th>\n",
       "      <td id=\"T_6d81b_row6_col0\" class=\"data row6 col0\" >Transformed test set shape</td>\n",
       "      <td id=\"T_6d81b_row6_col1\" class=\"data row6 col1\" >(63072, 13)</td>\n",
       "    </tr>\n",
       "    <tr>\n",
       "      <th id=\"T_6d81b_level0_row7\" class=\"row_heading level0 row7\" >7</th>\n",
       "      <td id=\"T_6d81b_row7_col0\" class=\"data row7 col0\" >Numeric features</td>\n",
       "      <td id=\"T_6d81b_row7_col1\" class=\"data row7 col1\" >12</td>\n",
       "    </tr>\n",
       "    <tr>\n",
       "      <th id=\"T_6d81b_level0_row8\" class=\"row_heading level0 row8\" >8</th>\n",
       "      <td id=\"T_6d81b_row8_col0\" class=\"data row8 col0\" >Preprocess</td>\n",
       "      <td id=\"T_6d81b_row8_col1\" class=\"data row8 col1\" >True</td>\n",
       "    </tr>\n",
       "    <tr>\n",
       "      <th id=\"T_6d81b_level0_row9\" class=\"row_heading level0 row9\" >9</th>\n",
       "      <td id=\"T_6d81b_row9_col0\" class=\"data row9 col0\" >Imputation type</td>\n",
       "      <td id=\"T_6d81b_row9_col1\" class=\"data row9 col1\" >simple</td>\n",
       "    </tr>\n",
       "    <tr>\n",
       "      <th id=\"T_6d81b_level0_row10\" class=\"row_heading level0 row10\" >10</th>\n",
       "      <td id=\"T_6d81b_row10_col0\" class=\"data row10 col0\" >Numeric imputation</td>\n",
       "      <td id=\"T_6d81b_row10_col1\" class=\"data row10 col1\" >mean</td>\n",
       "    </tr>\n",
       "    <tr>\n",
       "      <th id=\"T_6d81b_level0_row11\" class=\"row_heading level0 row11\" >11</th>\n",
       "      <td id=\"T_6d81b_row11_col0\" class=\"data row11 col0\" >Categorical imputation</td>\n",
       "      <td id=\"T_6d81b_row11_col1\" class=\"data row11 col1\" >mode</td>\n",
       "    </tr>\n",
       "    <tr>\n",
       "      <th id=\"T_6d81b_level0_row12\" class=\"row_heading level0 row12\" >12</th>\n",
       "      <td id=\"T_6d81b_row12_col0\" class=\"data row12 col0\" >Fold Generator</td>\n",
       "      <td id=\"T_6d81b_row12_col1\" class=\"data row12 col1\" >KFold</td>\n",
       "    </tr>\n",
       "    <tr>\n",
       "      <th id=\"T_6d81b_level0_row13\" class=\"row_heading level0 row13\" >13</th>\n",
       "      <td id=\"T_6d81b_row13_col0\" class=\"data row13 col0\" >Fold Number</td>\n",
       "      <td id=\"T_6d81b_row13_col1\" class=\"data row13 col1\" >10</td>\n",
       "    </tr>\n",
       "    <tr>\n",
       "      <th id=\"T_6d81b_level0_row14\" class=\"row_heading level0 row14\" >14</th>\n",
       "      <td id=\"T_6d81b_row14_col0\" class=\"data row14 col0\" >CPU Jobs</td>\n",
       "      <td id=\"T_6d81b_row14_col1\" class=\"data row14 col1\" >-1</td>\n",
       "    </tr>\n",
       "    <tr>\n",
       "      <th id=\"T_6d81b_level0_row15\" class=\"row_heading level0 row15\" >15</th>\n",
       "      <td id=\"T_6d81b_row15_col0\" class=\"data row15 col0\" >Use GPU</td>\n",
       "      <td id=\"T_6d81b_row15_col1\" class=\"data row15 col1\" >False</td>\n",
       "    </tr>\n",
       "    <tr>\n",
       "      <th id=\"T_6d81b_level0_row16\" class=\"row_heading level0 row16\" >16</th>\n",
       "      <td id=\"T_6d81b_row16_col0\" class=\"data row16 col0\" >Log Experiment</td>\n",
       "      <td id=\"T_6d81b_row16_col1\" class=\"data row16 col1\" >False</td>\n",
       "    </tr>\n",
       "    <tr>\n",
       "      <th id=\"T_6d81b_level0_row17\" class=\"row_heading level0 row17\" >17</th>\n",
       "      <td id=\"T_6d81b_row17_col0\" class=\"data row17 col0\" >Experiment Name</td>\n",
       "      <td id=\"T_6d81b_row17_col1\" class=\"data row17 col1\" >reg-default-name</td>\n",
       "    </tr>\n",
       "    <tr>\n",
       "      <th id=\"T_6d81b_level0_row18\" class=\"row_heading level0 row18\" >18</th>\n",
       "      <td id=\"T_6d81b_row18_col0\" class=\"data row18 col0\" >USI</td>\n",
       "      <td id=\"T_6d81b_row18_col1\" class=\"data row18 col1\" >f24c</td>\n",
       "    </tr>\n",
       "  </tbody>\n",
       "</table>\n"
      ],
      "text/plain": [
       "<pandas.io.formats.style.Styler at 0x19a8b9d0a00>"
      ]
     },
     "metadata": {},
     "output_type": "display_data"
    }
   ],
   "source": [
    "s = setup(new, target='Clearsky DNI',session_id = 222)"
   ]
  },
  {
   "cell_type": "code",
   "execution_count": 8,
   "id": "88e2002f",
   "metadata": {
    "scrolled": false
   },
   "outputs": [
    {
     "data": {
      "text/html": [
       "<div>\n",
       "<style scoped>\n",
       "    .dataframe tbody tr th:only-of-type {\n",
       "        vertical-align: middle;\n",
       "    }\n",
       "\n",
       "    .dataframe tbody tr th {\n",
       "        vertical-align: top;\n",
       "    }\n",
       "\n",
       "    .dataframe thead th {\n",
       "        text-align: right;\n",
       "    }\n",
       "</style>\n",
       "<table border=\"1\" class=\"dataframe\">\n",
       "  <thead>\n",
       "    <tr style=\"text-align: right;\">\n",
       "      <th></th>\n",
       "      <th></th>\n",
       "      <th></th>\n",
       "    </tr>\n",
       "    <tr>\n",
       "      <th></th>\n",
       "      <th></th>\n",
       "      <th></th>\n",
       "    </tr>\n",
       "  </thead>\n",
       "  <tbody>\n",
       "    <tr>\n",
       "      <th>Initiated</th>\n",
       "      <td>. . . . . . . . . . . . . . . . . .</td>\n",
       "      <td>22:22:49</td>\n",
       "    </tr>\n",
       "    <tr>\n",
       "      <th>Status</th>\n",
       "      <td>. . . . . . . . . . . . . . . . . .</td>\n",
       "      <td>Fitting 10 Folds</td>\n",
       "    </tr>\n",
       "    <tr>\n",
       "      <th>Estimator</th>\n",
       "      <td>. . . . . . . . . . . . . . . . . .</td>\n",
       "      <td>Extra Trees Regressor</td>\n",
       "    </tr>\n",
       "  </tbody>\n",
       "</table>\n",
       "</div>"
      ],
      "text/plain": [
       "                                                                     \n",
       "                                                                     \n",
       "Initiated  . . . . . . . . . . . . . . . . . .               22:22:49\n",
       "Status     . . . . . . . . . . . . . . . . . .       Fitting 10 Folds\n",
       "Estimator  . . . . . . . . . . . . . . . . . .  Extra Trees Regressor"
      ]
     },
     "metadata": {},
     "output_type": "display_data"
    },
    {
     "data": {
      "text/html": [
       "<style type=\"text/css\">\n",
       "#T_52dff th {\n",
       "  text-align: left;\n",
       "}\n",
       "#T_52dff_row0_col0, #T_52dff_row0_col1, #T_52dff_row0_col2, #T_52dff_row0_col3, #T_52dff_row0_col4, #T_52dff_row0_col5, #T_52dff_row0_col6, #T_52dff_row0_col7, #T_52dff_row1_col0, #T_52dff_row1_col1, #T_52dff_row1_col2, #T_52dff_row1_col3, #T_52dff_row1_col4, #T_52dff_row1_col5, #T_52dff_row1_col6, #T_52dff_row1_col7, #T_52dff_row2_col0, #T_52dff_row2_col1, #T_52dff_row2_col2, #T_52dff_row2_col3, #T_52dff_row2_col4, #T_52dff_row2_col5, #T_52dff_row2_col6, #T_52dff_row2_col7, #T_52dff_row3_col0, #T_52dff_row3_col1, #T_52dff_row3_col2, #T_52dff_row3_col3, #T_52dff_row3_col4, #T_52dff_row3_col5, #T_52dff_row3_col6, #T_52dff_row3_col7, #T_52dff_row4_col0, #T_52dff_row4_col1, #T_52dff_row4_col2, #T_52dff_row4_col3, #T_52dff_row4_col4, #T_52dff_row4_col5, #T_52dff_row4_col6, #T_52dff_row4_col7, #T_52dff_row5_col0, #T_52dff_row5_col1, #T_52dff_row5_col2, #T_52dff_row5_col3, #T_52dff_row5_col4, #T_52dff_row5_col5, #T_52dff_row5_col6, #T_52dff_row5_col7, #T_52dff_row6_col0, #T_52dff_row6_col1, #T_52dff_row6_col2, #T_52dff_row6_col3, #T_52dff_row6_col4, #T_52dff_row6_col5, #T_52dff_row6_col6, #T_52dff_row6_col7, #T_52dff_row7_col0, #T_52dff_row7_col1, #T_52dff_row7_col2, #T_52dff_row7_col3, #T_52dff_row7_col4, #T_52dff_row7_col5, #T_52dff_row7_col6, #T_52dff_row7_col7, #T_52dff_row8_col0, #T_52dff_row8_col1, #T_52dff_row8_col2, #T_52dff_row8_col3, #T_52dff_row8_col4, #T_52dff_row8_col5, #T_52dff_row8_col6, #T_52dff_row8_col7, #T_52dff_row9_col0, #T_52dff_row9_col1, #T_52dff_row9_col2, #T_52dff_row9_col3, #T_52dff_row9_col4, #T_52dff_row9_col5, #T_52dff_row9_col6, #T_52dff_row9_col7, #T_52dff_row10_col0, #T_52dff_row10_col1, #T_52dff_row10_col2, #T_52dff_row10_col3, #T_52dff_row10_col4, #T_52dff_row10_col5, #T_52dff_row10_col6, #T_52dff_row10_col7, #T_52dff_row11_col0, #T_52dff_row11_col1, #T_52dff_row11_col2, #T_52dff_row11_col3, #T_52dff_row11_col4, #T_52dff_row11_col5, #T_52dff_row11_col6, #T_52dff_row11_col7, #T_52dff_row12_col0, #T_52dff_row12_col1, #T_52dff_row12_col2, #T_52dff_row12_col3, #T_52dff_row12_col4, #T_52dff_row12_col5, #T_52dff_row12_col6, #T_52dff_row12_col7 {\n",
       "  text-align: left;\n",
       "}\n",
       "</style>\n",
       "<table id=\"T_52dff\">\n",
       "  <thead>\n",
       "    <tr>\n",
       "      <th class=\"blank level0\" >&nbsp;</th>\n",
       "      <th id=\"T_52dff_level0_col0\" class=\"col_heading level0 col0\" >Model</th>\n",
       "      <th id=\"T_52dff_level0_col1\" class=\"col_heading level0 col1\" >MAE</th>\n",
       "      <th id=\"T_52dff_level0_col2\" class=\"col_heading level0 col2\" >MSE</th>\n",
       "      <th id=\"T_52dff_level0_col3\" class=\"col_heading level0 col3\" >RMSE</th>\n",
       "      <th id=\"T_52dff_level0_col4\" class=\"col_heading level0 col4\" >R2</th>\n",
       "      <th id=\"T_52dff_level0_col5\" class=\"col_heading level0 col5\" >RMSLE</th>\n",
       "      <th id=\"T_52dff_level0_col6\" class=\"col_heading level0 col6\" >MAPE</th>\n",
       "      <th id=\"T_52dff_level0_col7\" class=\"col_heading level0 col7\" >TT (Sec)</th>\n",
       "    </tr>\n",
       "  </thead>\n",
       "  <tbody>\n",
       "    <tr>\n",
       "      <th id=\"T_52dff_level0_row0\" class=\"row_heading level0 row0\" >rf</th>\n",
       "      <td id=\"T_52dff_row0_col0\" class=\"data row0 col0\" >Random Forest Regressor</td>\n",
       "      <td id=\"T_52dff_row0_col1\" class=\"data row0 col1\" >16.1873</td>\n",
       "      <td id=\"T_52dff_row0_col2\" class=\"data row0 col2\" >1157.5538</td>\n",
       "      <td id=\"T_52dff_row0_col3\" class=\"data row0 col3\" >34.0182</td>\n",
       "      <td id=\"T_52dff_row0_col4\" class=\"data row0 col4\" >0.9850</td>\n",
       "      <td id=\"T_52dff_row0_col5\" class=\"data row0 col5\" >0.2287</td>\n",
       "      <td id=\"T_52dff_row0_col6\" class=\"data row0 col6\" >0.2378</td>\n",
       "      <td id=\"T_52dff_row0_col7\" class=\"data row0 col7\" >25.1770</td>\n",
       "    </tr>\n",
       "    <tr>\n",
       "      <th id=\"T_52dff_level0_row1\" class=\"row_heading level0 row1\" >knn</th>\n",
       "      <td id=\"T_52dff_row1_col0\" class=\"data row1 col0\" >K Neighbors Regressor</td>\n",
       "      <td id=\"T_52dff_row1_col1\" class=\"data row1 col1\" >24.4407</td>\n",
       "      <td id=\"T_52dff_row1_col2\" class=\"data row1 col2\" >2372.5839</td>\n",
       "      <td id=\"T_52dff_row1_col3\" class=\"data row1 col3\" >48.7053</td>\n",
       "      <td id=\"T_52dff_row1_col4\" class=\"data row1 col4\" >0.9693</td>\n",
       "      <td id=\"T_52dff_row1_col5\" class=\"data row1 col5\" >0.3794</td>\n",
       "      <td id=\"T_52dff_row1_col6\" class=\"data row1 col6\" >0.3144</td>\n",
       "      <td id=\"T_52dff_row1_col7\" class=\"data row1 col7\" >0.5190</td>\n",
       "    </tr>\n",
       "    <tr>\n",
       "      <th id=\"T_52dff_level0_row2\" class=\"row_heading level0 row2\" >dt</th>\n",
       "      <td id=\"T_52dff_row2_col0\" class=\"data row2 col0\" >Decision Tree Regressor</td>\n",
       "      <td id=\"T_52dff_row2_col1\" class=\"data row2 col1\" >20.7925</td>\n",
       "      <td id=\"T_52dff_row2_col2\" class=\"data row2 col2\" >2569.9238</td>\n",
       "      <td id=\"T_52dff_row2_col3\" class=\"data row2 col3\" >50.6883</td>\n",
       "      <td id=\"T_52dff_row2_col4\" class=\"data row2 col4\" >0.9668</td>\n",
       "      <td id=\"T_52dff_row2_col5\" class=\"data row2 col5\" >0.2999</td>\n",
       "      <td id=\"T_52dff_row2_col6\" class=\"data row2 col6\" >0.2870</td>\n",
       "      <td id=\"T_52dff_row2_col7\" class=\"data row2 col7\" >0.4470</td>\n",
       "    </tr>\n",
       "    <tr>\n",
       "      <th id=\"T_52dff_level0_row3\" class=\"row_heading level0 row3\" >lr</th>\n",
       "      <td id=\"T_52dff_row3_col0\" class=\"data row3 col0\" >Linear Regression</td>\n",
       "      <td id=\"T_52dff_row3_col1\" class=\"data row3 col1\" >100.9448</td>\n",
       "      <td id=\"T_52dff_row3_col2\" class=\"data row3 col2\" >15226.0638</td>\n",
       "      <td id=\"T_52dff_row3_col3\" class=\"data row3 col3\" >123.3932</td>\n",
       "      <td id=\"T_52dff_row3_col4\" class=\"data row3 col4\" >0.8031</td>\n",
       "      <td id=\"T_52dff_row3_col5\" class=\"data row3 col5\" >3.0922</td>\n",
       "      <td id=\"T_52dff_row3_col6\" class=\"data row3 col6\" >1.7571</td>\n",
       "      <td id=\"T_52dff_row3_col7\" class=\"data row3 col7\" >2.5740</td>\n",
       "    </tr>\n",
       "    <tr>\n",
       "      <th id=\"T_52dff_level0_row4\" class=\"row_heading level0 row4\" >ridge</th>\n",
       "      <td id=\"T_52dff_row4_col0\" class=\"data row4 col0\" >Ridge Regression</td>\n",
       "      <td id=\"T_52dff_row4_col1\" class=\"data row4 col1\" >100.9771</td>\n",
       "      <td id=\"T_52dff_row4_col2\" class=\"data row4 col2\" >15227.2383</td>\n",
       "      <td id=\"T_52dff_row4_col3\" class=\"data row4 col3\" >123.3980</td>\n",
       "      <td id=\"T_52dff_row4_col4\" class=\"data row4 col4\" >0.8031</td>\n",
       "      <td id=\"T_52dff_row4_col5\" class=\"data row4 col5\" >3.0921</td>\n",
       "      <td id=\"T_52dff_row4_col6\" class=\"data row4 col6\" >1.7614</td>\n",
       "      <td id=\"T_52dff_row4_col7\" class=\"data row4 col7\" >0.1660</td>\n",
       "    </tr>\n",
       "    <tr>\n",
       "      <th id=\"T_52dff_level0_row5\" class=\"row_heading level0 row5\" >lar</th>\n",
       "      <td id=\"T_52dff_row5_col0\" class=\"data row5 col0\" >Least Angle Regression</td>\n",
       "      <td id=\"T_52dff_row5_col1\" class=\"data row5 col1\" >100.9448</td>\n",
       "      <td id=\"T_52dff_row5_col2\" class=\"data row5 col2\" >15226.0638</td>\n",
       "      <td id=\"T_52dff_row5_col3\" class=\"data row5 col3\" >123.3932</td>\n",
       "      <td id=\"T_52dff_row5_col4\" class=\"data row5 col4\" >0.8031</td>\n",
       "      <td id=\"T_52dff_row5_col5\" class=\"data row5 col5\" >3.0922</td>\n",
       "      <td id=\"T_52dff_row5_col6\" class=\"data row5 col6\" >1.7571</td>\n",
       "      <td id=\"T_52dff_row5_col7\" class=\"data row5 col7\" >0.1880</td>\n",
       "    </tr>\n",
       "    <tr>\n",
       "      <th id=\"T_52dff_level0_row6\" class=\"row_heading level0 row6\" >br</th>\n",
       "      <td id=\"T_52dff_row6_col0\" class=\"data row6 col0\" >Bayesian Ridge</td>\n",
       "      <td id=\"T_52dff_row6_col1\" class=\"data row6 col1\" >100.9460</td>\n",
       "      <td id=\"T_52dff_row6_col2\" class=\"data row6 col2\" >15226.0654</td>\n",
       "      <td id=\"T_52dff_row6_col3\" class=\"data row6 col3\" >123.3932</td>\n",
       "      <td id=\"T_52dff_row6_col4\" class=\"data row6 col4\" >0.8031</td>\n",
       "      <td id=\"T_52dff_row6_col5\" class=\"data row6 col5\" >3.0922</td>\n",
       "      <td id=\"T_52dff_row6_col6\" class=\"data row6 col6\" >1.7572</td>\n",
       "      <td id=\"T_52dff_row6_col7\" class=\"data row6 col7\" >0.2430</td>\n",
       "    </tr>\n",
       "    <tr>\n",
       "      <th id=\"T_52dff_level0_row7\" class=\"row_heading level0 row7\" >lasso</th>\n",
       "      <td id=\"T_52dff_row7_col0\" class=\"data row7 col0\" >Lasso Regression</td>\n",
       "      <td id=\"T_52dff_row7_col1\" class=\"data row7 col1\" >104.8932</td>\n",
       "      <td id=\"T_52dff_row7_col2\" class=\"data row7 col2\" >16247.2504</td>\n",
       "      <td id=\"T_52dff_row7_col3\" class=\"data row7 col3\" >127.4637</td>\n",
       "      <td id=\"T_52dff_row7_col4\" class=\"data row7 col4\" >0.7899</td>\n",
       "      <td id=\"T_52dff_row7_col5\" class=\"data row7 col5\" >3.1147</td>\n",
       "      <td id=\"T_52dff_row7_col6\" class=\"data row7 col6\" >1.9128</td>\n",
       "      <td id=\"T_52dff_row7_col7\" class=\"data row7 col7\" >1.1350</td>\n",
       "    </tr>\n",
       "    <tr>\n",
       "      <th id=\"T_52dff_level0_row8\" class=\"row_heading level0 row8\" >en</th>\n",
       "      <td id=\"T_52dff_row8_col0\" class=\"data row8 col0\" >Elastic Net</td>\n",
       "      <td id=\"T_52dff_row8_col1\" class=\"data row8 col1\" >106.0432</td>\n",
       "      <td id=\"T_52dff_row8_col2\" class=\"data row8 col2\" >16486.8028</td>\n",
       "      <td id=\"T_52dff_row8_col3\" class=\"data row8 col3\" >128.3999</td>\n",
       "      <td id=\"T_52dff_row8_col4\" class=\"data row8 col4\" >0.7868</td>\n",
       "      <td id=\"T_52dff_row8_col5\" class=\"data row8 col5\" >3.1206</td>\n",
       "      <td id=\"T_52dff_row8_col6\" class=\"data row8 col6\" >2.0444</td>\n",
       "      <td id=\"T_52dff_row8_col7\" class=\"data row8 col7\" >1.1470</td>\n",
       "    </tr>\n",
       "    <tr>\n",
       "      <th id=\"T_52dff_level0_row9\" class=\"row_heading level0 row9\" >huber</th>\n",
       "      <td id=\"T_52dff_row9_col0\" class=\"data row9 col0\" >Huber Regressor</td>\n",
       "      <td id=\"T_52dff_row9_col1\" class=\"data row9 col1\" >111.3626</td>\n",
       "      <td id=\"T_52dff_row9_col2\" class=\"data row9 col2\" >18114.9929</td>\n",
       "      <td id=\"T_52dff_row9_col3\" class=\"data row9 col3\" >134.5906</td>\n",
       "      <td id=\"T_52dff_row9_col4\" class=\"data row9 col4\" >0.7657</td>\n",
       "      <td id=\"T_52dff_row9_col5\" class=\"data row9 col5\" >3.1828</td>\n",
       "      <td id=\"T_52dff_row9_col6\" class=\"data row9 col6\" >1.9146</td>\n",
       "      <td id=\"T_52dff_row9_col7\" class=\"data row9 col7\" >2.1710</td>\n",
       "    </tr>\n",
       "    <tr>\n",
       "      <th id=\"T_52dff_level0_row10\" class=\"row_heading level0 row10\" >omp</th>\n",
       "      <td id=\"T_52dff_row10_col0\" class=\"data row10 col0\" >Orthogonal Matching Pursuit</td>\n",
       "      <td id=\"T_52dff_row10_col1\" class=\"data row10 col1\" >116.2484</td>\n",
       "      <td id=\"T_52dff_row10_col2\" class=\"data row10 col2\" >19568.6119</td>\n",
       "      <td id=\"T_52dff_row10_col3\" class=\"data row10 col3\" >139.8867</td>\n",
       "      <td id=\"T_52dff_row10_col4\" class=\"data row10 col4\" >0.7469</td>\n",
       "      <td id=\"T_52dff_row10_col5\" class=\"data row10 col5\" >3.1844</td>\n",
       "      <td id=\"T_52dff_row10_col6\" class=\"data row10 col6\" >2.4702</td>\n",
       "      <td id=\"T_52dff_row10_col7\" class=\"data row10 col7\" >0.1700</td>\n",
       "    </tr>\n",
       "    <tr>\n",
       "      <th id=\"T_52dff_level0_row11\" class=\"row_heading level0 row11\" >par</th>\n",
       "      <td id=\"T_52dff_row11_col0\" class=\"data row11 col0\" >Passive Aggressive Regressor</td>\n",
       "      <td id=\"T_52dff_row11_col1\" class=\"data row11 col1\" >133.9589</td>\n",
       "      <td id=\"T_52dff_row11_col2\" class=\"data row11 col2\" >27586.5999</td>\n",
       "      <td id=\"T_52dff_row11_col3\" class=\"data row11 col3\" >160.1619</td>\n",
       "      <td id=\"T_52dff_row11_col4\" class=\"data row11 col4\" >0.6428</td>\n",
       "      <td id=\"T_52dff_row11_col5\" class=\"data row11 col5\" >3.3097</td>\n",
       "      <td id=\"T_52dff_row11_col6\" class=\"data row11 col6\" >2.1409</td>\n",
       "      <td id=\"T_52dff_row11_col7\" class=\"data row11 col7\" >0.3620</td>\n",
       "    </tr>\n",
       "    <tr>\n",
       "      <th id=\"T_52dff_level0_row12\" class=\"row_heading level0 row12\" >llar</th>\n",
       "      <td id=\"T_52dff_row12_col0\" class=\"data row12 col0\" >Lasso Least Angle Regression</td>\n",
       "      <td id=\"T_52dff_row12_col1\" class=\"data row12 col1\" >251.6566</td>\n",
       "      <td id=\"T_52dff_row12_col2\" class=\"data row12 col2\" >77333.1447</td>\n",
       "      <td id=\"T_52dff_row12_col3\" class=\"data row12 col3\" >278.0870</td>\n",
       "      <td id=\"T_52dff_row12_col4\" class=\"data row12 col4\" >-0.0000</td>\n",
       "      <td id=\"T_52dff_row12_col5\" class=\"data row12 col5\" >3.9288</td>\n",
       "      <td id=\"T_52dff_row12_col6\" class=\"data row12 col6\" >2.5075</td>\n",
       "      <td id=\"T_52dff_row12_col7\" class=\"data row12 col7\" >0.1810</td>\n",
       "    </tr>\n",
       "  </tbody>\n",
       "</table>\n"
      ],
      "text/plain": [
       "<pandas.io.formats.style.Styler at 0x19a8f3180d0>"
      ]
     },
     "metadata": {},
     "output_type": "display_data"
    },
    {
     "data": {
      "application/vnd.jupyter.widget-view+json": {
       "model_id": "2b8c1bc1fba84cf080a2eaf92333b5e1",
       "version_major": 2,
       "version_minor": 0
      },
      "text/plain": [
       "Processing:   0%|          | 0/81 [00:00<?, ?it/s]"
      ]
     },
     "metadata": {},
     "output_type": "display_data"
    },
    {
     "ename": "KeyboardInterrupt",
     "evalue": "",
     "output_type": "error",
     "traceback": [
      "\u001b[1;31m---------------------------------------------------------------------------\u001b[0m",
      "\u001b[1;31mKeyboardInterrupt\u001b[0m                         Traceback (most recent call last)",
      "Input \u001b[1;32mIn [8]\u001b[0m, in \u001b[0;36m<cell line: 1>\u001b[1;34m()\u001b[0m\n\u001b[1;32m----> 1\u001b[0m best \u001b[38;5;241m=\u001b[39m \u001b[43mcompare_models\u001b[49m\u001b[43m(\u001b[49m\u001b[43m)\u001b[49m\n",
      "File \u001b[1;32m~\\anaconda3\\lib\\site-packages\\pycaret\\utils\\generic.py:965\u001b[0m, in \u001b[0;36mcheck_if_global_is_not_none.<locals>.decorator.<locals>.wrapper\u001b[1;34m(*args, **kwargs)\u001b[0m\n\u001b[0;32m    963\u001b[0m     \u001b[38;5;28;01mif\u001b[39;00m globals_d[name] \u001b[38;5;129;01mis\u001b[39;00m \u001b[38;5;28;01mNone\u001b[39;00m:\n\u001b[0;32m    964\u001b[0m         \u001b[38;5;28;01mraise\u001b[39;00m \u001b[38;5;167;01mValueError\u001b[39;00m(message)\n\u001b[1;32m--> 965\u001b[0m \u001b[38;5;28;01mreturn\u001b[39;00m func(\u001b[38;5;241m*\u001b[39margs, \u001b[38;5;241m*\u001b[39m\u001b[38;5;241m*\u001b[39mkwargs)\n",
      "File \u001b[1;32m~\\anaconda3\\lib\\site-packages\\pycaret\\regression\\functional.py:813\u001b[0m, in \u001b[0;36mcompare_models\u001b[1;34m(include, exclude, fold, round, cross_validation, sort, n_select, budget_time, turbo, errors, fit_kwargs, groups, experiment_custom_tags, engine, verbose, parallel)\u001b[0m\n\u001b[0;32m    678\u001b[0m \u001b[38;5;129m@check_if_global_is_not_none\u001b[39m(\u001b[38;5;28mglobals\u001b[39m(), _CURRENT_EXPERIMENT_DECORATOR_DICT)\n\u001b[0;32m    679\u001b[0m \u001b[38;5;28;01mdef\u001b[39;00m \u001b[38;5;21mcompare_models\u001b[39m(\n\u001b[0;32m    680\u001b[0m     include: Optional[List[Union[\u001b[38;5;28mstr\u001b[39m, Any]]] \u001b[38;5;241m=\u001b[39m \u001b[38;5;28;01mNone\u001b[39;00m,\n\u001b[1;32m   (...)\u001b[0m\n\u001b[0;32m    695\u001b[0m     parallel: Optional[ParallelBackend] \u001b[38;5;241m=\u001b[39m \u001b[38;5;28;01mNone\u001b[39;00m,\n\u001b[0;32m    696\u001b[0m ):\n\u001b[0;32m    697\u001b[0m \u001b[38;5;250m    \u001b[39m\u001b[38;5;124;03m\"\"\"\u001b[39;00m\n\u001b[0;32m    698\u001b[0m \u001b[38;5;124;03m    This function trains and evaluates performance of all estimators available in the\u001b[39;00m\n\u001b[0;32m    699\u001b[0m \u001b[38;5;124;03m    model library using cross validation. The output of this function is a score grid\u001b[39;00m\n\u001b[1;32m   (...)\u001b[0m\n\u001b[0;32m    811\u001b[0m \n\u001b[0;32m    812\u001b[0m \u001b[38;5;124;03m    \"\"\"\u001b[39;00m\n\u001b[1;32m--> 813\u001b[0m     \u001b[38;5;28;01mreturn\u001b[39;00m \u001b[43m_CURRENT_EXPERIMENT\u001b[49m\u001b[38;5;241;43m.\u001b[39;49m\u001b[43mcompare_models\u001b[49m\u001b[43m(\u001b[49m\n\u001b[0;32m    814\u001b[0m \u001b[43m        \u001b[49m\u001b[43minclude\u001b[49m\u001b[38;5;241;43m=\u001b[39;49m\u001b[43minclude\u001b[49m\u001b[43m,\u001b[49m\n\u001b[0;32m    815\u001b[0m \u001b[43m        \u001b[49m\u001b[43mexclude\u001b[49m\u001b[38;5;241;43m=\u001b[39;49m\u001b[43mexclude\u001b[49m\u001b[43m,\u001b[49m\n\u001b[0;32m    816\u001b[0m \u001b[43m        \u001b[49m\u001b[43mfold\u001b[49m\u001b[38;5;241;43m=\u001b[39;49m\u001b[43mfold\u001b[49m\u001b[43m,\u001b[49m\n\u001b[0;32m    817\u001b[0m \u001b[43m        \u001b[49m\u001b[38;5;28;43mround\u001b[39;49m\u001b[38;5;241;43m=\u001b[39;49m\u001b[38;5;28;43mround\u001b[39;49m\u001b[43m,\u001b[49m\n\u001b[0;32m    818\u001b[0m \u001b[43m        \u001b[49m\u001b[43mcross_validation\u001b[49m\u001b[38;5;241;43m=\u001b[39;49m\u001b[43mcross_validation\u001b[49m\u001b[43m,\u001b[49m\n\u001b[0;32m    819\u001b[0m \u001b[43m        \u001b[49m\u001b[43msort\u001b[49m\u001b[38;5;241;43m=\u001b[39;49m\u001b[43msort\u001b[49m\u001b[43m,\u001b[49m\n\u001b[0;32m    820\u001b[0m \u001b[43m        \u001b[49m\u001b[43mn_select\u001b[49m\u001b[38;5;241;43m=\u001b[39;49m\u001b[43mn_select\u001b[49m\u001b[43m,\u001b[49m\n\u001b[0;32m    821\u001b[0m \u001b[43m        \u001b[49m\u001b[43mbudget_time\u001b[49m\u001b[38;5;241;43m=\u001b[39;49m\u001b[43mbudget_time\u001b[49m\u001b[43m,\u001b[49m\n\u001b[0;32m    822\u001b[0m \u001b[43m        \u001b[49m\u001b[43mturbo\u001b[49m\u001b[38;5;241;43m=\u001b[39;49m\u001b[43mturbo\u001b[49m\u001b[43m,\u001b[49m\n\u001b[0;32m    823\u001b[0m \u001b[43m        \u001b[49m\u001b[43merrors\u001b[49m\u001b[38;5;241;43m=\u001b[39;49m\u001b[43merrors\u001b[49m\u001b[43m,\u001b[49m\n\u001b[0;32m    824\u001b[0m \u001b[43m        \u001b[49m\u001b[43mfit_kwargs\u001b[49m\u001b[38;5;241;43m=\u001b[39;49m\u001b[43mfit_kwargs\u001b[49m\u001b[43m,\u001b[49m\n\u001b[0;32m    825\u001b[0m \u001b[43m        \u001b[49m\u001b[43mgroups\u001b[49m\u001b[38;5;241;43m=\u001b[39;49m\u001b[43mgroups\u001b[49m\u001b[43m,\u001b[49m\n\u001b[0;32m    826\u001b[0m \u001b[43m        \u001b[49m\u001b[43mexperiment_custom_tags\u001b[49m\u001b[38;5;241;43m=\u001b[39;49m\u001b[43mexperiment_custom_tags\u001b[49m\u001b[43m,\u001b[49m\n\u001b[0;32m    827\u001b[0m \u001b[43m        \u001b[49m\u001b[43mengine\u001b[49m\u001b[38;5;241;43m=\u001b[39;49m\u001b[43mengine\u001b[49m\u001b[43m,\u001b[49m\n\u001b[0;32m    828\u001b[0m \u001b[43m        \u001b[49m\u001b[43mverbose\u001b[49m\u001b[38;5;241;43m=\u001b[39;49m\u001b[43mverbose\u001b[49m\u001b[43m,\u001b[49m\n\u001b[0;32m    829\u001b[0m \u001b[43m        \u001b[49m\u001b[43mparallel\u001b[49m\u001b[38;5;241;43m=\u001b[39;49m\u001b[43mparallel\u001b[49m\u001b[43m,\u001b[49m\n\u001b[0;32m    830\u001b[0m \u001b[43m    \u001b[49m\u001b[43m)\u001b[49m\n",
      "File \u001b[1;32m~\\anaconda3\\lib\\site-packages\\pycaret\\regression\\oop.py:1128\u001b[0m, in \u001b[0;36mRegressionExperiment.compare_models\u001b[1;34m(self, include, exclude, fold, round, cross_validation, sort, n_select, budget_time, turbo, errors, fit_kwargs, groups, experiment_custom_tags, engine, verbose, parallel)\u001b[0m\n\u001b[0;32m   1125\u001b[0m         \u001b[38;5;28mself\u001b[39m\u001b[38;5;241m.\u001b[39m_set_engine(estimator\u001b[38;5;241m=\u001b[39mestimator, engine\u001b[38;5;241m=\u001b[39meng, severity\u001b[38;5;241m=\u001b[39m\u001b[38;5;124m\"\u001b[39m\u001b[38;5;124merror\u001b[39m\u001b[38;5;124m\"\u001b[39m)\n\u001b[0;32m   1127\u001b[0m \u001b[38;5;28;01mtry\u001b[39;00m:\n\u001b[1;32m-> 1128\u001b[0m     return_values \u001b[38;5;241m=\u001b[39m \u001b[38;5;28;43msuper\u001b[39;49m\u001b[43m(\u001b[49m\u001b[43m)\u001b[49m\u001b[38;5;241;43m.\u001b[39;49m\u001b[43mcompare_models\u001b[49m\u001b[43m(\u001b[49m\n\u001b[0;32m   1129\u001b[0m \u001b[43m        \u001b[49m\u001b[43minclude\u001b[49m\u001b[38;5;241;43m=\u001b[39;49m\u001b[43minclude\u001b[49m\u001b[43m,\u001b[49m\n\u001b[0;32m   1130\u001b[0m \u001b[43m        \u001b[49m\u001b[43mexclude\u001b[49m\u001b[38;5;241;43m=\u001b[39;49m\u001b[43mexclude\u001b[49m\u001b[43m,\u001b[49m\n\u001b[0;32m   1131\u001b[0m \u001b[43m        \u001b[49m\u001b[43mfold\u001b[49m\u001b[38;5;241;43m=\u001b[39;49m\u001b[43mfold\u001b[49m\u001b[43m,\u001b[49m\n\u001b[0;32m   1132\u001b[0m \u001b[43m        \u001b[49m\u001b[38;5;28;43mround\u001b[39;49m\u001b[38;5;241;43m=\u001b[39;49m\u001b[38;5;28;43mround\u001b[39;49m\u001b[43m,\u001b[49m\n\u001b[0;32m   1133\u001b[0m \u001b[43m        \u001b[49m\u001b[43mcross_validation\u001b[49m\u001b[38;5;241;43m=\u001b[39;49m\u001b[43mcross_validation\u001b[49m\u001b[43m,\u001b[49m\n\u001b[0;32m   1134\u001b[0m \u001b[43m        \u001b[49m\u001b[43msort\u001b[49m\u001b[38;5;241;43m=\u001b[39;49m\u001b[43msort\u001b[49m\u001b[43m,\u001b[49m\n\u001b[0;32m   1135\u001b[0m \u001b[43m        \u001b[49m\u001b[43mn_select\u001b[49m\u001b[38;5;241;43m=\u001b[39;49m\u001b[43mn_select\u001b[49m\u001b[43m,\u001b[49m\n\u001b[0;32m   1136\u001b[0m \u001b[43m        \u001b[49m\u001b[43mbudget_time\u001b[49m\u001b[38;5;241;43m=\u001b[39;49m\u001b[43mbudget_time\u001b[49m\u001b[43m,\u001b[49m\n\u001b[0;32m   1137\u001b[0m \u001b[43m        \u001b[49m\u001b[43mturbo\u001b[49m\u001b[38;5;241;43m=\u001b[39;49m\u001b[43mturbo\u001b[49m\u001b[43m,\u001b[49m\n\u001b[0;32m   1138\u001b[0m \u001b[43m        \u001b[49m\u001b[43merrors\u001b[49m\u001b[38;5;241;43m=\u001b[39;49m\u001b[43merrors\u001b[49m\u001b[43m,\u001b[49m\n\u001b[0;32m   1139\u001b[0m \u001b[43m        \u001b[49m\u001b[43mfit_kwargs\u001b[49m\u001b[38;5;241;43m=\u001b[39;49m\u001b[43mfit_kwargs\u001b[49m\u001b[43m,\u001b[49m\n\u001b[0;32m   1140\u001b[0m \u001b[43m        \u001b[49m\u001b[43mgroups\u001b[49m\u001b[38;5;241;43m=\u001b[39;49m\u001b[43mgroups\u001b[49m\u001b[43m,\u001b[49m\n\u001b[0;32m   1141\u001b[0m \u001b[43m        \u001b[49m\u001b[43mexperiment_custom_tags\u001b[49m\u001b[38;5;241;43m=\u001b[39;49m\u001b[43mexperiment_custom_tags\u001b[49m\u001b[43m,\u001b[49m\n\u001b[0;32m   1142\u001b[0m \u001b[43m        \u001b[49m\u001b[43mverbose\u001b[49m\u001b[38;5;241;43m=\u001b[39;49m\u001b[43mverbose\u001b[49m\u001b[43m,\u001b[49m\n\u001b[0;32m   1143\u001b[0m \u001b[43m        \u001b[49m\u001b[43mparallel\u001b[49m\u001b[38;5;241;43m=\u001b[39;49m\u001b[43mparallel\u001b[49m\u001b[43m,\u001b[49m\n\u001b[0;32m   1144\u001b[0m \u001b[43m        \u001b[49m\u001b[43mcaller_params\u001b[49m\u001b[38;5;241;43m=\u001b[39;49m\u001b[43mcaller_params\u001b[49m\u001b[43m,\u001b[49m\n\u001b[0;32m   1145\u001b[0m \u001b[43m    \u001b[49m\u001b[43m)\u001b[49m\n\u001b[0;32m   1147\u001b[0m \u001b[38;5;28;01mfinally\u001b[39;00m:\n\u001b[0;32m   1148\u001b[0m     \u001b[38;5;28;01mif\u001b[39;00m engine \u001b[38;5;129;01mis\u001b[39;00m \u001b[38;5;129;01mnot\u001b[39;00m \u001b[38;5;28;01mNone\u001b[39;00m:\n\u001b[0;32m   1149\u001b[0m         \u001b[38;5;66;03m# Reset the models back to the default engines\u001b[39;00m\n",
      "File \u001b[1;32m~\\anaconda3\\lib\\site-packages\\pycaret\\internal\\pycaret_experiment\\supervised_experiment.py:794\u001b[0m, in \u001b[0;36m_SupervisedExperiment.compare_models\u001b[1;34m(self, include, exclude, fold, round, cross_validation, sort, n_select, budget_time, turbo, errors, fit_kwargs, groups, experiment_custom_tags, probability_threshold, verbose, parallel, caller_params)\u001b[0m\n\u001b[0;32m    792\u001b[0m \u001b[38;5;28;01melse\u001b[39;00m:\n\u001b[0;32m    793\u001b[0m     \u001b[38;5;28;01mtry\u001b[39;00m:\n\u001b[1;32m--> 794\u001b[0m         model, model_fit_time \u001b[38;5;241m=\u001b[39m \u001b[38;5;28mself\u001b[39m\u001b[38;5;241m.\u001b[39m_create_model(\u001b[38;5;241m*\u001b[39m\u001b[38;5;241m*\u001b[39mcreate_model_args)\n\u001b[0;32m    795\u001b[0m         model_results \u001b[38;5;241m=\u001b[39m \u001b[38;5;28mself\u001b[39m\u001b[38;5;241m.\u001b[39mpull(pop\u001b[38;5;241m=\u001b[39m\u001b[38;5;28;01mTrue\u001b[39;00m)\n\u001b[0;32m    796\u001b[0m         \u001b[38;5;28;01massert\u001b[39;00m (\n\u001b[0;32m    797\u001b[0m             np\u001b[38;5;241m.\u001b[39msum(\n\u001b[0;32m    798\u001b[0m                 model_results\u001b[38;5;241m.\u001b[39mdrop(\n\u001b[1;32m   (...)\u001b[0m\n\u001b[0;32m    802\u001b[0m             \u001b[38;5;241m!=\u001b[39m \u001b[38;5;241m0.0\u001b[39m\n\u001b[0;32m    803\u001b[0m         )\n",
      "File \u001b[1;32m~\\anaconda3\\lib\\site-packages\\pycaret\\internal\\pycaret_experiment\\supervised_experiment.py:1521\u001b[0m, in \u001b[0;36m_SupervisedExperiment._create_model\u001b[1;34m(self, estimator, fold, round, cross_validation, predict, fit_kwargs, groups, refit, probability_threshold, experiment_custom_tags, verbose, system, add_to_model_list, X_train_data, y_train_data, metrics, display, model_only, return_train_score, **kwargs)\u001b[0m\n\u001b[0;32m   1518\u001b[0m         \u001b[38;5;28;01mreturn\u001b[39;00m model, model_fit_time\n\u001b[0;32m   1519\u001b[0m     \u001b[38;5;28;01mreturn\u001b[39;00m model\n\u001b[1;32m-> 1521\u001b[0m model, model_fit_time, model_results, _ \u001b[38;5;241m=\u001b[39m \u001b[38;5;28;43mself\u001b[39;49m\u001b[38;5;241;43m.\u001b[39;49m\u001b[43m_create_model_with_cv\u001b[49m\u001b[43m(\u001b[49m\n\u001b[0;32m   1522\u001b[0m \u001b[43m    \u001b[49m\u001b[43mmodel\u001b[49m\u001b[43m,\u001b[49m\n\u001b[0;32m   1523\u001b[0m \u001b[43m    \u001b[49m\u001b[43mdata_X\u001b[49m\u001b[43m,\u001b[49m\n\u001b[0;32m   1524\u001b[0m \u001b[43m    \u001b[49m\u001b[43mdata_y\u001b[49m\u001b[43m,\u001b[49m\n\u001b[0;32m   1525\u001b[0m \u001b[43m    \u001b[49m\u001b[43mfit_kwargs\u001b[49m\u001b[43m,\u001b[49m\n\u001b[0;32m   1526\u001b[0m \u001b[43m    \u001b[49m\u001b[38;5;28;43mround\u001b[39;49m\u001b[43m,\u001b[49m\n\u001b[0;32m   1527\u001b[0m \u001b[43m    \u001b[49m\u001b[43mcv\u001b[49m\u001b[43m,\u001b[49m\n\u001b[0;32m   1528\u001b[0m \u001b[43m    \u001b[49m\u001b[43mgroups\u001b[49m\u001b[43m,\u001b[49m\n\u001b[0;32m   1529\u001b[0m \u001b[43m    \u001b[49m\u001b[43mmetrics\u001b[49m\u001b[43m,\u001b[49m\n\u001b[0;32m   1530\u001b[0m \u001b[43m    \u001b[49m\u001b[43mrefit\u001b[49m\u001b[43m,\u001b[49m\n\u001b[0;32m   1531\u001b[0m \u001b[43m    \u001b[49m\u001b[43msystem\u001b[49m\u001b[43m,\u001b[49m\n\u001b[0;32m   1532\u001b[0m \u001b[43m    \u001b[49m\u001b[43mdisplay\u001b[49m\u001b[43m,\u001b[49m\n\u001b[0;32m   1533\u001b[0m \u001b[43m    \u001b[49m\u001b[43mreturn_train_score\u001b[49m\u001b[38;5;241;43m=\u001b[39;49m\u001b[43mreturn_train_score\u001b[49m\u001b[43m,\u001b[49m\n\u001b[0;32m   1534\u001b[0m \u001b[43m\u001b[49m\u001b[43m)\u001b[49m\n\u001b[0;32m   1536\u001b[0m \u001b[38;5;66;03m# end runtime\u001b[39;00m\n\u001b[0;32m   1537\u001b[0m runtime_end \u001b[38;5;241m=\u001b[39m time\u001b[38;5;241m.\u001b[39mtime()\n",
      "File \u001b[1;32m~\\anaconda3\\lib\\site-packages\\pycaret\\internal\\pycaret_experiment\\supervised_experiment.py:1116\u001b[0m, in \u001b[0;36m_SupervisedExperiment._create_model_with_cv\u001b[1;34m(self, model, data_X, data_y, fit_kwargs, round, cv, groups, metrics, refit, system, display, return_train_score)\u001b[0m\n\u001b[0;32m   1114\u001b[0m model_fit_start \u001b[38;5;241m=\u001b[39m time\u001b[38;5;241m.\u001b[39mtime()\n\u001b[0;32m   1115\u001b[0m \u001b[38;5;28;01mwith\u001b[39;00m redirect_output(\u001b[38;5;28mself\u001b[39m\u001b[38;5;241m.\u001b[39mlogger):\n\u001b[1;32m-> 1116\u001b[0m     scores \u001b[38;5;241m=\u001b[39m \u001b[43mcross_validate\u001b[49m\u001b[43m(\u001b[49m\n\u001b[0;32m   1117\u001b[0m \u001b[43m        \u001b[49m\u001b[43mpipeline_with_model\u001b[49m\u001b[43m,\u001b[49m\n\u001b[0;32m   1118\u001b[0m \u001b[43m        \u001b[49m\u001b[43mdata_X\u001b[49m\u001b[43m,\u001b[49m\n\u001b[0;32m   1119\u001b[0m \u001b[43m        \u001b[49m\u001b[43mdata_y\u001b[49m\u001b[43m,\u001b[49m\n\u001b[0;32m   1120\u001b[0m \u001b[43m        \u001b[49m\u001b[43mcv\u001b[49m\u001b[38;5;241;43m=\u001b[39;49m\u001b[43mcv\u001b[49m\u001b[43m,\u001b[49m\n\u001b[0;32m   1121\u001b[0m \u001b[43m        \u001b[49m\u001b[43mgroups\u001b[49m\u001b[38;5;241;43m=\u001b[39;49m\u001b[43mgroups\u001b[49m\u001b[43m,\u001b[49m\n\u001b[0;32m   1122\u001b[0m \u001b[43m        \u001b[49m\u001b[43mscoring\u001b[49m\u001b[38;5;241;43m=\u001b[39;49m\u001b[43mmetrics_dict\u001b[49m\u001b[43m,\u001b[49m\n\u001b[0;32m   1123\u001b[0m \u001b[43m        \u001b[49m\u001b[43mfit_params\u001b[49m\u001b[38;5;241;43m=\u001b[39;49m\u001b[43mfit_kwargs\u001b[49m\u001b[43m,\u001b[49m\n\u001b[0;32m   1124\u001b[0m \u001b[43m        \u001b[49m\u001b[43mn_jobs\u001b[49m\u001b[38;5;241;43m=\u001b[39;49m\u001b[43mn_jobs\u001b[49m\u001b[43m,\u001b[49m\n\u001b[0;32m   1125\u001b[0m \u001b[43m        \u001b[49m\u001b[43mreturn_train_score\u001b[49m\u001b[38;5;241;43m=\u001b[39;49m\u001b[43mreturn_train_score\u001b[49m\u001b[43m,\u001b[49m\n\u001b[0;32m   1126\u001b[0m \u001b[43m        \u001b[49m\u001b[43merror_score\u001b[49m\u001b[38;5;241;43m=\u001b[39;49m\u001b[38;5;241;43m0\u001b[39;49m\u001b[43m,\u001b[49m\n\u001b[0;32m   1127\u001b[0m \u001b[43m    \u001b[49m\u001b[43m)\u001b[49m\n\u001b[0;32m   1128\u001b[0m model_fit_end \u001b[38;5;241m=\u001b[39m time\u001b[38;5;241m.\u001b[39mtime()\n\u001b[0;32m   1129\u001b[0m model_fit_time \u001b[38;5;241m=\u001b[39m np\u001b[38;5;241m.\u001b[39marray(model_fit_end \u001b[38;5;241m-\u001b[39m model_fit_start)\u001b[38;5;241m.\u001b[39mround(\u001b[38;5;241m2\u001b[39m)\n",
      "File \u001b[1;32m~\\anaconda3\\lib\\site-packages\\sklearn\\model_selection\\_validation.py:267\u001b[0m, in \u001b[0;36mcross_validate\u001b[1;34m(estimator, X, y, groups, scoring, cv, n_jobs, verbose, fit_params, pre_dispatch, return_train_score, return_estimator, error_score)\u001b[0m\n\u001b[0;32m    264\u001b[0m \u001b[38;5;66;03m# We clone the estimator to make sure that all the folds are\u001b[39;00m\n\u001b[0;32m    265\u001b[0m \u001b[38;5;66;03m# independent, and that it is pickle-able.\u001b[39;00m\n\u001b[0;32m    266\u001b[0m parallel \u001b[38;5;241m=\u001b[39m Parallel(n_jobs\u001b[38;5;241m=\u001b[39mn_jobs, verbose\u001b[38;5;241m=\u001b[39mverbose, pre_dispatch\u001b[38;5;241m=\u001b[39mpre_dispatch)\n\u001b[1;32m--> 267\u001b[0m results \u001b[38;5;241m=\u001b[39m \u001b[43mparallel\u001b[49m\u001b[43m(\u001b[49m\n\u001b[0;32m    268\u001b[0m \u001b[43m    \u001b[49m\u001b[43mdelayed\u001b[49m\u001b[43m(\u001b[49m\u001b[43m_fit_and_score\u001b[49m\u001b[43m)\u001b[49m\u001b[43m(\u001b[49m\n\u001b[0;32m    269\u001b[0m \u001b[43m        \u001b[49m\u001b[43mclone\u001b[49m\u001b[43m(\u001b[49m\u001b[43mestimator\u001b[49m\u001b[43m)\u001b[49m\u001b[43m,\u001b[49m\n\u001b[0;32m    270\u001b[0m \u001b[43m        \u001b[49m\u001b[43mX\u001b[49m\u001b[43m,\u001b[49m\n\u001b[0;32m    271\u001b[0m \u001b[43m        \u001b[49m\u001b[43my\u001b[49m\u001b[43m,\u001b[49m\n\u001b[0;32m    272\u001b[0m \u001b[43m        \u001b[49m\u001b[43mscorers\u001b[49m\u001b[43m,\u001b[49m\n\u001b[0;32m    273\u001b[0m \u001b[43m        \u001b[49m\u001b[43mtrain\u001b[49m\u001b[43m,\u001b[49m\n\u001b[0;32m    274\u001b[0m \u001b[43m        \u001b[49m\u001b[43mtest\u001b[49m\u001b[43m,\u001b[49m\n\u001b[0;32m    275\u001b[0m \u001b[43m        \u001b[49m\u001b[43mverbose\u001b[49m\u001b[43m,\u001b[49m\n\u001b[0;32m    276\u001b[0m \u001b[43m        \u001b[49m\u001b[38;5;28;43;01mNone\u001b[39;49;00m\u001b[43m,\u001b[49m\n\u001b[0;32m    277\u001b[0m \u001b[43m        \u001b[49m\u001b[43mfit_params\u001b[49m\u001b[43m,\u001b[49m\n\u001b[0;32m    278\u001b[0m \u001b[43m        \u001b[49m\u001b[43mreturn_train_score\u001b[49m\u001b[38;5;241;43m=\u001b[39;49m\u001b[43mreturn_train_score\u001b[49m\u001b[43m,\u001b[49m\n\u001b[0;32m    279\u001b[0m \u001b[43m        \u001b[49m\u001b[43mreturn_times\u001b[49m\u001b[38;5;241;43m=\u001b[39;49m\u001b[38;5;28;43;01mTrue\u001b[39;49;00m\u001b[43m,\u001b[49m\n\u001b[0;32m    280\u001b[0m \u001b[43m        \u001b[49m\u001b[43mreturn_estimator\u001b[49m\u001b[38;5;241;43m=\u001b[39;49m\u001b[43mreturn_estimator\u001b[49m\u001b[43m,\u001b[49m\n\u001b[0;32m    281\u001b[0m \u001b[43m        \u001b[49m\u001b[43merror_score\u001b[49m\u001b[38;5;241;43m=\u001b[39;49m\u001b[43merror_score\u001b[49m\u001b[43m,\u001b[49m\n\u001b[0;32m    282\u001b[0m \u001b[43m    \u001b[49m\u001b[43m)\u001b[49m\n\u001b[0;32m    283\u001b[0m \u001b[43m    \u001b[49m\u001b[38;5;28;43;01mfor\u001b[39;49;00m\u001b[43m \u001b[49m\u001b[43mtrain\u001b[49m\u001b[43m,\u001b[49m\u001b[43m \u001b[49m\u001b[43mtest\u001b[49m\u001b[43m \u001b[49m\u001b[38;5;129;43;01min\u001b[39;49;00m\u001b[43m \u001b[49m\u001b[43mcv\u001b[49m\u001b[38;5;241;43m.\u001b[39;49m\u001b[43msplit\u001b[49m\u001b[43m(\u001b[49m\u001b[43mX\u001b[49m\u001b[43m,\u001b[49m\u001b[43m \u001b[49m\u001b[43my\u001b[49m\u001b[43m,\u001b[49m\u001b[43m \u001b[49m\u001b[43mgroups\u001b[49m\u001b[43m)\u001b[49m\n\u001b[0;32m    284\u001b[0m \u001b[43m\u001b[49m\u001b[43m)\u001b[49m\n\u001b[0;32m    286\u001b[0m _warn_about_fit_failures(results, error_score)\n\u001b[0;32m    288\u001b[0m \u001b[38;5;66;03m# For callabe scoring, the return type is only know after calling. If the\u001b[39;00m\n\u001b[0;32m    289\u001b[0m \u001b[38;5;66;03m# return type is a dictionary, the error scores can now be inserted with\u001b[39;00m\n\u001b[0;32m    290\u001b[0m \u001b[38;5;66;03m# the correct key.\u001b[39;00m\n",
      "File \u001b[1;32m~\\anaconda3\\lib\\site-packages\\joblib\\parallel.py:1944\u001b[0m, in \u001b[0;36mParallel.__call__\u001b[1;34m(self, iterable)\u001b[0m\n\u001b[0;32m   1938\u001b[0m \u001b[38;5;66;03m# The first item from the output is blank, but it makes the interpreter\u001b[39;00m\n\u001b[0;32m   1939\u001b[0m \u001b[38;5;66;03m# progress until it enters the Try/Except block of the generator and\u001b[39;00m\n\u001b[0;32m   1940\u001b[0m \u001b[38;5;66;03m# reach the first `yield` statement. This starts the aynchronous\u001b[39;00m\n\u001b[0;32m   1941\u001b[0m \u001b[38;5;66;03m# dispatch of the tasks to the workers.\u001b[39;00m\n\u001b[0;32m   1942\u001b[0m \u001b[38;5;28mnext\u001b[39m(output)\n\u001b[1;32m-> 1944\u001b[0m \u001b[38;5;28;01mreturn\u001b[39;00m output \u001b[38;5;28;01mif\u001b[39;00m \u001b[38;5;28mself\u001b[39m\u001b[38;5;241m.\u001b[39mreturn_generator \u001b[38;5;28;01melse\u001b[39;00m \u001b[38;5;28;43mlist\u001b[39;49m\u001b[43m(\u001b[49m\u001b[43moutput\u001b[49m\u001b[43m)\u001b[49m\n",
      "File \u001b[1;32m~\\anaconda3\\lib\\site-packages\\joblib\\parallel.py:1587\u001b[0m, in \u001b[0;36mParallel._get_outputs\u001b[1;34m(self, iterator, pre_dispatch)\u001b[0m\n\u001b[0;32m   1584\u001b[0m     \u001b[38;5;28;01myield\u001b[39;00m\n\u001b[0;32m   1586\u001b[0m     \u001b[38;5;28;01mwith\u001b[39;00m \u001b[38;5;28mself\u001b[39m\u001b[38;5;241m.\u001b[39m_backend\u001b[38;5;241m.\u001b[39mretrieval_context():\n\u001b[1;32m-> 1587\u001b[0m         \u001b[38;5;28;01myield from\u001b[39;00m \u001b[38;5;28mself\u001b[39m\u001b[38;5;241m.\u001b[39m_retrieve()\n\u001b[0;32m   1589\u001b[0m \u001b[38;5;28;01mexcept\u001b[39;00m \u001b[38;5;167;01mGeneratorExit\u001b[39;00m:\n\u001b[0;32m   1590\u001b[0m     \u001b[38;5;66;03m# The generator has been garbage collected before being fully\u001b[39;00m\n\u001b[0;32m   1591\u001b[0m     \u001b[38;5;66;03m# consumed. This aborts the remaining tasks if possible and warn\u001b[39;00m\n\u001b[0;32m   1592\u001b[0m     \u001b[38;5;66;03m# the user if necessary.\u001b[39;00m\n\u001b[0;32m   1593\u001b[0m     \u001b[38;5;28mself\u001b[39m\u001b[38;5;241m.\u001b[39m_exception \u001b[38;5;241m=\u001b[39m \u001b[38;5;28;01mTrue\u001b[39;00m\n",
      "File \u001b[1;32m~\\anaconda3\\lib\\site-packages\\joblib\\parallel.py:1699\u001b[0m, in \u001b[0;36mParallel._retrieve\u001b[1;34m(self)\u001b[0m\n\u001b[0;32m   1694\u001b[0m \u001b[38;5;66;03m# If the next job is not ready for retrieval yet, we just wait for\u001b[39;00m\n\u001b[0;32m   1695\u001b[0m \u001b[38;5;66;03m# async callbacks to progress.\u001b[39;00m\n\u001b[0;32m   1696\u001b[0m \u001b[38;5;28;01mif\u001b[39;00m ((\u001b[38;5;28mlen\u001b[39m(\u001b[38;5;28mself\u001b[39m\u001b[38;5;241m.\u001b[39m_jobs) \u001b[38;5;241m==\u001b[39m \u001b[38;5;241m0\u001b[39m) \u001b[38;5;129;01mor\u001b[39;00m\n\u001b[0;32m   1697\u001b[0m     (\u001b[38;5;28mself\u001b[39m\u001b[38;5;241m.\u001b[39m_jobs[\u001b[38;5;241m0\u001b[39m]\u001b[38;5;241m.\u001b[39mget_status(\n\u001b[0;32m   1698\u001b[0m         timeout\u001b[38;5;241m=\u001b[39m\u001b[38;5;28mself\u001b[39m\u001b[38;5;241m.\u001b[39mtimeout) \u001b[38;5;241m==\u001b[39m TASK_PENDING)):\n\u001b[1;32m-> 1699\u001b[0m     \u001b[43mtime\u001b[49m\u001b[38;5;241;43m.\u001b[39;49m\u001b[43msleep\u001b[49m\u001b[43m(\u001b[49m\u001b[38;5;241;43m0.01\u001b[39;49m\u001b[43m)\u001b[49m\n\u001b[0;32m   1700\u001b[0m     \u001b[38;5;28;01mcontinue\u001b[39;00m\n\u001b[0;32m   1702\u001b[0m \u001b[38;5;66;03m# We need to be careful: the job list can be filling up as\u001b[39;00m\n\u001b[0;32m   1703\u001b[0m \u001b[38;5;66;03m# we empty it and Python list are not thread-safe by\u001b[39;00m\n\u001b[0;32m   1704\u001b[0m \u001b[38;5;66;03m# default hence the use of the lock\u001b[39;00m\n",
      "\u001b[1;31mKeyboardInterrupt\u001b[0m: "
     ]
    }
   ],
   "source": [
    "best = compare_models()"
   ]
  },
  {
   "cell_type": "code",
   "execution_count": null,
   "id": "30f34ab2",
   "metadata": {},
   "outputs": [],
   "source": []
  }
 ],
 "metadata": {
  "kernelspec": {
   "display_name": "Python 3 (ipykernel)",
   "language": "python",
   "name": "python3"
  },
  "language_info": {
   "codemirror_mode": {
    "name": "ipython",
    "version": 3
   },
   "file_extension": ".py",
   "mimetype": "text/x-python",
   "name": "python",
   "nbconvert_exporter": "python",
   "pygments_lexer": "ipython3",
   "version": "3.9.12"
  }
 },
 "nbformat": 4,
 "nbformat_minor": 5
}
